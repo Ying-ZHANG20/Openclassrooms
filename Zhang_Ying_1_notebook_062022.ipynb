{
 "cells": [
  {
   "cell_type": "markdown",
   "id": "a2c9174d",
   "metadata": {},
   "source": [
    "# Projet 4"
   ]
  },
  {
   "cell_type": "code",
   "execution_count": 1,
   "id": "3e698d52",
   "metadata": {},
   "outputs": [],
   "source": [
    "import pandas as pd\n",
    "import numpy as np\n",
    "\n",
    "aideali = pd.read_csv('P4/Data/aide_alimentaire.csv')\n",
    "dispo = pd.read_csv('P4/Data/dispo_alimentaire.csv')\n",
    "population = pd.read_csv('P4/Data/population.csv')\n",
    "sn = pd.read_csv('P4/Data/sous_nutrition.csv')\n",
    "cereales = pd.read_csv('P4/Data/cereale.csv', encoding = 'latin1')\n",
    "\n",
    "# Preparation des donnees\n",
    "sn.rename(columns = {'Année': 'Année_sn', 'Valeur':'Valeur_sn'}, inplace = True)\n",
    "population.rename(columns = {'Année': 'Année_po', 'Valeur':'Valeur_po'}, inplace = True)\n",
    "\n",
    "sn2017 = sn.loc[sn['Année_sn'] == '2016-2018',:]\n",
    "pop2017 = population.loc[population['Année_po'] == 2017,:]\n",
    "\n",
    "\n",
    "dfprop = sn2017.merge(pop2017, on = 'Zone', how = 'left')\n",
    "dfprop['Valeur_sn'] = dfprop['Valeur_sn']*1000 # unité: million et milliers d'habitants"
   ]
  },
  {
   "cell_type": "markdown",
   "id": "01c7ada6",
   "metadata": {},
   "source": [
    "## 1. la proportion de personnes en état de sous-nutrition en 2017\n",
    "7.1%"
   ]
  },
  {
   "cell_type": "code",
   "execution_count": 2,
   "id": "5d7d0f01",
   "metadata": {},
   "outputs": [
    {
     "name": "stdout",
     "output_type": "stream",
     "text": [
      "7.10%\n"
     ]
    }
   ],
   "source": [
    "a = dfprop['Valeur_sn'].sum()\n",
    "b = dfprop['Valeur_po'].sum()\n",
    "\n",
    "c = \"{:.2%}\".format(a/b)\n",
    "\n",
    "print (c)"
   ]
  },
  {
   "cell_type": "markdown",
   "id": "7a42ac98",
   "metadata": {},
   "source": [
    "## 2. le nombre théorique de personnes qui pourraient être nourries. \n",
    "\n",
    "8367593850"
   ]
  },
  {
   "cell_type": "code",
   "execution_count": 3,
   "id": "e951454d",
   "metadata": {},
   "outputs": [
    {
     "data": {
      "text/plain": [
       "8367593851.0"
      ]
     },
     "execution_count": 3,
     "metadata": {},
     "output_type": "execute_result"
    }
   ],
   "source": [
    "kcal = dispo.groupby(['Zone'])['Disponibilité alimentaire (Kcal/personne/jour)'].sum().to_frame()\n",
    "kcaltotal = kcal.merge(pop2017, on = 'Zone', how = 'left')\n",
    "\n",
    "\n",
    "z = kcaltotal['Disponibilité alimentaire (Kcal/personne/jour)']*kcaltotal['Valeur_po']*1000\n",
    "(z.sum()/2500).round() #2500Kcal par adulte"
   ]
  },
  {
   "cell_type": "markdown",
   "id": "874fe565",
   "metadata": {},
   "source": [
    "## 3. idem pour la disponibilité alimentaire des produits végétaux\n",
    "\n",
    "6904305685"
   ]
  },
  {
   "cell_type": "code",
   "execution_count": 4,
   "id": "d6deb0e8",
   "metadata": {},
   "outputs": [
    {
     "data": {
      "text/plain": [
       "6904305685.0"
      ]
     },
     "execution_count": 4,
     "metadata": {},
     "output_type": "execute_result"
    }
   ],
   "source": [
    "# dispo.groupby(['Zone', 'Origine'])['Disponibilité alimentaire (Kcal/personne/jour)'].sum()\n",
    "veg = dispo.pivot_table(index ='Zone', columns = 'Origine', values = 'Disponibilité alimentaire (Kcal/personne/jour)',aggfunc='sum')\n",
    "vegcal = veg.merge(pop2017, on = 'Zone', how = 'left')\n",
    "\n",
    "\n",
    "y = vegcal['vegetale']*vegcal['Valeur_po']*1000\n",
    "(y.sum()/2500).round() #2500Kcal par adulte"
   ]
  },
  {
   "cell_type": "markdown",
   "id": "ad7022d5",
   "metadata": {},
   "source": [
    "## 4. l’utilisation de la disponibilité intérieure, en particulier la part qui est attribuée à l’alimentation animale, celle qui est perdue et celle qui est concrètement utilisée pour l'alimentation humaine. \n",
    "\n",
    "Disponibilité intérieure = Production + Importations - Exportations  \n",
    "\n",
    "Disponibilité intérieure = Aliments pour animaux + Nourriture + Autres Utilisations + Pertes\n",
    "\n",
    "{'Aliments pour animaux': '13.24%', 'Nourriture': '49.51%', 'Autres Utilisations': '8.78%', 'Pertes': '4.61%'}"
   ]
  },
  {
   "cell_type": "code",
   "execution_count": 5,
   "id": "1c81ab22",
   "metadata": {},
   "outputs": [
    {
     "name": "stdout",
     "output_type": "stream",
     "text": [
      "{'Aliments pour animaux': '13.24%', 'Nourriture': '49.51%', 'Autres Utilisations': '8.78%', 'Pertes': '4.61%'}\n"
     ]
    }
   ],
   "source": [
    "e = dispo['Aliments pour animaux'].sum()\n",
    "f = dispo['Nourriture'].sum()\n",
    "g = dispo['Autres Utilisations'].sum()\n",
    "h = dispo['Pertes'].sum()\n",
    "\n",
    "i = dispo['Disponibilité intérieure'].sum()\n",
    "\n",
    "j = \"{:.2%}\".format(e/i)\n",
    "k = \"{:.2%}\".format(f/i)\n",
    "l = \"{:.2%}\".format(g/i)\n",
    "m = \"{:.2%}\".format(h/i)\n",
    "\n",
    "\n",
    "utilisationdic = {\n",
    "\"Aliments pour animaux\": j,\n",
    "\"Nourriture\":k,\n",
    "\"Autres Utilisations\":l,\n",
    "\"Pertes\":m\n",
    "}\n",
    "\n",
    "print (utilisationdic)\n",
    "\n"
   ]
  },
  {
   "cell_type": "code",
   "execution_count": 6,
   "id": "5f4b45d2",
   "metadata": {},
   "outputs": [
    {
     "name": "stdout",
     "output_type": "stream",
     "text": [
      "{'Aliments pour animaux': '13.24%', 'Nourriture': '49.51%', 'Autres Utilisations': '8.78%', 'Pertes': '4.61%'}\n",
      "{'Aliments pour animaux': '13.24%', 'Nourriture': '49.51%', 'Autres Utilisations': '8.78%', 'Pertes': '4.61%'}\n"
     ]
    }
   ],
   "source": [
    "utilisationdict = {}\n",
    "n = dispo['Disponibilité intérieure'].sum()\n",
    "for o in ['Aliments pour animaux', 'Nourriture', 'Autres Utilisations', 'Pertes']:\n",
    "    p = dispo[o].sum()\n",
    "    q = \"{:.2%}\".format(p/n)\n",
    "\n",
    "    utilisationdict[o] = q\n",
    "print(utilisationdict)\n",
    "\n",
    "utilisationdict = {o: \"{:.2%}\".format(dispo[o].sum()/n) \n",
    "                   for o in ['Aliments pour animaux', 'Nourriture', 'Autres Utilisations', 'Pertes']}\n",
    "print(utilisationdict)\n"
   ]
  },
  {
   "cell_type": "markdown",
   "id": "1d054124",
   "metadata": {},
   "source": [
    "## 5. les pays pour lesquels la proportion de personnes sous-alimentées est la plus forte en 2017\n",
    "\n",
    "\n",
    "\n",
    "\n",
    "Haïti\t\n",
    "République populaire démocratique de Corée\t\n",
    "Madagascar\t\n",
    "Libéria\t\n",
    "Lesotho"
   ]
  },
  {
   "cell_type": "code",
   "execution_count": 7,
   "id": "0e4d4c7c",
   "metadata": {},
   "outputs": [
    {
     "data": {
      "text/html": [
       "<div>\n",
       "<style scoped>\n",
       "    .dataframe tbody tr th:only-of-type {\n",
       "        vertical-align: middle;\n",
       "    }\n",
       "\n",
       "    .dataframe tbody tr th {\n",
       "        vertical-align: top;\n",
       "    }\n",
       "\n",
       "    .dataframe thead th {\n",
       "        text-align: right;\n",
       "    }\n",
       "</style>\n",
       "<table border=\"1\" class=\"dataframe\">\n",
       "  <thead>\n",
       "    <tr style=\"text-align: right;\">\n",
       "      <th></th>\n",
       "      <th>Zone</th>\n",
       "      <th>Année_sn</th>\n",
       "      <th>Valeur_sn</th>\n",
       "      <th>Année_po</th>\n",
       "      <th>Valeur_po</th>\n",
       "      <th>ratio</th>\n",
       "    </tr>\n",
       "  </thead>\n",
       "  <tbody>\n",
       "    <tr>\n",
       "      <th>78</th>\n",
       "      <td>Haïti</td>\n",
       "      <td>2016-2018</td>\n",
       "      <td>5300.0</td>\n",
       "      <td>2017</td>\n",
       "      <td>10982.366</td>\n",
       "      <td>0.482592</td>\n",
       "    </tr>\n",
       "    <tr>\n",
       "      <th>157</th>\n",
       "      <td>République populaire démocratique de Corée</td>\n",
       "      <td>2016-2018</td>\n",
       "      <td>12000.0</td>\n",
       "      <td>2017</td>\n",
       "      <td>25429.825</td>\n",
       "      <td>0.471887</td>\n",
       "    </tr>\n",
       "    <tr>\n",
       "      <th>108</th>\n",
       "      <td>Madagascar</td>\n",
       "      <td>2016-2018</td>\n",
       "      <td>10500.0</td>\n",
       "      <td>2017</td>\n",
       "      <td>25570.512</td>\n",
       "      <td>0.410629</td>\n",
       "    </tr>\n",
       "    <tr>\n",
       "      <th>103</th>\n",
       "      <td>Libéria</td>\n",
       "      <td>2016-2018</td>\n",
       "      <td>1800.0</td>\n",
       "      <td>2017</td>\n",
       "      <td>4702.226</td>\n",
       "      <td>0.382797</td>\n",
       "    </tr>\n",
       "    <tr>\n",
       "      <th>100</th>\n",
       "      <td>Lesotho</td>\n",
       "      <td>2016-2018</td>\n",
       "      <td>800.0</td>\n",
       "      <td>2017</td>\n",
       "      <td>2091.534</td>\n",
       "      <td>0.382494</td>\n",
       "    </tr>\n",
       "    <tr>\n",
       "      <th>...</th>\n",
       "      <td>...</td>\n",
       "      <td>...</td>\n",
       "      <td>...</td>\n",
       "      <td>...</td>\n",
       "      <td>...</td>\n",
       "      <td>...</td>\n",
       "    </tr>\n",
       "    <tr>\n",
       "      <th>196</th>\n",
       "      <td>Uruguay</td>\n",
       "      <td>2016-2018</td>\n",
       "      <td>NaN</td>\n",
       "      <td>2017</td>\n",
       "      <td>3436.641</td>\n",
       "      <td>NaN</td>\n",
       "    </tr>\n",
       "    <tr>\n",
       "      <th>197</th>\n",
       "      <td>Vanuatu</td>\n",
       "      <td>2016-2018</td>\n",
       "      <td>NaN</td>\n",
       "      <td>2017</td>\n",
       "      <td>285.510</td>\n",
       "      <td>NaN</td>\n",
       "    </tr>\n",
       "    <tr>\n",
       "      <th>200</th>\n",
       "      <td>Yémen</td>\n",
       "      <td>2016-2018</td>\n",
       "      <td>NaN</td>\n",
       "      <td>2017</td>\n",
       "      <td>27834.819</td>\n",
       "      <td>NaN</td>\n",
       "    </tr>\n",
       "    <tr>\n",
       "      <th>201</th>\n",
       "      <td>Zambie</td>\n",
       "      <td>2016-2018</td>\n",
       "      <td>NaN</td>\n",
       "      <td>2017</td>\n",
       "      <td>16853.599</td>\n",
       "      <td>NaN</td>\n",
       "    </tr>\n",
       "    <tr>\n",
       "      <th>202</th>\n",
       "      <td>Zimbabwe</td>\n",
       "      <td>2016-2018</td>\n",
       "      <td>NaN</td>\n",
       "      <td>2017</td>\n",
       "      <td>14236.595</td>\n",
       "      <td>NaN</td>\n",
       "    </tr>\n",
       "  </tbody>\n",
       "</table>\n",
       "<p>203 rows × 6 columns</p>\n",
       "</div>"
      ],
      "text/plain": [
       "                                           Zone   Année_sn  Valeur_sn  \\\n",
       "78                                        Haïti  2016-2018     5300.0   \n",
       "157  République populaire démocratique de Corée  2016-2018    12000.0   \n",
       "108                                  Madagascar  2016-2018    10500.0   \n",
       "103                                     Libéria  2016-2018     1800.0   \n",
       "100                                     Lesotho  2016-2018      800.0   \n",
       "..                                          ...        ...        ...   \n",
       "196                                     Uruguay  2016-2018        NaN   \n",
       "197                                     Vanuatu  2016-2018        NaN   \n",
       "200                                       Yémen  2016-2018        NaN   \n",
       "201                                      Zambie  2016-2018        NaN   \n",
       "202                                    Zimbabwe  2016-2018        NaN   \n",
       "\n",
       "     Année_po  Valeur_po     ratio  \n",
       "78       2017  10982.366  0.482592  \n",
       "157      2017  25429.825  0.471887  \n",
       "108      2017  25570.512  0.410629  \n",
       "103      2017   4702.226  0.382797  \n",
       "100      2017   2091.534  0.382494  \n",
       "..        ...        ...       ...  \n",
       "196      2017   3436.641       NaN  \n",
       "197      2017    285.510       NaN  \n",
       "200      2017  27834.819       NaN  \n",
       "201      2017  16853.599       NaN  \n",
       "202      2017  14236.595       NaN  \n",
       "\n",
       "[203 rows x 6 columns]"
      ]
     },
     "execution_count": 7,
     "metadata": {},
     "output_type": "execute_result"
    }
   ],
   "source": [
    "dfprop['ratio'] = dfprop['Valeur_sn']/dfprop['Valeur_po'] \n",
    "dfprop.sort_values(by=['ratio'], ascending = False)\n",
    "\n",
    "\n"
   ]
  },
  {
   "cell_type": "markdown",
   "id": "190ea75c",
   "metadata": {},
   "source": [
    "## 6. ceux qui ont le plus bénéficié d’aide depuis 2013\n",
    "\n",
    "République arabe syrienne\t1858943  \n",
    "Éthiopie\t1381294  \n",
    "Yémen\t1206484  \n",
    "Soudan du Sud\t695248  \n",
    "Soudan\t669784\n",
    "\n"
   ]
  },
  {
   "cell_type": "code",
   "execution_count": 8,
   "id": "6da0be26",
   "metadata": {},
   "outputs": [
    {
     "data": {
      "text/html": [
       "<div>\n",
       "<style scoped>\n",
       "    .dataframe tbody tr th:only-of-type {\n",
       "        vertical-align: middle;\n",
       "    }\n",
       "\n",
       "    .dataframe tbody tr th {\n",
       "        vertical-align: top;\n",
       "    }\n",
       "\n",
       "    .dataframe thead th {\n",
       "        text-align: right;\n",
       "    }\n",
       "</style>\n",
       "<table border=\"1\" class=\"dataframe\">\n",
       "  <thead>\n",
       "    <tr style=\"text-align: right;\">\n",
       "      <th></th>\n",
       "      <th>Valeur</th>\n",
       "    </tr>\n",
       "    <tr>\n",
       "      <th>Pays bénéficiaire</th>\n",
       "      <th></th>\n",
       "    </tr>\n",
       "  </thead>\n",
       "  <tbody>\n",
       "    <tr>\n",
       "      <th>République arabe syrienne</th>\n",
       "      <td>1858943</td>\n",
       "    </tr>\n",
       "    <tr>\n",
       "      <th>Éthiopie</th>\n",
       "      <td>1381294</td>\n",
       "    </tr>\n",
       "    <tr>\n",
       "      <th>Yémen</th>\n",
       "      <td>1206484</td>\n",
       "    </tr>\n",
       "    <tr>\n",
       "      <th>Soudan du Sud</th>\n",
       "      <td>695248</td>\n",
       "    </tr>\n",
       "    <tr>\n",
       "      <th>Soudan</th>\n",
       "      <td>669784</td>\n",
       "    </tr>\n",
       "    <tr>\n",
       "      <th>...</th>\n",
       "      <td>...</td>\n",
       "    </tr>\n",
       "    <tr>\n",
       "      <th>Égypte</th>\n",
       "      <td>1122</td>\n",
       "    </tr>\n",
       "    <tr>\n",
       "      <th>Vanuatu</th>\n",
       "      <td>802</td>\n",
       "    </tr>\n",
       "    <tr>\n",
       "      <th>Timor-Leste</th>\n",
       "      <td>116</td>\n",
       "    </tr>\n",
       "    <tr>\n",
       "      <th>Géorgie</th>\n",
       "      <td>70</td>\n",
       "    </tr>\n",
       "    <tr>\n",
       "      <th>Bolivie (État plurinational de)</th>\n",
       "      <td>6</td>\n",
       "    </tr>\n",
       "  </tbody>\n",
       "</table>\n",
       "<p>76 rows × 1 columns</p>\n",
       "</div>"
      ],
      "text/plain": [
       "                                  Valeur\n",
       "Pays bénéficiaire                       \n",
       "République arabe syrienne        1858943\n",
       "Éthiopie                         1381294\n",
       "Yémen                            1206484\n",
       "Soudan du Sud                     695248\n",
       "Soudan                            669784\n",
       "...                                  ...\n",
       "Égypte                              1122\n",
       "Vanuatu                              802\n",
       "Timor-Leste                          116\n",
       "Géorgie                               70\n",
       "Bolivie (État plurinational de)        6\n",
       "\n",
       "[76 rows x 1 columns]"
      ]
     },
     "execution_count": 8,
     "metadata": {},
     "output_type": "execute_result"
    }
   ],
   "source": [
    "aid2013 = aideali.groupby(['Pays bénéficiaire'])['Valeur'].sum()\n",
    "aid2013= aid2013.to_frame()\n",
    "aid2013.sort_values(by =['Valeur'], ascending = False)\n",
    "\n",
    "#République arabe syrienne\t1858943\n",
    "#Éthiopie\t1381294\n",
    "#Yémen\t1206484\n",
    "#Soudan du Sud\t695248\n",
    "#Soudan\t669784"
   ]
  },
  {
   "cell_type": "markdown",
   "id": "d041b82e",
   "metadata": {},
   "source": [
    "## 7. ceux ayant le moins de disponibilité/habitant\n",
    "\n",
    "République centrafricaine  \n",
    "Zambie  \n",
    "Madagascar  \n",
    "Afghanistan  \n",
    "Haïti\t"
   ]
  },
  {
   "cell_type": "code",
   "execution_count": 9,
   "id": "2e6c92c6",
   "metadata": {},
   "outputs": [
    {
     "data": {
      "text/html": [
       "<div>\n",
       "<style scoped>\n",
       "    .dataframe tbody tr th:only-of-type {\n",
       "        vertical-align: middle;\n",
       "    }\n",
       "\n",
       "    .dataframe tbody tr th {\n",
       "        vertical-align: top;\n",
       "    }\n",
       "\n",
       "    .dataframe thead th {\n",
       "        text-align: right;\n",
       "    }\n",
       "</style>\n",
       "<table border=\"1\" class=\"dataframe\">\n",
       "  <thead>\n",
       "    <tr style=\"text-align: right;\">\n",
       "      <th></th>\n",
       "      <th>Zone</th>\n",
       "      <th>Disponibilité alimentaire (Kcal/personne/jour)</th>\n",
       "      <th>Année_po</th>\n",
       "      <th>Valeur_po</th>\n",
       "    </tr>\n",
       "  </thead>\n",
       "  <tbody>\n",
       "    <tr>\n",
       "      <th>128</th>\n",
       "      <td>République centrafricaine</td>\n",
       "      <td>1879.0</td>\n",
       "      <td>2017.0</td>\n",
       "      <td>4596.023</td>\n",
       "    </tr>\n",
       "    <tr>\n",
       "      <th>166</th>\n",
       "      <td>Zambie</td>\n",
       "      <td>1924.0</td>\n",
       "      <td>2017.0</td>\n",
       "      <td>16853.599</td>\n",
       "    </tr>\n",
       "    <tr>\n",
       "      <th>91</th>\n",
       "      <td>Madagascar</td>\n",
       "      <td>2056.0</td>\n",
       "      <td>2017.0</td>\n",
       "      <td>25570.512</td>\n",
       "    </tr>\n",
       "    <tr>\n",
       "      <th>0</th>\n",
       "      <td>Afghanistan</td>\n",
       "      <td>2087.0</td>\n",
       "      <td>2017.0</td>\n",
       "      <td>36296.113</td>\n",
       "    </tr>\n",
       "    <tr>\n",
       "      <th>65</th>\n",
       "      <td>Haïti</td>\n",
       "      <td>2089.0</td>\n",
       "      <td>2017.0</td>\n",
       "      <td>10982.366</td>\n",
       "    </tr>\n",
       "    <tr>\n",
       "      <th>...</th>\n",
       "      <td>...</td>\n",
       "      <td>...</td>\n",
       "      <td>...</td>\n",
       "      <td>...</td>\n",
       "    </tr>\n",
       "    <tr>\n",
       "      <th>74</th>\n",
       "      <td>Israël</td>\n",
       "      <td>3610.0</td>\n",
       "      <td>2017.0</td>\n",
       "      <td>8243.848</td>\n",
       "    </tr>\n",
       "    <tr>\n",
       "      <th>171</th>\n",
       "      <td>États-Unis d'Amérique</td>\n",
       "      <td>3682.0</td>\n",
       "      <td>2017.0</td>\n",
       "      <td>325084.756</td>\n",
       "    </tr>\n",
       "    <tr>\n",
       "      <th>159</th>\n",
       "      <td>Turquie</td>\n",
       "      <td>3708.0</td>\n",
       "      <td>2017.0</td>\n",
       "      <td>81116.450</td>\n",
       "    </tr>\n",
       "    <tr>\n",
       "      <th>16</th>\n",
       "      <td>Belgique</td>\n",
       "      <td>3737.0</td>\n",
       "      <td>2017.0</td>\n",
       "      <td>11419.748</td>\n",
       "    </tr>\n",
       "    <tr>\n",
       "      <th>11</th>\n",
       "      <td>Autriche</td>\n",
       "      <td>3770.0</td>\n",
       "      <td>2017.0</td>\n",
       "      <td>8819.901</td>\n",
       "    </tr>\n",
       "  </tbody>\n",
       "</table>\n",
       "<p>174 rows × 4 columns</p>\n",
       "</div>"
      ],
      "text/plain": [
       "                          Zone  \\\n",
       "128  République centrafricaine   \n",
       "166                     Zambie   \n",
       "91                  Madagascar   \n",
       "0                  Afghanistan   \n",
       "65                       Haïti   \n",
       "..                         ...   \n",
       "74                      Israël   \n",
       "171      États-Unis d'Amérique   \n",
       "159                    Turquie   \n",
       "16                    Belgique   \n",
       "11                    Autriche   \n",
       "\n",
       "     Disponibilité alimentaire (Kcal/personne/jour)  Année_po   Valeur_po  \n",
       "128                                          1879.0    2017.0    4596.023  \n",
       "166                                          1924.0    2017.0   16853.599  \n",
       "91                                           2056.0    2017.0   25570.512  \n",
       "0                                            2087.0    2017.0   36296.113  \n",
       "65                                           2089.0    2017.0   10982.366  \n",
       "..                                              ...       ...         ...  \n",
       "74                                           3610.0    2017.0    8243.848  \n",
       "171                                          3682.0    2017.0  325084.756  \n",
       "159                                          3708.0    2017.0   81116.450  \n",
       "16                                           3737.0    2017.0   11419.748  \n",
       "11                                           3770.0    2017.0    8819.901  \n",
       "\n",
       "[174 rows x 4 columns]"
      ]
     },
     "execution_count": 9,
     "metadata": {},
     "output_type": "execute_result"
    }
   ],
   "source": [
    "kcaltotal.sort_values(['Disponibilité alimentaire (Kcal/personne/jour)'])"
   ]
  },
  {
   "cell_type": "markdown",
   "id": "a2e971c6",
   "metadata": {},
   "source": [
    "## 8. ceux ayant le plus de disponibilité/habitant\n",
    "\n",
    "Autriche  \n",
    "Belgique  \n",
    "Turquie  \n",
    "États-Unis d'Amérique  \n",
    "Israël"
   ]
  },
  {
   "cell_type": "code",
   "execution_count": 10,
   "id": "26c2da7c",
   "metadata": {},
   "outputs": [
    {
     "data": {
      "text/html": [
       "<div>\n",
       "<style scoped>\n",
       "    .dataframe tbody tr th:only-of-type {\n",
       "        vertical-align: middle;\n",
       "    }\n",
       "\n",
       "    .dataframe tbody tr th {\n",
       "        vertical-align: top;\n",
       "    }\n",
       "\n",
       "    .dataframe thead th {\n",
       "        text-align: right;\n",
       "    }\n",
       "</style>\n",
       "<table border=\"1\" class=\"dataframe\">\n",
       "  <thead>\n",
       "    <tr style=\"text-align: right;\">\n",
       "      <th></th>\n",
       "      <th>Zone</th>\n",
       "      <th>Disponibilité alimentaire (Kcal/personne/jour)</th>\n",
       "      <th>Année_po</th>\n",
       "      <th>Valeur_po</th>\n",
       "    </tr>\n",
       "  </thead>\n",
       "  <tbody>\n",
       "    <tr>\n",
       "      <th>11</th>\n",
       "      <td>Autriche</td>\n",
       "      <td>3770.0</td>\n",
       "      <td>2017.0</td>\n",
       "      <td>8819.901</td>\n",
       "    </tr>\n",
       "    <tr>\n",
       "      <th>16</th>\n",
       "      <td>Belgique</td>\n",
       "      <td>3737.0</td>\n",
       "      <td>2017.0</td>\n",
       "      <td>11419.748</td>\n",
       "    </tr>\n",
       "    <tr>\n",
       "      <th>159</th>\n",
       "      <td>Turquie</td>\n",
       "      <td>3708.0</td>\n",
       "      <td>2017.0</td>\n",
       "      <td>81116.450</td>\n",
       "    </tr>\n",
       "    <tr>\n",
       "      <th>171</th>\n",
       "      <td>États-Unis d'Amérique</td>\n",
       "      <td>3682.0</td>\n",
       "      <td>2017.0</td>\n",
       "      <td>325084.756</td>\n",
       "    </tr>\n",
       "    <tr>\n",
       "      <th>74</th>\n",
       "      <td>Israël</td>\n",
       "      <td>3610.0</td>\n",
       "      <td>2017.0</td>\n",
       "      <td>8243.848</td>\n",
       "    </tr>\n",
       "    <tr>\n",
       "      <th>...</th>\n",
       "      <td>...</td>\n",
       "      <td>...</td>\n",
       "      <td>...</td>\n",
       "      <td>...</td>\n",
       "    </tr>\n",
       "    <tr>\n",
       "      <th>65</th>\n",
       "      <td>Haïti</td>\n",
       "      <td>2089.0</td>\n",
       "      <td>2017.0</td>\n",
       "      <td>10982.366</td>\n",
       "    </tr>\n",
       "    <tr>\n",
       "      <th>0</th>\n",
       "      <td>Afghanistan</td>\n",
       "      <td>2087.0</td>\n",
       "      <td>2017.0</td>\n",
       "      <td>36296.113</td>\n",
       "    </tr>\n",
       "    <tr>\n",
       "      <th>91</th>\n",
       "      <td>Madagascar</td>\n",
       "      <td>2056.0</td>\n",
       "      <td>2017.0</td>\n",
       "      <td>25570.512</td>\n",
       "    </tr>\n",
       "    <tr>\n",
       "      <th>166</th>\n",
       "      <td>Zambie</td>\n",
       "      <td>1924.0</td>\n",
       "      <td>2017.0</td>\n",
       "      <td>16853.599</td>\n",
       "    </tr>\n",
       "    <tr>\n",
       "      <th>128</th>\n",
       "      <td>République centrafricaine</td>\n",
       "      <td>1879.0</td>\n",
       "      <td>2017.0</td>\n",
       "      <td>4596.023</td>\n",
       "    </tr>\n",
       "  </tbody>\n",
       "</table>\n",
       "<p>174 rows × 4 columns</p>\n",
       "</div>"
      ],
      "text/plain": [
       "                          Zone  \\\n",
       "11                    Autriche   \n",
       "16                    Belgique   \n",
       "159                    Turquie   \n",
       "171      États-Unis d'Amérique   \n",
       "74                      Israël   \n",
       "..                         ...   \n",
       "65                       Haïti   \n",
       "0                  Afghanistan   \n",
       "91                  Madagascar   \n",
       "166                     Zambie   \n",
       "128  République centrafricaine   \n",
       "\n",
       "     Disponibilité alimentaire (Kcal/personne/jour)  Année_po   Valeur_po  \n",
       "11                                           3770.0    2017.0    8819.901  \n",
       "16                                           3737.0    2017.0   11419.748  \n",
       "159                                          3708.0    2017.0   81116.450  \n",
       "171                                          3682.0    2017.0  325084.756  \n",
       "74                                           3610.0    2017.0    8243.848  \n",
       "..                                              ...       ...         ...  \n",
       "65                                           2089.0    2017.0   10982.366  \n",
       "0                                            2087.0    2017.0   36296.113  \n",
       "91                                           2056.0    2017.0   25570.512  \n",
       "166                                          1924.0    2017.0   16853.599  \n",
       "128                                          1879.0    2017.0    4596.023  \n",
       "\n",
       "[174 rows x 4 columns]"
      ]
     },
     "execution_count": 10,
     "metadata": {},
     "output_type": "execute_result"
    }
   ],
   "source": [
    "kcaltotal.sort_values(['Disponibilité alimentaire (Kcal/personne/jour)'], ascending = False)"
   ]
  },
  {
   "cell_type": "markdown",
   "id": "6d4cff57",
   "metadata": {},
   "source": [
    "## 9. l’utilisation des céréales, notamment la répartition entre l’alimentation humaine (colonne Nourriture) et l’alimentation pour animaux. \n",
    "\n",
    "36.29% des céréales sont pour l'alimentation des animeaux, 42.75% sont pour l'alimentation humaine.\n",
    "   "
   ]
  },
  {
   "cell_type": "code",
   "execution_count": 20,
   "id": "44b01266",
   "metadata": {},
   "outputs": [
    {
     "data": {
      "text/plain": [
       "array(['Avoine', 'Bl? et produits', 'C?r?ales, Autres',\n",
       "       'Ma?s et produits', 'Millet et produits', 'Orge et produits',\n",
       "       'Riz et produits', 'Seigle et produits', 'Sorgho et produits'],\n",
       "      dtype=object)"
      ]
     },
     "execution_count": 20,
     "metadata": {},
     "output_type": "execute_result"
    }
   ],
   "source": [
    "cereales['Produit'].sort_values().unique() # pour prendre la liste des produits des céréales"
   ]
  },
  {
   "cell_type": "code",
   "execution_count": 21,
   "id": "c8af5ddc",
   "metadata": {},
   "outputs": [
    {
     "data": {
      "text/plain": [
       "array(['Abats Comestible', 'Agrumes, Autres', 'Alcool, non Comestible',\n",
       "       'Aliments pour enfants', 'Ananas', 'Animaux Aquatiques Autre',\n",
       "       'Arachides Decortiquees', 'Avoine', 'Bananes', 'Bananes plantains',\n",
       "       'Beurre, Ghee', 'Bière', 'Blé', 'Boissons Alcooliques',\n",
       "       'Boissons Fermentés', 'Café', 'Cephalopodes', 'Citrons & Limes',\n",
       "       'Coco (Incl Coprah)', 'Crustacés', 'Crème', 'Céréales, Autres',\n",
       "       'Dattes', 'Edulcorants Autres', 'Feve de Cacao', 'Fruits, Autres',\n",
       "       'Girofles', 'Graines Colza/Moutarde', 'Graines de coton',\n",
       "       'Graines de tournesol', 'Graisses Animales Crue', 'Haricots',\n",
       "       'Huil Plantes Oleif Autr', 'Huile Graines de Coton',\n",
       "       \"Huile d'Arachide\", \"Huile d'Olive\", 'Huile de Coco',\n",
       "       'Huile de Colza&Moutarde', 'Huile de Germe de Maïs',\n",
       "       'Huile de Palme', 'Huile de Palmistes', 'Huile de Soja',\n",
       "       'Huile de Son de Riz', 'Huile de Sésame', 'Huile de Tournesol',\n",
       "       'Huiles de Foie de Poisso', 'Huiles de Poissons', 'Ignames',\n",
       "       'Lait - Excl Beurre', 'Légumes, Autres', 'Légumineuses Autres',\n",
       "       'Manioc', 'Maïs', 'Miel', 'Millet', 'Miscellanees',\n",
       "       'Mollusques, Autres', 'Noix', 'Oeufs', 'Oignons', 'Olives',\n",
       "       'Oranges, Mandarines', 'Orge', 'Palmistes', 'Pamplemousse',\n",
       "       'Patates douces', 'Perciform', 'Piments', 'Plantes Aquatiques',\n",
       "       'Plantes Oleiferes, Autre', 'Pois', 'Poissons Eau Douce',\n",
       "       'Poissons Marins, Autres', 'Poissons Pelagiques', 'Poivre',\n",
       "       'Pommes', 'Pommes de Terre', 'Racines nda', 'Raisin',\n",
       "       'Riz (Eq Blanchi)', 'Seigle', 'Soja', 'Sorgho', 'Sucre Eq Brut',\n",
       "       'Sucre non centrifugé', 'Sucre, betterave', 'Sucre, canne',\n",
       "       'Sésame', 'Thé', 'Tomates', \"Viande d'Ovins/Caprins\",\n",
       "       'Viande de Anim Aquatiq', 'Viande de Bovins', 'Viande de Suides',\n",
       "       'Viande de Volailles', 'Viande, Autre', 'Vin', 'Épices, Autres'],\n",
       "      dtype=object)"
      ]
     },
     "execution_count": 21,
     "metadata": {},
     "output_type": "execute_result"
    }
   ],
   "source": [
    "dispo['Produit'].sort_values().unique()"
   ]
  },
  {
   "cell_type": "code",
   "execution_count": 26,
   "id": "4820298d",
   "metadata": {},
   "outputs": [
    {
     "name": "stdout",
     "output_type": "stream",
     "text": [
      "873535.0\n",
      "1029010.0\n",
      "2406999.0\n",
      "36.29%\n",
      "42.75%\n"
     ]
    }
   ],
   "source": [
    "dispo = pd.read_csv('P4/Data/dispo_alimentaire.csv')\n",
    "\n",
    "cereale = dispo.loc[dispo['Produit'].isin( ['Blé', 'Riz (Eq Blanchi)', 'Orge',\n",
    "       'Maïs', 'Seigle', 'Avoine',\n",
    "       'Millet', 'Sorgho', 'Céréales, Autres']),:]\n",
    "\n",
    "r = cereale['Aliments pour animaux'].sum()\n",
    "s = cereale['Nourriture'].sum()\n",
    "t = cereale['Disponibilité intérieure'].sum()\n",
    "\n",
    "ratioani = \"{:.2%}\".format (r/t)\n",
    "ratiohumain = \"{:.2%}\".format (s/t)\n",
    "\n",
    "print(r)\n",
    "print(s)\n",
    "print(t)\n",
    "print(ratioani)\n",
    "print(ratiohumain)\n"
   ]
  },
  {
   "cell_type": "markdown",
   "id": "8958c29b",
   "metadata": {},
   "source": [
    "## 10. Proportion de sous nutrition en Thaïlande\n",
    "\n",
    "8.96%"
   ]
  },
  {
   "cell_type": "code",
   "execution_count": 13,
   "id": "dc99f3dc",
   "metadata": {},
   "outputs": [
    {
     "name": "stdout",
     "output_type": "stream",
     "text": [
      "8.96%\n"
     ]
    }
   ],
   "source": [
    "u = float(sn2017.loc[sn2017['Zone'] == 'Thaïlande']['Valeur_sn'])*1000\n",
    "v = float(pop2017.loc[pop2017['Zone'] == 'Thaïlande']['Valeur_po'])\n",
    "w = \"{:.2%}\".format(u/v)\n",
    "\n",
    "print(w)"
   ]
  },
  {
   "cell_type": "markdown",
   "id": "0baa7ecc",
   "metadata": {},
   "source": [
    "## 11. Proportion de manioc exportée depuis Thaïlande\n",
    "\n",
    "69.94%"
   ]
  },
  {
   "cell_type": "code",
   "execution_count": 14,
   "id": "5f81fb35",
   "metadata": {},
   "outputs": [
    {
     "name": "stdout",
     "output_type": "stream",
     "text": [
      "69.94%\n"
     ]
    }
   ],
   "source": [
    "x = int(dispo.loc[dispo['Produit'] == 'Manioc']['Exportations - Quantité'].sum())\n",
    "y = int (dispo.loc[(dispo['Produit'] == 'Manioc')& (dispo['Zone'] == 'Thaïlande') ]['Exportations - Quantité'])\n",
    "\n",
    "z = \"{:.2%}\".format(y/x)\n",
    "print(z)"
   ]
  },
  {
   "cell_type": "code",
   "execution_count": null,
   "id": "94755c9a",
   "metadata": {},
   "outputs": [],
   "source": []
  }
 ],
 "metadata": {
  "kernelspec": {
   "display_name": "Python 3 (ipykernel)",
   "language": "python",
   "name": "python3"
  },
  "language_info": {
   "codemirror_mode": {
    "name": "ipython",
    "version": 3
   },
   "file_extension": ".py",
   "mimetype": "text/x-python",
   "name": "python",
   "nbconvert_exporter": "python",
   "pygments_lexer": "ipython3",
   "version": "3.9.12"
  }
 },
 "nbformat": 4,
 "nbformat_minor": 5
}
