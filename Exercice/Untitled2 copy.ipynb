{
 "cells": [
  {
   "cell_type": "markdown",
   "id": "b69c41c1",
   "metadata": {},
   "source": [
    "# Un titre de niveau 1"
   ]
  },
  {
   "cell_type": "markdown",
   "id": "4de49492",
   "metadata": {},
   "source": [
    "## titre de niveau 2"
   ]
  },
  {
   "cell_type": "markdown",
   "id": "45ce7f96",
   "metadata": {},
   "source": [
    "**Ceci** est très important"
   ]
  },
  {
   "cell_type": "markdown",
   "id": "cf9e310e",
   "metadata": {},
   "source": [
    "## autre titre de niveau 2"
   ]
  },
  {
   "cell_type": "code",
   "execution_count": 2,
   "id": "f8705730",
   "metadata": {},
   "outputs": [
    {
     "ename": "NameError",
     "evalue": "name 'Mais' is not defined",
     "output_type": "error",
     "traceback": [
      "\u001b[0;31m---------------------------------------------------------------------------\u001b[0m",
      "\u001b[0;31mNameError\u001b[0m                                 Traceback (most recent call last)",
      "Input \u001b[0;32mIn [2]\u001b[0m, in \u001b[0;36m<cell line: 1>\u001b[0;34m()\u001b[0m\n\u001b[0;32m----> 1\u001b[0m \u001b[43mMais\u001b[49m \u001b[38;5;241m*\u001b[39mcela\u001b[38;5;241m*\u001b[39m egalement\n",
      "\u001b[0;31mNameError\u001b[0m: name 'Mais' is not defined"
     ]
    }
   ],
   "source": [
    "Mais *cela* egalement"
   ]
  },
  {
   "cell_type": "markdown",
   "id": "a7bef8e6",
   "metadata": {},
   "source": [
    "Mais *cela* egalement"
   ]
  },
  {
   "cell_type": "code",
   "execution_count": 3,
   "id": "aab87376",
   "metadata": {},
   "outputs": [],
   "source": [
    "compteCourant = 500\n",
    "compteEpargne = 1000"
   ]
  },
  {
   "cell_type": "code",
   "execution_count": 4,
   "id": "be4048e1",
   "metadata": {},
   "outputs": [],
   "source": [
    "compteEpargne = compteEpargne +100"
   ]
  },
  {
   "cell_type": "code",
   "execution_count": 5,
   "id": "976d9be6",
   "metadata": {},
   "outputs": [],
   "source": [
    "compteCourant = compteCourant - 50\n",
    "nombreJoursEconomiser = (5000 - compteCourant)/500\n",
    "compteCourant = compteCourant + (30-10)*7\n"
   ]
  },
  {
   "cell_type": "code",
   "execution_count": 6,
   "id": "b3170ccd",
   "metadata": {},
   "outputs": [
    {
     "name": "stdout",
     "output_type": "stream",
     "text": [
      "100\n"
     ]
    }
   ],
   "source": [
    "print ( compteEpargne % 500)"
   ]
  },
  {
   "cell_type": "code",
   "execution_count": 7,
   "id": "e7d0d644",
   "metadata": {},
   "outputs": [
    {
     "name": "stdout",
     "output_type": "stream",
     "text": [
      "729\n"
     ]
    }
   ],
   "source": [
    "print(9**3)"
   ]
  },
  {
   "cell_type": "code",
   "execution_count": 8,
   "id": "df644c23",
   "metadata": {},
   "outputs": [
    {
     "name": "stdout",
     "output_type": "stream",
     "text": [
      "2\n"
     ]
    }
   ],
   "source": [
    "print(compteEpargne//500)"
   ]
  },
  {
   "cell_type": "code",
   "execution_count": 9,
   "id": "48f816de",
   "metadata": {},
   "outputs": [
    {
     "name": "stdout",
     "output_type": "stream",
     "text": [
      "1\n"
     ]
    }
   ],
   "source": [
    "print(600//500)"
   ]
  },
  {
   "cell_type": "code",
   "execution_count": 10,
   "id": "f81d479f",
   "metadata": {},
   "outputs": [],
   "source": [
    "#attention"
   ]
  },
  {
   "cell_type": "code",
   "execution_count": null,
   "id": "3bf02660",
   "metadata": {},
   "outputs": [],
   "source": [
    "compteEpargne = 10000\n",
    "taux = 0.75\n",
    "interets = compteEpargne * taux /100"
   ]
  }
 ],
 "metadata": {
  "kernelspec": {
   "display_name": "Python 3 (ipykernel)",
   "language": "python",
   "name": "python3"
  },
  "language_info": {
   "codemirror_mode": {
    "name": "ipython",
    "version": 3
   },
   "file_extension": ".py",
   "mimetype": "text/x-python",
   "name": "python",
   "nbconvert_exporter": "python",
   "pygments_lexer": "ipython3",
   "version": "3.9.12"
  }
 },
 "nbformat": 4,
 "nbformat_minor": 5
}
