{
 "cells": [
  {
   "cell_type": "code",
   "execution_count": 82,
   "id": "8442e534",
   "metadata": {},
   "outputs": [
    {
     "name": "stdout",
     "output_type": "stream",
     "text": [
      "     Position Sexe     Temps  Dept  Temps_secondes   Age\n",
      "0           1    M  00:32:23    76          779543  40.0\n",
      "1           2    M  00:32:40    27          779560  34.0\n",
      "2           3    M  00:33:15    76          779595  44.0\n",
      "3           4    M  00:33:23    76          779603  46.0\n",
      "4           5    M  00:33:29    76          779609  26.0\n",
      "..        ...  ...       ...   ...             ...   ...\n",
      "335       336    F  01:08:34    27          781714  41.0\n",
      "336       337    F  01:08:36    27          781716  48.0\n",
      "337       338    M  01:09:31    27          781771  24.0\n",
      "338       339    F  01:09:31    27          781771  25.0\n",
      "339       340    F  01:10:31    76          781831  41.0\n",
      "\n",
      "[340 rows x 6 columns]\n"
     ]
    }
   ],
   "source": [
    "import pandas as pd\n",
    "import numpy as np\n",
    "import re\n",
    "import matplotlib.pyplot as plt\n",
    "\n",
    "data = pd.read_csv('course.csv')\n",
    "print(data)\n",
    "data = data[(data.Age < 80) & (data.Position < 500) & (data.Position > 0)]"
   ]
  },
  {
   "cell_type": "code",
   "execution_count": 83,
   "id": "7ae48f8a",
   "metadata": {},
   "outputs": [
    {
     "data": {
      "text/plain": [
       "array([76, 27, 14, 78])"
      ]
     },
     "execution_count": 83,
     "metadata": {},
     "output_type": "execute_result"
    }
   ],
   "source": [
    "data['Dept'].unique()"
   ]
  },
  {
   "cell_type": "code",
   "execution_count": 84,
   "id": "9cd7222d",
   "metadata": {},
   "outputs": [
    {
     "data": {
      "text/plain": [
       "Position          0\n",
       "Sexe              2\n",
       "Temps             0\n",
       "Dept              0\n",
       "Temps_secondes    0\n",
       "Age               0\n",
       "dtype: int64"
      ]
     },
     "execution_count": 84,
     "metadata": {},
     "output_type": "execute_result"
    }
   ],
   "source": [
    "data.isnull().sum()"
   ]
  },
  {
   "cell_type": "code",
   "execution_count": 85,
   "id": "dad0830b",
   "metadata": {},
   "outputs": [
    {
     "data": {
      "text/plain": [
       "Position          0\n",
       "Sexe              2\n",
       "Temps             0\n",
       "Dept              0\n",
       "Temps_secondes    0\n",
       "Age               0\n",
       "dtype: int64"
      ]
     },
     "execution_count": 85,
     "metadata": {},
     "output_type": "execute_result"
    }
   ],
   "source": [
    "data.isnull().sum()"
   ]
  },
  {
   "cell_type": "code",
   "execution_count": 86,
   "id": "d8789d57",
   "metadata": {},
   "outputs": [
    {
     "data": {
      "text/plain": [
       "Position            int64\n",
       "Sexe               object\n",
       "Temps              object\n",
       "Dept                int64\n",
       "Temps_secondes      int64\n",
       "Age               float64\n",
       "dtype: object"
      ]
     },
     "execution_count": 86,
     "metadata": {},
     "output_type": "execute_result"
    }
   ],
   "source": [
    "data.dtypes"
   ]
  },
  {
   "cell_type": "code",
   "execution_count": 87,
   "id": "69a372db",
   "metadata": {},
   "outputs": [
    {
     "name": "stdout",
     "output_type": "stream",
     "text": [
      "     Position Sexe     Temps  Dept  Temps_secondes   Age\n",
      "0           1    M  00:32:23    76          779543  40.0\n",
      "1           2    M  00:32:40    27          779560  34.0\n",
      "2           3    M  00:33:15    76          779595  44.0\n",
      "3           4    M  00:33:23    76          779603  46.0\n",
      "4           5    M  00:33:29    76          779609  26.0\n",
      "..        ...  ...       ...   ...             ...   ...\n",
      "335       336    F  01:08:34    27          781714  41.0\n",
      "336       337    F  01:08:36    27          781716  48.0\n",
      "337       338    M  01:09:31    27          781771  24.0\n",
      "338       339    F  01:09:31    27          781771  25.0\n",
      "339       340    F  01:10:31    76          781831  41.0\n",
      "\n",
      "[333 rows x 6 columns]\n"
     ]
    }
   ],
   "source": [
    "print(data)"
   ]
  },
  {
   "cell_type": "code",
   "execution_count": 88,
   "id": "1a3d695b",
   "metadata": {},
   "outputs": [
    {
     "data": {
      "text/html": [
       "<div>\n",
       "<style scoped>\n",
       "    .dataframe tbody tr th:only-of-type {\n",
       "        vertical-align: middle;\n",
       "    }\n",
       "\n",
       "    .dataframe tbody tr th {\n",
       "        vertical-align: top;\n",
       "    }\n",
       "\n",
       "    .dataframe thead th {\n",
       "        text-align: right;\n",
       "    }\n",
       "</style>\n",
       "<table border=\"1\" class=\"dataframe\">\n",
       "  <thead>\n",
       "    <tr style=\"text-align: right;\">\n",
       "      <th></th>\n",
       "      <th>Position</th>\n",
       "      <th>Dept</th>\n",
       "      <th>Temps_secondes</th>\n",
       "      <th>Age</th>\n",
       "    </tr>\n",
       "  </thead>\n",
       "  <tbody>\n",
       "    <tr>\n",
       "      <th>count</th>\n",
       "      <td>333.000000</td>\n",
       "      <td>333.000000</td>\n",
       "      <td>333.000000</td>\n",
       "      <td>333.000000</td>\n",
       "    </tr>\n",
       "    <tr>\n",
       "      <th>mean</th>\n",
       "      <td>170.351351</td>\n",
       "      <td>57.072072</td>\n",
       "      <td>780552.684685</td>\n",
       "      <td>41.756757</td>\n",
       "    </tr>\n",
       "    <tr>\n",
       "      <th>std</th>\n",
       "      <td>98.451289</td>\n",
       "      <td>25.017239</td>\n",
       "      <td>516.374204</td>\n",
       "      <td>11.984088</td>\n",
       "    </tr>\n",
       "    <tr>\n",
       "      <th>min</th>\n",
       "      <td>1.000000</td>\n",
       "      <td>14.000000</td>\n",
       "      <td>779543.000000</td>\n",
       "      <td>18.000000</td>\n",
       "    </tr>\n",
       "    <tr>\n",
       "      <th>25%</th>\n",
       "      <td>86.000000</td>\n",
       "      <td>27.000000</td>\n",
       "      <td>780201.000000</td>\n",
       "      <td>34.000000</td>\n",
       "    </tr>\n",
       "    <tr>\n",
       "      <th>50%</th>\n",
       "      <td>170.000000</td>\n",
       "      <td>76.000000</td>\n",
       "      <td>780536.000000</td>\n",
       "      <td>41.000000</td>\n",
       "    </tr>\n",
       "    <tr>\n",
       "      <th>75%</th>\n",
       "      <td>255.000000</td>\n",
       "      <td>76.000000</td>\n",
       "      <td>780906.000000</td>\n",
       "      <td>49.000000</td>\n",
       "    </tr>\n",
       "    <tr>\n",
       "      <th>max</th>\n",
       "      <td>340.000000</td>\n",
       "      <td>78.000000</td>\n",
       "      <td>781831.000000</td>\n",
       "      <td>73.000000</td>\n",
       "    </tr>\n",
       "  </tbody>\n",
       "</table>\n",
       "</div>"
      ],
      "text/plain": [
       "         Position        Dept  Temps_secondes         Age\n",
       "count  333.000000  333.000000      333.000000  333.000000\n",
       "mean   170.351351   57.072072   780552.684685   41.756757\n",
       "std     98.451289   25.017239      516.374204   11.984088\n",
       "min      1.000000   14.000000   779543.000000   18.000000\n",
       "25%     86.000000   27.000000   780201.000000   34.000000\n",
       "50%    170.000000   76.000000   780536.000000   41.000000\n",
       "75%    255.000000   76.000000   780906.000000   49.000000\n",
       "max    340.000000   78.000000   781831.000000   73.000000"
      ]
     },
     "execution_count": 88,
     "metadata": {},
     "output_type": "execute_result"
    }
   ],
   "source": [
    "data.describe()"
   ]
  },
  {
   "cell_type": "code",
   "execution_count": 89,
   "id": "3cf9ae40",
   "metadata": {},
   "outputs": [
    {
     "data": {
      "text/html": [
       "<div>\n",
       "<style scoped>\n",
       "    .dataframe tbody tr th:only-of-type {\n",
       "        vertical-align: middle;\n",
       "    }\n",
       "\n",
       "    .dataframe tbody tr th {\n",
       "        vertical-align: top;\n",
       "    }\n",
       "\n",
       "    .dataframe thead th {\n",
       "        text-align: right;\n",
       "    }\n",
       "</style>\n",
       "<table border=\"1\" class=\"dataframe\">\n",
       "  <thead>\n",
       "    <tr style=\"text-align: right;\">\n",
       "      <th></th>\n",
       "      <th>Position</th>\n",
       "      <th>Sexe</th>\n",
       "      <th>Temps</th>\n",
       "      <th>Dept</th>\n",
       "      <th>Temps_secondes</th>\n",
       "      <th>Age</th>\n",
       "    </tr>\n",
       "  </thead>\n",
       "  <tbody>\n",
       "  </tbody>\n",
       "</table>\n",
       "</div>"
      ],
      "text/plain": [
       "Empty DataFrame\n",
       "Columns: [Position, Sexe, Temps, Dept, Temps_secondes, Age]\n",
       "Index: []"
      ]
     },
     "execution_count": 89,
     "metadata": {},
     "output_type": "execute_result"
    }
   ],
   "source": [
    "data.loc[data[['Position','Sexe', 'Dept','Age']].duplicated(keep = False),:]"
   ]
  },
  {
   "cell_type": "code",
   "execution_count": 90,
   "id": "862bf927",
   "metadata": {},
   "outputs": [
    {
     "data": {
      "text/plain": [
       "array(['M', 'F', 'O', nan], dtype=object)"
      ]
     },
     "execution_count": 90,
     "metadata": {},
     "output_type": "execute_result"
    }
   ],
   "source": [
    "data['Sexe'].unique()"
   ]
  },
  {
   "cell_type": "code",
   "execution_count": 91,
   "id": "f27bbd3d",
   "metadata": {},
   "outputs": [
    {
     "data": {
      "text/html": [
       "<div>\n",
       "<style scoped>\n",
       "    .dataframe tbody tr th:only-of-type {\n",
       "        vertical-align: middle;\n",
       "    }\n",
       "\n",
       "    .dataframe tbody tr th {\n",
       "        vertical-align: top;\n",
       "    }\n",
       "\n",
       "    .dataframe thead th {\n",
       "        text-align: right;\n",
       "    }\n",
       "</style>\n",
       "<table border=\"1\" class=\"dataframe\">\n",
       "  <thead>\n",
       "    <tr style=\"text-align: right;\">\n",
       "      <th></th>\n",
       "      <th>Position</th>\n",
       "      <th>Sexe</th>\n",
       "      <th>Temps</th>\n",
       "      <th>Dept</th>\n",
       "      <th>Temps_secondes</th>\n",
       "      <th>Age</th>\n",
       "      <th>Temps_format</th>\n",
       "    </tr>\n",
       "  </thead>\n",
       "  <tbody>\n",
       "    <tr>\n",
       "      <th>250</th>\n",
       "      <td>251</td>\n",
       "      <td>M</td>\n",
       "      <td>54min47s</td>\n",
       "      <td>27</td>\n",
       "      <td>780887</td>\n",
       "      <td>42.0</td>\n",
       "      <td>NaT</td>\n",
       "    </tr>\n",
       "  </tbody>\n",
       "</table>\n",
       "</div>"
      ],
      "text/plain": [
       "     Position Sexe     Temps  Dept  Temps_secondes   Age Temps_format\n",
       "250       251    M  54min47s    27          780887  42.0          NaT"
      ]
     },
     "execution_count": 91,
     "metadata": {},
     "output_type": "execute_result"
    }
   ],
   "source": [
    "data['Temps_format'] = pd.to_datetime(data['Temps'], errors=\"coerce\")\n",
    "data.loc[data['Temps_format'].isnull(),:]"
   ]
  },
  {
   "cell_type": "code",
   "execution_count": 92,
   "id": "65a87ca3",
   "metadata": {},
   "outputs": [
    {
     "data": {
      "text/plain": [
       "Position                          256\n",
       "Sexe                                M\n",
       "Temps                        00:55:08\n",
       "Dept                               78\n",
       "Temps_secondes                 780908\n",
       "Age                              42.0\n",
       "Temps_format      2022-06-28 00:55:08\n",
       "Name: 255, dtype: object"
      ]
     },
     "execution_count": 92,
     "metadata": {},
     "output_type": "execute_result"
    }
   ],
   "source": [
    "data.iloc[250,:]"
   ]
  },
  {
   "cell_type": "code",
   "execution_count": 93,
   "id": "6ab62aae",
   "metadata": {},
   "outputs": [
    {
     "data": {
      "image/png": "[encoded data removed]",
      "text/plain": [
       "<Figure size 432x288 with 1 Axes>"
      ]
     },
     "metadata": {
      "needs_background": "light"
     },
     "output_type": "display_data"
    }
   ],
   "source": [
    "plt.plot(data['Age'],data['Position'], \"o\")\n",
    "plt.xlabel(\"Age\")\n",
    "plt.ylabel(\"Position\")\n",
    "plt.show()"
   ]
  },
  {
   "cell_type": "code",
   "execution_count": 56,
   "id": "22235a3d",
   "metadata": {},
   "outputs": [],
   "source": []
  },
  {
   "cell_type": "code",
   "execution_count": null,
   "id": "2aeaa2ee",
   "metadata": {},
   "outputs": [],
   "source": []
  },
  {
   "cell_type": "code",
   "execution_count": 97,
   "id": "13ec06f0",
   "metadata": {},
   "outputs": [
    {
     "name": "stdout",
     "output_type": "stream",
     "text": [
      "[4 3 4 5 3 2 3 4 3 5 3 2 4 3 3 3 5 4 6 4 3 4 4 4 6 2 5 3 3 3 4 3 4 4 3 4 5\n",
      " 3 5 4 4 3 3 5 5 5 2 5 5 4 5 4 4 4 4 3 7 4 3 5 3 5 3 4 4 3 5 6 5 4 5 3 6 5\n",
      " 7 6 3 7 5 6 4 4 3 5 3 5 4 7 4 2 2 2 4 7 5 4 4 5 5 4 5 3 4 4 2 5 3 5 5 3 3\n",
      " 4 5 7 3 3 4 2 7 4 3 6 6 2 5 4 4 4 5 5 4 3 4 4 3 2 2 7 4 4 5 2 5 6 4 4 5 5\n",
      " 4 5 2 4 7 4 3 5 6 4 5 7 4 7 5 5 2 4 4 4 5 4 5 4 4 3 4 3 4 5 5 4 4 5 5 4 4\n",
      " 4 2 3 3 6 2 4 6 5 3 5 4 5 5 3 4 4 4 7 5 4 5 6 3 5 5 3 3 5 7 5 4 4 2 6 2 5\n",
      " 3 7 5 6 3 5 3 2 4 5 4 5 5 5 2 4 3 5 6 5 4 5 2 4 6 4 4 4 4 5 5 4 4 7 3 3 4\n",
      " 3 4 6 6 6 5 3 5 4 4 5 4 5 5 5 3 6 4 2 4 6 4 3 5 4 3 7 4 5 3 4 2 4 4 4 5 3\n",
      " 4 4 4 3 5 7 5 6 5 6 4 4 4 6 5 5 4 4 5 5 6 4 6 5 3 2 3 3 3 3 4 3 4 5 2 3 4]\n"
     ]
    }
   ],
   "source": [
    "taille_classe = 10\n",
    "groupes = []\n",
    "tranches = np.arange(0, 80, taille_classe)\n",
    "tranches = np.add(tranches, taille_classe/2, out = tranches, casting=\"unsafe\" )\n",
    "# on décale les tranches d'une demi taille de classe\n",
    "indices = np.digitize(data['Age'], tranches) \n",
    "print(indices)"
   ]
  },
  {
   "cell_type": "code",
   "execution_count": 98,
   "id": "687a2ccc",
   "metadata": {},
   "outputs": [
    {
     "data": {
      "image/png": "[encoded data removed]",
      "text/plain": [
       "<Figure size 720x504 with 1 Axes>"
      ]
     },
     "metadata": {
      "needs_background": "light"
     },
     "output_type": "display_data"
    }
   ],
   "source": [
    "for ind, tr in enumerate(tranches): # pour chaque tranche, ind reçoit le numéro de tranche et tr la tranche en question\n",
    "    position = data.loc[indices==ind,\"Position\"] # sélection des individus de la tranche ind\n",
    "    if len(position) > 0:\n",
    "        g = {\n",
    "            'valeurs': position,\n",
    "            'centre_classe': tr-(taille_classe/2),\n",
    "            'taille': len(position),\n",
    "            'quartiles': [np.percentile(position,p) for p in [25,50,75]]\n",
    "        }\n",
    "        groupes.append(g)\n",
    "\n",
    "plt.figure(figsize=(10,7))\n",
    "        \n",
    "# affichage des boxplots\n",
    "plt.boxplot([g[\"valeurs\"] for g in groupes],\n",
    "            positions= [g[\"centre_classe\"] for g in groupes], # abscisses des boxplots\n",
    "            showfliers= False, # on ne prend pas en compte les outliers\n",
    "            widths= taille_classe*0.7) # largeur graphique des boxplots\n",
    "\n",
    "# affichage des effectifs de chaque classe\n",
    "for g in groupes:\n",
    "    plt.text(g[\"centre_classe\"],0,\"(n={})\".format(g[\"taille\"]),horizontalalignment='center',verticalalignment='top')     \n",
    "plt.show()"
   ]
  },
  {
   "cell_type": "code",
   "execution_count": 102,
   "id": "a938da22",
   "metadata": {},
   "outputs": [
    {
     "name": "stdout",
     "output_type": "stream",
     "text": [
      "0.7274856479508072 139.973910105838 0.007841804772211303\n"
     ]
    }
   ],
   "source": [
    "import statsmodels.api as sm\n",
    "Y = data['Position']\n",
    "X = data[[\"Age\"]].copy()\n",
    "X['intercept'] = 1\n",
    "result = sm.OLS(Y, X).fit()\n",
    "\n",
    "a,b = result.params\n",
    "print(a, b, result.rsquared)"
   ]
  },
  {
   "cell_type": "code",
   "execution_count": null,
   "id": "3bc4f843",
   "metadata": {},
   "outputs": [],
   "source": []
  }
 ],
 "metadata": {
  "kernelspec": {
   "display_name": "Python 3 (ipykernel)",
   "language": "python",
   "name": "python3"
  },
  "language_info": {
   "codemirror_mode": {
    "name": "ipython",
    "version": 3
   },
   "file_extension": ".py",
   "mimetype": "text/x-python",
   "name": "python",
   "nbconvert_exporter": "python",
   "pygments_lexer": "ipython3",
   "version": "3.9.12"
  }
 },
 "nbformat": 4,
 "nbformat_minor": 5
}
