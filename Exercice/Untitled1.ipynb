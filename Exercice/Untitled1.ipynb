{
 "cells": [
  {
   "cell_type": "code",
   "execution_count": 1,
   "id": "ef05a7d0",
   "metadata": {},
   "outputs": [],
   "source": [
    "import pandas as pd\n",
    "import numpy as np\n"
   ]
  },
  {
   "cell_type": "code",
   "execution_count": 4,
   "id": "f839895f",
   "metadata": {},
   "outputs": [],
   "source": [
    "note = pd.read_csv ('notes.csv')"
   ]
  },
  {
   "cell_type": "code",
   "execution_count": 8,
   "id": "deb2a3ed",
   "metadata": {},
   "outputs": [
    {
     "data": {
      "text/html": [
       "<div>\n",
       "<style scoped>\n",
       "    .dataframe tbody tr th:only-of-type {\n",
       "        vertical-align: middle;\n",
       "    }\n",
       "\n",
       "    .dataframe tbody tr th {\n",
       "        vertical-align: top;\n",
       "    }\n",
       "\n",
       "    .dataframe thead th {\n",
       "        text-align: right;\n",
       "    }\n",
       "</style>\n",
       "<table border=\"1\" class=\"dataframe\">\n",
       "  <thead>\n",
       "    <tr style=\"text-align: right;\">\n",
       "      <th></th>\n",
       "      <th>nom</th>\n",
       "      <th>matiere</th>\n",
       "      <th>note</th>\n",
       "    </tr>\n",
       "  </thead>\n",
       "  <tbody>\n",
       "    <tr>\n",
       "      <th>0</th>\n",
       "      <td>Laurent Dagenais</td>\n",
       "      <td>Français</td>\n",
       "      <td>16</td>\n",
       "    </tr>\n",
       "    <tr>\n",
       "      <th>1</th>\n",
       "      <td>Guy Marois</td>\n",
       "      <td>Français</td>\n",
       "      <td>13</td>\n",
       "    </tr>\n",
       "    <tr>\n",
       "      <th>2</th>\n",
       "      <td>Beaufort Lesage</td>\n",
       "      <td>Français</td>\n",
       "      <td>8</td>\n",
       "    </tr>\n",
       "    <tr>\n",
       "      <th>3</th>\n",
       "      <td>Russell Durand</td>\n",
       "      <td>Français</td>\n",
       "      <td>10</td>\n",
       "    </tr>\n",
       "    <tr>\n",
       "      <th>4</th>\n",
       "      <td>Alexis Riel</td>\n",
       "      <td>Français</td>\n",
       "      <td>15</td>\n",
       "    </tr>\n",
       "    <tr>\n",
       "      <th>5</th>\n",
       "      <td>Leon Lapresse</td>\n",
       "      <td>Français</td>\n",
       "      <td>17</td>\n",
       "    </tr>\n",
       "    <tr>\n",
       "      <th>6</th>\n",
       "      <td>Orville Routhier</td>\n",
       "      <td>Français</td>\n",
       "      <td>6</td>\n",
       "    </tr>\n",
       "    <tr>\n",
       "      <th>7</th>\n",
       "      <td>Agramant Pepin</td>\n",
       "      <td>Français</td>\n",
       "      <td>17</td>\n",
       "    </tr>\n",
       "    <tr>\n",
       "      <th>8</th>\n",
       "      <td>Aiglentina Lambert</td>\n",
       "      <td>Français</td>\n",
       "      <td>16</td>\n",
       "    </tr>\n",
       "    <tr>\n",
       "      <th>9</th>\n",
       "      <td>Theodore Clavet</td>\n",
       "      <td>Français</td>\n",
       "      <td>8</td>\n",
       "    </tr>\n",
       "  </tbody>\n",
       "</table>\n",
       "</div>"
      ],
      "text/plain": [
       "                  nom   matiere  note\n",
       "0    Laurent Dagenais  Français    16\n",
       "1          Guy Marois  Français    13\n",
       "2     Beaufort Lesage  Français     8\n",
       "3      Russell Durand  Français    10\n",
       "4         Alexis Riel  Français    15\n",
       "5       Leon Lapresse  Français    17\n",
       "6    Orville Routhier  Français     6\n",
       "7      Agramant Pepin  Français    17\n",
       "8  Aiglentina Lambert  Français    16\n",
       "9     Theodore Clavet  Français     8"
      ]
     },
     "execution_count": 8,
     "metadata": {},
     "output_type": "execute_result"
    }
   ],
   "source": [
    "note.head(10)"
   ]
  },
  {
   "cell_type": "code",
   "execution_count": 15,
   "id": "35d00319",
   "metadata": {},
   "outputs": [
    {
     "data": {
      "text/plain": [
       "11.333333333333334"
      ]
     },
     "execution_count": 15,
     "metadata": {},
     "output_type": "execute_result"
    }
   ],
   "source": [
    "note.loc[note.matiere == 'Mathématiques', 'note'].mean()"
   ]
  },
  {
   "cell_type": "code",
   "execution_count": 20,
   "id": "9d9496cd",
   "metadata": {},
   "outputs": [
    {
     "data": {
      "text/plain": [
       "nom\n",
       "Aceline Hughes        False\n",
       "Agate Grandbois       False\n",
       "Agramant Pepin        False\n",
       "Agrican Foucault      False\n",
       "Aiglentina Lambert     True\n",
       "Alexis Riel            True\n",
       "Amaury Reault          True\n",
       "Beaufort Lesage       False\n",
       "Byron Lefebvre        False\n",
       "Dorothee Aupry        False\n",
       "Florus Devoe          False\n",
       "Gaston Brisette       False\n",
       "Guy Marois            False\n",
       "Laurent Dagenais      False\n",
       "Leon Lapresse         False\n",
       "Normand Arsenault     False\n",
       "Orville Routhier       True\n",
       "Prunella Josseaume    False\n",
       "Russell Durand         True\n",
       "Theodore Clavet        True\n",
       "Yseult Charest        False\n",
       "Name: note, dtype: bool"
      ]
     },
     "execution_count": 20,
     "metadata": {},
     "output_type": "execute_result"
    }
   ],
   "source": [
    "note.groupby('nom')['note'].mean()<10"
   ]
  },
  {
   "cell_type": "code",
   "execution_count": null,
   "id": "bc087eb3",
   "metadata": {},
   "outputs": [],
   "source": []
  }
 ],
 "metadata": {
  "kernelspec": {
   "display_name": "Python 3 (ipykernel)",
   "language": "python",
   "name": "python3"
  },
  "language_info": {
   "codemirror_mode": {
    "name": "ipython",
    "version": 3
   },
   "file_extension": ".py",
   "mimetype": "text/x-python",
   "name": "python",
   "nbconvert_exporter": "python",
   "pygments_lexer": "ipython3",
   "version": "3.9.12"
  }
 },
 "nbformat": 4,
 "nbformat_minor": 5
}
