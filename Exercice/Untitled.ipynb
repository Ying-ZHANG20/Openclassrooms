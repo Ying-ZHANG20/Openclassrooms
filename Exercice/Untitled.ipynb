{
 "cells": [
  {
   "cell_type": "code",
   "execution_count": 177,
   "id": "49ecacc1",
   "metadata": {},
   "outputs": [
    {
     "ename": "ModuleNotFoundError",
     "evalue": "No module named 'metplotlib'",
     "output_type": "error",
     "traceback": [
      "\u001b[0;31m---------------------------------------------------------------------------\u001b[0m",
      "\u001b[0;31mModuleNotFoundError\u001b[0m                       Traceback (most recent call last)",
      "Input \u001b[0;32mIn [177]\u001b[0m, in \u001b[0;36m<cell line: 4>\u001b[0;34m()\u001b[0m\n\u001b[1;32m      2\u001b[0m \u001b[38;5;28;01mimport\u001b[39;00m \u001b[38;5;21;01mnumpy\u001b[39;00m \u001b[38;5;28;01mas\u001b[39;00m \u001b[38;5;21;01mnp\u001b[39;00m\n\u001b[1;32m      3\u001b[0m \u001b[38;5;28;01mimport\u001b[39;00m \u001b[38;5;21;01mre\u001b[39;00m\n\u001b[0;32m----> 4\u001b[0m \u001b[38;5;28;01mimport\u001b[39;00m \u001b[38;5;21;01mmetplotlib\u001b[39;00m\u001b[38;5;21;01m.\u001b[39;00m\u001b[38;5;21;01mpyplot\u001b[39;00m \u001b[38;5;28;01mas\u001b[39;00m \u001b[38;5;21;01mplt\u001b[39;00m\n\u001b[1;32m      6\u001b[0m data \u001b[38;5;241m=\u001b[39m pd\u001b[38;5;241m.\u001b[39mread_csv(\u001b[38;5;124m'\u001b[39m\u001b[38;5;124mpersonnes.csv\u001b[39m\u001b[38;5;124m'\u001b[39m)\n\u001b[1;32m      7\u001b[0m \u001b[38;5;28mprint\u001b[39m(data)\n",
      "\u001b[0;31mModuleNotFoundError\u001b[0m: No module named 'metplotlib'"
     ]
    }
   ],
   "source": [
    "import pandas as pd\n",
    "import numpy as np\n",
    "import re\n",
    "import metplotlib.pyplot as plt\n",
    "\n",
    "data = pd.read_csv('personnes.csv')\n",
    "print(data)"
   ]
  },
  {
   "cell_type": "code",
   "execution_count": 92,
   "id": "7ca18e0b",
   "metadata": {},
   "outputs": [
    {
     "name": "stdout",
     "output_type": "stream",
     "text": [
      "prenom            0\n",
      "email             0\n",
      "date_naissance    1\n",
      "pays              1\n",
      "taille            0\n",
      "dtype: int64\n"
     ]
    }
   ],
   "source": [
    "print(data.isnull().sum())"
   ]
  },
  {
   "cell_type": "code",
   "execution_count": 93,
   "id": "1bdbfa2d",
   "metadata": {},
   "outputs": [
    {
     "data": {
      "text/html": [
       "<div>\n",
       "<style scoped>\n",
       "    .dataframe tbody tr th:only-of-type {\n",
       "        vertical-align: middle;\n",
       "    }\n",
       "\n",
       "    .dataframe tbody tr th {\n",
       "        vertical-align: top;\n",
       "    }\n",
       "\n",
       "    .dataframe thead th {\n",
       "        text-align: right;\n",
       "    }\n",
       "</style>\n",
       "<table border=\"1\" class=\"dataframe\">\n",
       "  <thead>\n",
       "    <tr style=\"text-align: right;\">\n",
       "      <th></th>\n",
       "      <th>prenom</th>\n",
       "      <th>email</th>\n",
       "      <th>date_naissance</th>\n",
       "      <th>pays</th>\n",
       "      <th>taille</th>\n",
       "    </tr>\n",
       "  </thead>\n",
       "  <tbody>\n",
       "    <tr>\n",
       "      <th>1</th>\n",
       "      <td>Samuel</td>\n",
       "      <td>samuel_329@example.com</td>\n",
       "      <td>20/09/2001</td>\n",
       "      <td>NaN</td>\n",
       "      <td>1.67m</td>\n",
       "    </tr>\n",
       "    <tr>\n",
       "      <th>6</th>\n",
       "      <td>samuël</td>\n",
       "      <td>samuel_329@example.com</td>\n",
       "      <td>NaN</td>\n",
       "      <td>Bénin</td>\n",
       "      <td>1.45m</td>\n",
       "    </tr>\n",
       "  </tbody>\n",
       "</table>\n",
       "</div>"
      ],
      "text/plain": [
       "   prenom                   email date_naissance   pays taille\n",
       "1  Samuel  samuel_329@example.com     20/09/2001    NaN  1.67m\n",
       "6  samuël  samuel_329@example.com            NaN  Bénin  1.45m"
      ]
     },
     "execution_count": 93,
     "metadata": {},
     "output_type": "execute_result"
    }
   ],
   "source": [
    "data.loc[data['email'].duplicated(keep=False),:]"
   ]
  },
  {
   "cell_type": "code",
   "execution_count": 94,
   "id": "59af1c96",
   "metadata": {},
   "outputs": [
    {
     "data": {
      "text/plain": [
       "'leila@example.com'"
      ]
     },
     "execution_count": 94,
     "metadata": {},
     "output_type": "execute_result"
    }
   ],
   "source": [
    "data['email'][0]"
   ]
  },
  {
   "cell_type": "code",
   "execution_count": 95,
   "id": "755f010f",
   "metadata": {},
   "outputs": [],
   "source": [
    "data['taille'] = data['taille'].str[:-1]"
   ]
  },
  {
   "cell_type": "code",
   "execution_count": 96,
   "id": "140c5e03",
   "metadata": {},
   "outputs": [],
   "source": [
    "data['taille'] = pd.to_numeric(data['taille'],errors='coerce')"
   ]
  },
  {
   "cell_type": "code",
   "execution_count": 98,
   "id": "1a91b291",
   "metadata": {},
   "outputs": [
    {
     "name": "stdout",
     "output_type": "stream",
     "text": [
      "   prenom                                   email date_naissance  \\\n",
      "0   Leila                       leila@example.com     23/01/1990   \n",
      "1  Samuel                  samuel_329@example.com     20/09/2001   \n",
      "2   Radia                choupipoune@supermail.eu  12 sept. 1984   \n",
      "3    Marc  marco23@example.com, mc23@supermail.eu     10/02/1978   \n",
      "4    Heri                 helloworld@supermail.eu     05/03/2008   \n",
      "5   Hanna                  hanna2019@supermail.eu     01/01/1970   \n",
      "6  samuël                  samuel_329@example.com            NaN   \n",
      "\n",
      "            pays  taille  \n",
      "0         France    1.49  \n",
      "1            NaN    1.67  \n",
      "2  Côte d'ivoire     NaN  \n",
      "3         France    1.65  \n",
      "4     Madagascar    1.34  \n",
      "5             24    3.45  \n",
      "6          Bénin    1.45  \n"
     ]
    }
   ],
   "source": [
    "print(data)"
   ]
  },
  {
   "cell_type": "code",
   "execution_count": 99,
   "id": "c709ef45",
   "metadata": {},
   "outputs": [],
   "source": [
    "data.loc[data['taille'].isnull(),'taille']=data['taille'].mean()"
   ]
  },
  {
   "cell_type": "code",
   "execution_count": 100,
   "id": "dbc95280",
   "metadata": {},
   "outputs": [],
   "source": [
    "data['email']=data['email'].str.split(',', n=1, expand = True)[0]"
   ]
  },
  {
   "cell_type": "code",
   "execution_count": 102,
   "id": "8b04f151",
   "metadata": {},
   "outputs": [],
   "source": [
    "data['date_naissance'] = pd.to_datetime(data['date_naissance'], format = '%d/%m/%Y', errors = 'coerce')"
   ]
  },
  {
   "cell_type": "code",
   "execution_count": 111,
   "id": "1ca90578",
   "metadata": {},
   "outputs": [],
   "source": [
    "op = pd.read_csv('operations.csv')"
   ]
  },
  {
   "cell_type": "code",
   "execution_count": 112,
   "id": "42f27a7f",
   "metadata": {},
   "outputs": [
    {
     "name": "stdout",
     "output_type": "stream",
     "text": [
      "    date_operation                                       libelle  montant  \\\n",
      "0       2023-03-31                      DON XX XX XX XX XX XX XX    -1.44   \n",
      "1       2023-04-03                           CARTE XX XX RAPT XX   -24.00   \n",
      "2       2023-04-03                           CARTE XX XX RAPT XX   -73.00   \n",
      "3       2023-04-03  VIREMENT XX XX XX XX XX XX XX XX XX XX XX XX   676.00   \n",
      "4       2023-04-03                    VIREMENT XX XX XX XX XX XX     4.80   \n",
      "..             ...                                           ...      ...   \n",
      "304     2023-10-05                       CARTE XX XX XX XX XX XX   -10.64   \n",
      "305     2023-10-05                             CARTE XX XX XX XX    -4.80   \n",
      "306     2023-10-06          FORFAIT COMPTE SUPERBANK XX XX XX XX    -1.92   \n",
      "307     2023-10-06                       CARTE XX XX CHEZ LUC XX   -10.00   \n",
      "308     2023-10-06                PRELEVEMENT XX TELEPHONE XX XX   -13.58   \n",
      "\n",
      "     solde_avt_ope                categ  \n",
      "0          1515.25                AUTRE  \n",
      "1          1513.81            TRANSPORT  \n",
      "2          1489.81            TRANSPORT  \n",
      "3          1416.81                AUTRE  \n",
      "4          2092.81                AUTRE  \n",
      "..             ...                  ...  \n",
      "304        2440.94                AUTRE  \n",
      "305        2430.30                AUTRE  \n",
      "306        2425.50  COTISATION BANCAIRE  \n",
      "307        2423.58           RESTAURANT  \n",
      "308        2413.58    FACTURE TELEPHONE  \n",
      "\n",
      "[309 rows x 5 columns]\n"
     ]
    }
   ],
   "source": [
    "print(op)"
   ]
  },
  {
   "cell_type": "code",
   "execution_count": 113,
   "id": "bd1f15b1",
   "metadata": {},
   "outputs": [
    {
     "data": {
      "text/plain": [
       "date_operation     object\n",
       "libelle            object\n",
       "montant           float64\n",
       "solde_avt_ope     float64\n",
       "categ              object\n",
       "dtype: object"
      ]
     },
     "execution_count": 113,
     "metadata": {},
     "output_type": "execute_result"
    }
   ],
   "source": [
    "op.dtypes"
   ]
  },
  {
   "cell_type": "code",
   "execution_count": 116,
   "id": "778f5ec9",
   "metadata": {},
   "outputs": [],
   "source": [
    "op['date_operation']=pd.to_datetime(op['date_operation'])"
   ]
  },
  {
   "cell_type": "code",
   "execution_count": 118,
   "id": "61f30e43",
   "metadata": {},
   "outputs": [],
   "source": [
    "op_na = op.loc[op['montant'].isnull(),:]\n",
    "for index in op_na.index:\n",
    "    op.loc[index,'montant'] = op.loc[index+1, 'solde_avt_ope'] - op.loc[index, 'solde_avt_ope']"
   ]
  },
  {
   "cell_type": "code",
   "execution_count": 120,
   "id": "859d4943",
   "metadata": {},
   "outputs": [
    {
     "data": {
      "text/html": [
       "<div>\n",
       "<style scoped>\n",
       "    .dataframe tbody tr th:only-of-type {\n",
       "        vertical-align: middle;\n",
       "    }\n",
       "\n",
       "    .dataframe tbody tr th {\n",
       "        vertical-align: top;\n",
       "    }\n",
       "\n",
       "    .dataframe thead th {\n",
       "        text-align: right;\n",
       "    }\n",
       "</style>\n",
       "<table border=\"1\" class=\"dataframe\">\n",
       "  <thead>\n",
       "    <tr style=\"text-align: right;\">\n",
       "      <th></th>\n",
       "      <th>date_operation</th>\n",
       "      <th>libelle</th>\n",
       "      <th>montant</th>\n",
       "      <th>solde_avt_ope</th>\n",
       "      <th>categ</th>\n",
       "    </tr>\n",
       "  </thead>\n",
       "  <tbody>\n",
       "    <tr>\n",
       "      <th>156</th>\n",
       "      <td>2023-07-06</td>\n",
       "      <td>PRELEVEMENT XX TELEPHONE XX XX</td>\n",
       "      <td>-36.48</td>\n",
       "      <td>3295.68</td>\n",
       "      <td>NaN</td>\n",
       "    </tr>\n",
       "  </tbody>\n",
       "</table>\n",
       "</div>"
      ],
      "text/plain": [
       "    date_operation                         libelle  montant  solde_avt_ope  \\\n",
       "156     2023-07-06  PRELEVEMENT XX TELEPHONE XX XX   -36.48        3295.68   \n",
       "\n",
       "    categ  \n",
       "156   NaN  "
      ]
     },
     "execution_count": 120,
     "metadata": {},
     "output_type": "execute_result"
    }
   ],
   "source": [
    "op.loc[op['categ'].isnull(),:]"
   ]
  },
  {
   "cell_type": "code",
   "execution_count": 122,
   "id": "42579104",
   "metadata": {},
   "outputs": [
    {
     "data": {
      "text/html": [
       "<div>\n",
       "<style scoped>\n",
       "    .dataframe tbody tr th:only-of-type {\n",
       "        vertical-align: middle;\n",
       "    }\n",
       "\n",
       "    .dataframe tbody tr th {\n",
       "        vertical-align: top;\n",
       "    }\n",
       "\n",
       "    .dataframe thead th {\n",
       "        text-align: right;\n",
       "    }\n",
       "</style>\n",
       "<table border=\"1\" class=\"dataframe\">\n",
       "  <thead>\n",
       "    <tr style=\"text-align: right;\">\n",
       "      <th></th>\n",
       "      <th>date_operation</th>\n",
       "      <th>libelle</th>\n",
       "      <th>montant</th>\n",
       "      <th>solde_avt_ope</th>\n",
       "      <th>categ</th>\n",
       "    </tr>\n",
       "  </thead>\n",
       "  <tbody>\n",
       "    <tr>\n",
       "      <th>8</th>\n",
       "      <td>2023-04-05</td>\n",
       "      <td>PRELEVEMENT XX TELEPHONE XX XX</td>\n",
       "      <td>-7.02</td>\n",
       "      <td>2056.02</td>\n",
       "      <td>FACTURE TELEPHONE</td>\n",
       "    </tr>\n",
       "    <tr>\n",
       "      <th>62</th>\n",
       "      <td>2023-05-09</td>\n",
       "      <td>PRELEVEMENT XX TELEPHONE XX XX</td>\n",
       "      <td>-7.02</td>\n",
       "      <td>4090.10</td>\n",
       "      <td>FACTURE TELEPHONE</td>\n",
       "    </tr>\n",
       "    <tr>\n",
       "      <th>102</th>\n",
       "      <td>2023-06-07</td>\n",
       "      <td>PRELEVEMENT XX TELEPHONE XX XX</td>\n",
       "      <td>-6.38</td>\n",
       "      <td>4688.91</td>\n",
       "      <td>FACTURE TELEPHONE</td>\n",
       "    </tr>\n",
       "    <tr>\n",
       "      <th>156</th>\n",
       "      <td>2023-07-06</td>\n",
       "      <td>PRELEVEMENT XX TELEPHONE XX XX</td>\n",
       "      <td>-36.48</td>\n",
       "      <td>3295.68</td>\n",
       "      <td>NaN</td>\n",
       "    </tr>\n",
       "    <tr>\n",
       "      <th>204</th>\n",
       "      <td>2023-08-07</td>\n",
       "      <td>PRELEVEMENT XX TELEPHONE XX XX</td>\n",
       "      <td>-7.46</td>\n",
       "      <td>3751.73</td>\n",
       "      <td>FACTURE TELEPHONE</td>\n",
       "    </tr>\n",
       "    <tr>\n",
       "      <th>260</th>\n",
       "      <td>2023-09-05</td>\n",
       "      <td>PRELEVEMENT XX TELEPHONE XX XX</td>\n",
       "      <td>-6.38</td>\n",
       "      <td>3453.96</td>\n",
       "      <td>FACTURE TELEPHONE</td>\n",
       "    </tr>\n",
       "    <tr>\n",
       "      <th>308</th>\n",
       "      <td>2023-10-06</td>\n",
       "      <td>PRELEVEMENT XX TELEPHONE XX XX</td>\n",
       "      <td>-13.58</td>\n",
       "      <td>2413.58</td>\n",
       "      <td>FACTURE TELEPHONE</td>\n",
       "    </tr>\n",
       "  </tbody>\n",
       "</table>\n",
       "</div>"
      ],
      "text/plain": [
       "    date_operation                         libelle  montant  solde_avt_ope  \\\n",
       "8       2023-04-05  PRELEVEMENT XX TELEPHONE XX XX    -7.02        2056.02   \n",
       "62      2023-05-09  PRELEVEMENT XX TELEPHONE XX XX    -7.02        4090.10   \n",
       "102     2023-06-07  PRELEVEMENT XX TELEPHONE XX XX    -6.38        4688.91   \n",
       "156     2023-07-06  PRELEVEMENT XX TELEPHONE XX XX   -36.48        3295.68   \n",
       "204     2023-08-07  PRELEVEMENT XX TELEPHONE XX XX    -7.46        3751.73   \n",
       "260     2023-09-05  PRELEVEMENT XX TELEPHONE XX XX    -6.38        3453.96   \n",
       "308     2023-10-06  PRELEVEMENT XX TELEPHONE XX XX   -13.58        2413.58   \n",
       "\n",
       "                 categ  \n",
       "8    FACTURE TELEPHONE  \n",
       "62   FACTURE TELEPHONE  \n",
       "102  FACTURE TELEPHONE  \n",
       "156                NaN  \n",
       "204  FACTURE TELEPHONE  \n",
       "260  FACTURE TELEPHONE  \n",
       "308  FACTURE TELEPHONE  "
      ]
     },
     "execution_count": 122,
     "metadata": {},
     "output_type": "execute_result"
    }
   ],
   "source": [
    "op.loc[op['libelle'] == 'PRELEVEMENT XX TELEPHONE XX XX', :]"
   ]
  },
  {
   "cell_type": "code",
   "execution_count": 123,
   "id": "4172ebad",
   "metadata": {},
   "outputs": [],
   "source": [
    "op.loc[op['categ'].isnull(),['categ']]= 'FACTURE TELEPHONE'"
   ]
  },
  {
   "cell_type": "code",
   "execution_count": 124,
   "id": "f5b856b9",
   "metadata": {},
   "outputs": [
    {
     "data": {
      "text/html": [
       "<div>\n",
       "<style scoped>\n",
       "    .dataframe tbody tr th:only-of-type {\n",
       "        vertical-align: middle;\n",
       "    }\n",
       "\n",
       "    .dataframe tbody tr th {\n",
       "        vertical-align: top;\n",
       "    }\n",
       "\n",
       "    .dataframe thead th {\n",
       "        text-align: right;\n",
       "    }\n",
       "</style>\n",
       "<table border=\"1\" class=\"dataframe\">\n",
       "  <thead>\n",
       "    <tr style=\"text-align: right;\">\n",
       "      <th></th>\n",
       "      <th>date_operation</th>\n",
       "      <th>libelle</th>\n",
       "      <th>montant</th>\n",
       "      <th>solde_avt_ope</th>\n",
       "      <th>categ</th>\n",
       "    </tr>\n",
       "  </thead>\n",
       "  <tbody>\n",
       "    <tr>\n",
       "      <th>43</th>\n",
       "      <td>2023-04-25</td>\n",
       "      <td>CARTE XX XX LES ANCIENS ROBINSON XX</td>\n",
       "      <td>-32.67</td>\n",
       "      <td>3647.67</td>\n",
       "      <td>COURSES</td>\n",
       "    </tr>\n",
       "    <tr>\n",
       "      <th>44</th>\n",
       "      <td>2023-04-25</td>\n",
       "      <td>CARTE XX XX LES ANCIENS ROBINSON XX</td>\n",
       "      <td>-32.67</td>\n",
       "      <td>3647.67</td>\n",
       "      <td>COURSES</td>\n",
       "    </tr>\n",
       "  </tbody>\n",
       "</table>\n",
       "</div>"
      ],
      "text/plain": [
       "   date_operation                              libelle  montant  \\\n",
       "43     2023-04-25  CARTE XX XX LES ANCIENS ROBINSON XX   -32.67   \n",
       "44     2023-04-25  CARTE XX XX LES ANCIENS ROBINSON XX   -32.67   \n",
       "\n",
       "    solde_avt_ope    categ  \n",
       "43        3647.67  COURSES  \n",
       "44        3647.67  COURSES  "
      ]
     },
     "execution_count": 124,
     "metadata": {},
     "output_type": "execute_result"
    }
   ],
   "source": [
    "op.loc[op[['date_operation','libelle', 'montant', 'solde_avt_ope']].duplicated(keep = False),:]"
   ]
  },
  {
   "cell_type": "code",
   "execution_count": 126,
   "id": "51a28f9e",
   "metadata": {},
   "outputs": [],
   "source": [
    "op.drop_duplicates(subset=['date_operation','libelle', 'montant', 'solde_avt_ope'], inplace=True, ignore_index=True)"
   ]
  },
  {
   "cell_type": "code",
   "execution_count": 127,
   "id": "752c0b6b",
   "metadata": {},
   "outputs": [
    {
     "data": {
      "text/html": [
       "<div>\n",
       "<style scoped>\n",
       "    .dataframe tbody tr th:only-of-type {\n",
       "        vertical-align: middle;\n",
       "    }\n",
       "\n",
       "    .dataframe tbody tr th {\n",
       "        vertical-align: top;\n",
       "    }\n",
       "\n",
       "    .dataframe thead th {\n",
       "        text-align: right;\n",
       "    }\n",
       "</style>\n",
       "<table border=\"1\" class=\"dataframe\">\n",
       "  <thead>\n",
       "    <tr style=\"text-align: right;\">\n",
       "      <th></th>\n",
       "      <th>montant</th>\n",
       "      <th>solde_avt_ope</th>\n",
       "    </tr>\n",
       "  </thead>\n",
       "  <tbody>\n",
       "    <tr>\n",
       "      <th>count</th>\n",
       "      <td>308.000000</td>\n",
       "      <td>308.000000</td>\n",
       "    </tr>\n",
       "    <tr>\n",
       "      <th>mean</th>\n",
       "      <td>-45.782013</td>\n",
       "      <td>3395.301071</td>\n",
       "    </tr>\n",
       "    <tr>\n",
       "      <th>std</th>\n",
       "      <td>872.818105</td>\n",
       "      <td>667.109412</td>\n",
       "    </tr>\n",
       "    <tr>\n",
       "      <th>min</th>\n",
       "      <td>-15000.000000</td>\n",
       "      <td>1416.810000</td>\n",
       "    </tr>\n",
       "    <tr>\n",
       "      <th>25%</th>\n",
       "      <td>-20.447500</td>\n",
       "      <td>3010.737500</td>\n",
       "    </tr>\n",
       "    <tr>\n",
       "      <th>50%</th>\n",
       "      <td>-9.600000</td>\n",
       "      <td>3452.465000</td>\n",
       "    </tr>\n",
       "    <tr>\n",
       "      <th>75%</th>\n",
       "      <td>-2.715000</td>\n",
       "      <td>3787.232500</td>\n",
       "    </tr>\n",
       "    <tr>\n",
       "      <th>max</th>\n",
       "      <td>1071.600000</td>\n",
       "      <td>4709.310000</td>\n",
       "    </tr>\n",
       "  </tbody>\n",
       "</table>\n",
       "</div>"
      ],
      "text/plain": [
       "            montant  solde_avt_ope\n",
       "count    308.000000     308.000000\n",
       "mean     -45.782013    3395.301071\n",
       "std      872.818105     667.109412\n",
       "min   -15000.000000    1416.810000\n",
       "25%      -20.447500    3010.737500\n",
       "50%       -9.600000    3452.465000\n",
       "75%       -2.715000    3787.232500\n",
       "max     1071.600000    4709.310000"
      ]
     },
     "execution_count": 127,
     "metadata": {},
     "output_type": "execute_result"
    }
   ],
   "source": [
    "op.describe()"
   ]
  },
  {
   "cell_type": "code",
   "execution_count": 129,
   "id": "036b752d",
   "metadata": {},
   "outputs": [
    {
     "data": {
      "text/html": [
       "<div>\n",
       "<style scoped>\n",
       "    .dataframe tbody tr th:only-of-type {\n",
       "        vertical-align: middle;\n",
       "    }\n",
       "\n",
       "    .dataframe tbody tr th {\n",
       "        vertical-align: top;\n",
       "    }\n",
       "\n",
       "    .dataframe thead th {\n",
       "        text-align: right;\n",
       "    }\n",
       "</style>\n",
       "<table border=\"1\" class=\"dataframe\">\n",
       "  <thead>\n",
       "    <tr style=\"text-align: right;\">\n",
       "      <th></th>\n",
       "      <th>date_operation</th>\n",
       "      <th>libelle</th>\n",
       "      <th>montant</th>\n",
       "      <th>solde_avt_ope</th>\n",
       "      <th>categ</th>\n",
       "    </tr>\n",
       "  </thead>\n",
       "  <tbody>\n",
       "    <tr>\n",
       "      <th>197</th>\n",
       "      <td>2023-08-03</td>\n",
       "      <td>VIREMENT XX XX XX XX XX XX XX XX XX XX XX XX</td>\n",
       "      <td>676.00</td>\n",
       "      <td>3121.35</td>\n",
       "      <td>AUTRE</td>\n",
       "    </tr>\n",
       "    <tr>\n",
       "      <th>198</th>\n",
       "      <td>2023-08-03</td>\n",
       "      <td>CARTE XX XX XX XX</td>\n",
       "      <td>-15000.00</td>\n",
       "      <td>3797.35</td>\n",
       "      <td>AUTRE</td>\n",
       "    </tr>\n",
       "    <tr>\n",
       "      <th>199</th>\n",
       "      <td>2023-08-03</td>\n",
       "      <td>CARTE XX XX L'EPICERIE DEMBAS XX XX</td>\n",
       "      <td>-10.51</td>\n",
       "      <td>3782.96</td>\n",
       "      <td>AUTRE</td>\n",
       "    </tr>\n",
       "  </tbody>\n",
       "</table>\n",
       "</div>"
      ],
      "text/plain": [
       "    date_operation                                       libelle   montant  \\\n",
       "197     2023-08-03  VIREMENT XX XX XX XX XX XX XX XX XX XX XX XX    676.00   \n",
       "198     2023-08-03                             CARTE XX XX XX XX -15000.00   \n",
       "199     2023-08-03           CARTE XX XX L'EPICERIE DEMBAS XX XX    -10.51   \n",
       "\n",
       "     solde_avt_ope  categ  \n",
       "197        3121.35  AUTRE  \n",
       "198        3797.35  AUTRE  \n",
       "199        3782.96  AUTRE  "
      ]
     },
     "execution_count": 129,
     "metadata": {},
     "output_type": "execute_result"
    }
   ],
   "source": [
    "i = op.loc[op['montant']==-15000,:].index[0]\n",
    "op.iloc[i-1:i+2,:]"
   ]
  },
  {
   "cell_type": "code",
   "execution_count": 130,
   "id": "cee81d7c",
   "metadata": {},
   "outputs": [],
   "source": [
    "op.loc[op['montant']==-15000,'montant']= -14.39"
   ]
  },
  {
   "cell_type": "code",
   "execution_count": 136,
   "id": "d21592e7",
   "metadata": {},
   "outputs": [
    {
     "data": {
      "image/png": "[encoded data removed]",
      "text/plain": [
       "<Figure size 432x288 with 1 Axes>"
      ]
     },
     "metadata": {},
     "output_type": "display_data"
    },
    {
     "data": {
      "image/png": "[encoded data removed]",
      "text/plain": [
       "<Figure size 432x288 with 1 Axes>"
      ]
     },
     "metadata": {
      "needs_background": "light"
     },
     "output_type": "display_data"
    }
   ],
   "source": [
    "import matplotlib.pyplot as plt\n",
    "\n",
    "# Diagramme en secteurs\n",
    "op['categ'].value_counts(normalize=True).plot(kind='pie')\n",
    "# Cette ligne assure que le pie chart est un cercle plutôt qu'une éllipse\n",
    "plt.axis('equal') \n",
    "plt.show() # Affiche le graphique\n",
    "\n",
    "# Diagramme en tuyaux d'orgues\n",
    "op['categ'].value_counts(normalize=True).plot(kind='bar')\n",
    "plt.show()"
   ]
  },
  {
   "cell_type": "code",
   "execution_count": 137,
   "id": "9ccb720d",
   "metadata": {},
   "outputs": [],
   "source": [
    "op['quart_mois'] = [int((jour-1)*4/31)+1 for jour in op[\"date_operation\"].dt.day]"
   ]
  },
  {
   "cell_type": "code",
   "execution_count": 138,
   "id": "d09b695e",
   "metadata": {},
   "outputs": [
    {
     "data": {
      "image/png": "[encoded data removed]",
      "text/plain": [
       "<Figure size 432x288 with 1 Axes>"
      ]
     },
     "metadata": {
      "needs_background": "light"
     },
     "output_type": "display_data"
    }
   ],
   "source": [
    "# Diagramme en bâtons\n",
    "op[\"quart_mois\"].value_counts(normalize=True).plot(kind='bar',width=0.1)\n",
    "plt.show()"
   ]
  },
  {
   "cell_type": "code",
   "execution_count": 139,
   "id": "b13421dd",
   "metadata": {},
   "outputs": [
    {
     "data": {
      "image/png": "[encoded data removed]",
      "text/plain": [
       "<Figure size 432x288 with 1 Axes>"
      ]
     },
     "metadata": {
      "needs_background": "light"
     },
     "output_type": "display_data"
    }
   ],
   "source": [
    "op['montant'].hist(density=True)\n",
    "plt.show()"
   ]
  },
  {
   "cell_type": "code",
   "execution_count": 141,
   "id": "8e7927da",
   "metadata": {},
   "outputs": [
    {
     "data": {
      "image/png": "[encoded data removed]",
      "text/plain": [
       "<Figure size 432x288 with 1 Axes>"
      ]
     },
     "metadata": {
      "needs_background": "light"
     },
     "output_type": "display_data"
    }
   ],
   "source": [
    "op[op.montant.abs()<100]['montant'].hist(density=True, bins=20)\n",
    "plt.show()"
   ]
  },
  {
   "cell_type": "code",
   "execution_count": 152,
   "id": "f581115a",
   "metadata": {},
   "outputs": [
    {
     "data": {
      "text/html": [
       "<div>\n",
       "<style scoped>\n",
       "    .dataframe tbody tr th:only-of-type {\n",
       "        vertical-align: middle;\n",
       "    }\n",
       "\n",
       "    .dataframe tbody tr th {\n",
       "        vertical-align: top;\n",
       "    }\n",
       "\n",
       "    .dataframe thead th {\n",
       "        text-align: right;\n",
       "    }\n",
       "</style>\n",
       "<table border=\"1\" class=\"dataframe\">\n",
       "  <thead>\n",
       "    <tr style=\"text-align: right;\">\n",
       "      <th></th>\n",
       "      <th>quart_mois</th>\n",
       "      <th>n</th>\n",
       "      <th>f</th>\n",
       "      <th>F</th>\n",
       "    </tr>\n",
       "  </thead>\n",
       "  <tbody>\n",
       "    <tr>\n",
       "      <th>0</th>\n",
       "      <td>1</td>\n",
       "      <td>86</td>\n",
       "      <td>0.279221</td>\n",
       "      <td>0.279221</td>\n",
       "    </tr>\n",
       "    <tr>\n",
       "      <th>1</th>\n",
       "      <td>2</td>\n",
       "      <td>76</td>\n",
       "      <td>0.246753</td>\n",
       "      <td>0.525974</td>\n",
       "    </tr>\n",
       "    <tr>\n",
       "      <th>2</th>\n",
       "      <td>3</td>\n",
       "      <td>75</td>\n",
       "      <td>0.243506</td>\n",
       "      <td>0.769481</td>\n",
       "    </tr>\n",
       "    <tr>\n",
       "      <th>3</th>\n",
       "      <td>4</td>\n",
       "      <td>71</td>\n",
       "      <td>0.230519</td>\n",
       "      <td>1.000000</td>\n",
       "    </tr>\n",
       "  </tbody>\n",
       "</table>\n",
       "</div>"
      ],
      "text/plain": [
       "   quart_mois   n         f         F\n",
       "0           1  86  0.279221  0.279221\n",
       "1           2  76  0.246753  0.525974\n",
       "2           3  75  0.243506  0.769481\n",
       "3           4  71  0.230519  1.000000"
      ]
     },
     "execution_count": 152,
     "metadata": {},
     "output_type": "execute_result"
    }
   ],
   "source": [
    "effectifs = op[\"quart_mois\"].value_counts()\n",
    "modalites = effectifs.index\n",
    "tab = pd.DataFrame(modalites, columns = [\"quart_mois\"])\n",
    "\n",
    "tab[\"n\"] = effectifs.values\n",
    "tab['f'] = tab[\"n\"]/len(op)\n",
    "tab = tab.sort_values(\"quart_mois\")\n",
    "tab[\"F\"] = tab['f'].cumsum()\n",
    "tab.head()"
   ]
  },
  {
   "cell_type": "code",
   "execution_count": 155,
   "id": "5b6526f2",
   "metadata": {},
   "outputs": [
    {
     "data": {
      "text/plain": [
       "-9.6"
      ]
     },
     "execution_count": 155,
     "metadata": {},
     "output_type": "execute_result"
    }
   ],
   "source": [
    "op['montant'].median()"
   ]
  },
  {
   "cell_type": "code",
   "execution_count": 163,
   "id": "f3d867cd",
   "metadata": {},
   "outputs": [
    {
     "data": {
      "text/plain": [
       "31007.638040630973"
      ]
     },
     "execution_count": 163,
     "metadata": {},
     "output_type": "execute_result"
    }
   ],
   "source": [
    "op['montant'].var()"
   ]
  },
  {
   "cell_type": "code",
   "execution_count": 164,
   "id": "03ce091c",
   "metadata": {},
   "outputs": [
    {
     "data": {
      "text/plain": [
       "30906.963891148403"
      ]
     },
     "execution_count": 164,
     "metadata": {},
     "output_type": "execute_result"
    }
   ],
   "source": [
    "op['montant'].var(ddof=0)"
   ]
  },
  {
   "cell_type": "code",
   "execution_count": 165,
   "id": "7f2060f1",
   "metadata": {},
   "outputs": [
    {
     "data": {
      "text/plain": [
       "176.08985785851203"
      ]
     },
     "execution_count": 165,
     "metadata": {},
     "output_type": "execute_result"
    }
   ],
   "source": [
    "op['montant'].std()"
   ]
  },
  {
   "cell_type": "code",
   "execution_count": 167,
   "id": "e5847ac5",
   "metadata": {},
   "outputs": [
    {
     "data": {
      "text/plain": [
       "61.30056651079017"
      ]
     },
     "execution_count": 167,
     "metadata": {},
     "output_type": "execute_result"
    }
   ],
   "source": [
    "op['montant'].std()/op['montant'].mean()"
   ]
  },
  {
   "cell_type": "code",
   "execution_count": 168,
   "id": "ee140ef7",
   "metadata": {},
   "outputs": [
    {
     "data": {
      "image/png": "[encoded data removed]",
      "text/plain": [
       "<Figure size 432x288 with 1 Axes>"
      ]
     },
     "metadata": {
      "needs_background": "light"
     },
     "output_type": "display_data"
    }
   ],
   "source": [
    "op.boxplot(column = 'montant', vert =False)\n",
    "plt.show()"
   ]
  },
  {
   "cell_type": "code",
   "execution_count": 169,
   "id": "b23ca055",
   "metadata": {},
   "outputs": [
    {
     "data": {
      "text/plain": [
       "3.3618450105098843"
      ]
     },
     "execution_count": 169,
     "metadata": {},
     "output_type": "execute_result"
    }
   ],
   "source": [
    "op['montant'].skew()"
   ]
  },
  {
   "cell_type": "code",
   "execution_count": 176,
   "id": "16721357",
   "metadata": {},
   "outputs": [
    {
     "name": "stdout",
     "output_type": "stream",
     "text": [
      "[9.25023386e-05 1.85004677e-04 2.77507016e-04 3.70009354e-04\n",
      " 4.62511693e-04 5.71201941e-04 6.82204747e-04 7.93207553e-04\n",
      " 9.04210360e-04 1.02908852e-03 1.15859179e-03 1.28809506e-03\n",
      " 1.42569229e-03 1.56444580e-03 1.72632489e-03 1.89282910e-03\n",
      " 2.05933331e-03 2.22583752e-03 2.39234173e-03 2.55884594e-03\n",
      " 2.72535015e-03 2.90226087e-03 3.08726555e-03 3.27227023e-03\n",
      " 3.45727490e-03 3.64227958e-03 3.82728426e-03 4.01228894e-03\n",
      " 4.19729361e-03 4.38229829e-03 4.57655320e-03 4.77312067e-03\n",
      " 4.97662582e-03 5.18013096e-03 5.39288634e-03 5.60564172e-03\n",
      " 5.81839710e-03 6.03809015e-03 6.26009576e-03 6.48210138e-03\n",
      " 6.70410699e-03 6.92611260e-03 7.15736845e-03 7.38862429e-03\n",
      " 7.61988014e-03 7.85229227e-03 8.11592393e-03 8.38418071e-03\n",
      " 8.66168773e-03 8.93919474e-03 9.21670176e-03 9.49420878e-03\n",
      " 9.77171579e-03 1.00492228e-02 1.03313549e-02 1.06146434e-02\n",
      " 1.09048694e-02 1.12008769e-02 1.14968844e-02 1.18090798e-02\n",
      " 1.21235877e-02 1.24623776e-02 1.28323869e-02 1.32023963e-02\n",
      " 1.35816559e-02 1.39840410e-02 1.44003016e-02 1.48373751e-02\n",
      " 1.52906366e-02 1.57531483e-02 1.62156600e-02 1.66781716e-02\n",
      " 1.71406833e-02 1.76482899e-02 1.81582091e-02 1.86935663e-02\n",
      " 1.92474241e-02 1.98024381e-02 2.03574522e-02 2.09124662e-02\n",
      " 2.14767305e-02 2.20409947e-02 2.26191343e-02 2.32088367e-02\n",
      " 2.38101019e-02 2.44541495e-02 2.51016659e-02 2.57491822e-02\n",
      " 2.64290744e-02 2.71228419e-02 2.78605481e-02 2.85982542e-02\n",
      " 2.93371167e-02 3.00771354e-02 3.08275606e-02 3.15907049e-02\n",
      " 3.23769748e-02 3.31736512e-02 3.39853592e-02 3.47970672e-02\n",
      " 3.56203380e-02 3.64436088e-02 3.72668797e-02 3.80901505e-02\n",
      " 3.89226715e-02 3.97852558e-02 4.06570904e-02 4.15289249e-02\n",
      " 4.24030720e-02 4.32980321e-02 4.42045550e-02 4.51110780e-02\n",
      " 4.60349451e-02 4.69599685e-02 4.78849918e-02 4.88100152e-02\n",
      " 4.97350386e-02 5.06600620e-02 5.15850854e-02 5.25262967e-02\n",
      " 5.35068215e-02 5.44919714e-02 5.54863715e-02 5.64946470e-02\n",
      " 5.75121727e-02 5.85296985e-02 5.95472242e-02 6.06005946e-02\n",
      " 6.16643715e-02 6.27281483e-02 6.37919252e-02 6.48684212e-02\n",
      " 6.59449172e-02 6.70456950e-02 6.81557231e-02 6.92657511e-02\n",
      " 7.03757792e-02 7.14858073e-02 7.26097107e-02 7.37405518e-02\n",
      " 7.48737054e-02 7.60091716e-02 7.71515755e-02 7.83078547e-02\n",
      " 7.94641340e-02 8.06261946e-02 8.18055994e-02 8.29850042e-02\n",
      " 8.41678779e-02 8.53611580e-02 8.65590633e-02 8.77615937e-02\n",
      " 8.89641241e-02 9.01666545e-02 9.13691849e-02 9.25717153e-02\n",
      " 9.37777146e-02 9.49860264e-02 9.62012758e-02 9.74315569e-02\n",
      " 9.86895887e-02 9.99510894e-02 1.01217215e-01 1.02489122e-01\n",
      " 1.03774905e-01 1.05069938e-01 1.06364970e-01 1.07665784e-01\n",
      " 1.08983943e-01 1.10306726e-01 1.11652635e-01 1.13005482e-01\n",
      " 1.14389548e-01 1.15777083e-01 1.17164618e-01 1.18552153e-01\n",
      " 1.19939688e-01 1.21327224e-01 1.22742509e-01 1.24178608e-01\n",
      " 1.25621645e-01 1.27065837e-01 1.28550500e-01 1.30049038e-01\n",
      " 1.31559138e-01 1.33129366e-01 1.34700749e-01 1.36273289e-01\n",
      " 1.37845829e-01 1.39483120e-01 1.41147006e-01 1.42810892e-01\n",
      " 1.44474778e-01 1.46138663e-01 1.47802549e-01 1.49466435e-01\n",
      " 1.51131477e-01 1.52821957e-01 1.54579502e-01 1.56407579e-01\n",
      " 1.58256470e-01 1.60187456e-01 1.62171631e-01 1.64160431e-01\n",
      " 1.66149232e-01 1.68165783e-01 1.70274836e-01 1.72402390e-01\n",
      " 1.74535725e-01 1.76755781e-01 1.78994338e-01 1.81261801e-01\n",
      " 1.83555859e-01 1.85860324e-01 1.88219133e-01 1.90599912e-01\n",
      " 1.92986473e-01 1.95391533e-01 1.97904128e-01 2.00516163e-01\n",
      " 2.03198731e-01 2.05896330e-01 2.08605493e-01 2.11363219e-01\n",
      " 2.14138289e-01 2.16913359e-01 2.19688429e-01 2.22519001e-01\n",
      " 2.25547296e-01 2.28620686e-01 2.31821267e-01 2.35071568e-01\n",
      " 2.38420153e-01 2.41773362e-01 2.45147385e-01 2.48523720e-01\n",
      " 2.51937057e-01 2.55448677e-01 2.59148770e-01 2.62848864e-01\n",
      " 2.66548957e-01 2.70249051e-01 2.73949145e-01 2.77700114e-01\n",
      " 2.81477679e-01 2.85356995e-01 2.89519601e-01 2.93682206e-01\n",
      " 2.97844811e-01 3.02007416e-01 3.06170022e-01 3.10332627e-01\n",
      " 3.14550733e-01 3.19175850e-01 3.23800967e-01 3.28426084e-01\n",
      " 3.33331021e-01 3.38239426e-01 3.43280804e-01 3.48785849e-01\n",
      " 3.54335989e-01 3.59886130e-01 3.65436270e-01 3.71576113e-01\n",
      " 3.77792270e-01 3.84748446e-01 3.92574144e-01 4.01014982e-01\n",
      " 4.09455820e-01 4.17896659e-01 4.26337497e-01 4.34778335e-01\n",
      " 4.43401866e-01 4.52097086e-01 4.60792306e-01 4.70551302e-01\n",
      " 4.81651583e-01 4.93676887e-01 5.09661291e-01 5.30935673e-01\n",
      " 5.52997480e-01 5.85373299e-01 6.22374234e-01 6.62265868e-01\n",
      " 7.02157501e-01 7.42049135e-01 7.81940768e-01 8.21832402e-01\n",
      " 8.61724035e-01 9.30360771e-01 1.00000000e+00]\n"
     ]
    }
   ],
   "source": [
    "depenses = op[op['montant']<0]\n",
    "dep = -depenses['montant'].values\n",
    "\n",
    "n = len(dep)\n",
    "lorenz = np.cumsum(np.sort(dep))/dep.sum()\n",
    "print(lorenz) "
   ]
  },
  {
   "cell_type": "code",
   "execution_count": null,
   "id": "93bd64f6",
   "metadata": {},
   "outputs": [],
   "source": []
  }
 ],
 "metadata": {
  "kernelspec": {
   "display_name": "Python 3 (ipykernel)",
   "language": "python",
   "name": "python3"
  },
  "language_info": {
   "codemirror_mode": {
    "name": "ipython",
    "version": 3
   },
   "file_extension": ".py",
   "mimetype": "text/x-python",
   "name": "python",
   "nbconvert_exporter": "python",
   "pygments_lexer": "ipython3",
   "version": "3.9.12"
  }
 },
 "nbformat": 4,
 "nbformat_minor": 5
}
