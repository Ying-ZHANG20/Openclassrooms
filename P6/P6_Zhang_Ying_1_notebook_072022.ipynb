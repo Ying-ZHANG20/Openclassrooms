{
 "cells": [
  {
   "cell_type": "markdown",
   "id": "1f614f88",
   "metadata": {},
   "source": [
    "# Projet 6 - Lapage"
   ]
  },
  {
   "cell_type": "markdown",
   "id": "2ee1b659",
   "metadata": {},
   "source": [
    "# I. Nettoyage de données"
   ]
  },
  {
   "cell_type": "code",
   "execution_count": 1,
   "id": "63347ff2",
   "metadata": {},
   "outputs": [],
   "source": [
    "import pandas as pd\n",
    "import numpy as np\n",
    "import matplotlib.pyplot as plt\n",
    "import matplotlib as mpl\n",
    "from datetime import datetime\n",
    "import seaborn as sns\n",
    "import scipy.stats as st"
   ]
  },
  {
   "cell_type": "code",
   "execution_count": null,
   "id": "0617733a",
   "metadata": {},
   "outputs": [],
   "source": [
    "# préparation des données customer\n",
    "customer = pd.read_csv('customers.csv')\n",
    "len(customer)"
   ]
  },
  {
   "cell_type": "code",
   "execution_count": null,
   "id": "62ff4a9b",
   "metadata": {},
   "outputs": [],
   "source": [
    "len(customer['client_id'].unique()) #client_id est unique"
   ]
  },
  {
   "cell_type": "code",
   "execution_count": null,
   "id": "22213e9f",
   "metadata": {},
   "outputs": [],
   "source": [
    "customer.isnull().sum() # pas de valeur nulle dans le dataframe\n"
   ]
  },
  {
   "cell_type": "code",
   "execution_count": null,
   "id": "f1ada403",
   "metadata": {},
   "outputs": [],
   "source": [
    "customer.describe() # pas d'anomalie visible"
   ]
  },
  {
   "cell_type": "code",
   "execution_count": 66,
   "id": "5553f0df",
   "metadata": {},
   "outputs": [
    {
     "data": {
      "text/plain": [
       "3287"
      ]
     },
     "execution_count": 66,
     "metadata": {},
     "output_type": "execute_result"
    }
   ],
   "source": [
    "# préparation des données product\n",
    "product = pd.read_csv('products.csv')\n",
    "len(product)\n",
    "\n"
   ]
  },
  {
   "cell_type": "code",
   "execution_count": 67,
   "id": "62e11dc8",
   "metadata": {},
   "outputs": [
    {
     "data": {
      "text/plain": [
       "3287"
      ]
     },
     "execution_count": 67,
     "metadata": {},
     "output_type": "execute_result"
    }
   ],
   "source": [
    "len(product['id_prod'].unique()) #product_id est unique"
   ]
  },
  {
   "cell_type": "code",
   "execution_count": 68,
   "id": "57d7eb34",
   "metadata": {},
   "outputs": [
    {
     "data": {
      "text/plain": [
       "id_prod    0\n",
       "price      0\n",
       "categ      0\n",
       "dtype: int64"
      ]
     },
     "execution_count": 68,
     "metadata": {},
     "output_type": "execute_result"
    }
   ],
   "source": [
    "product.isnull().sum() # Pas de valeur nulle"
   ]
  },
  {
   "cell_type": "code",
   "execution_count": 69,
   "id": "93934f6f",
   "metadata": {},
   "outputs": [
    {
     "data": {
      "text/plain": [
       "731      -1.00\n",
       "2355      0.62\n",
       "2272      0.62\n",
       "370       0.66\n",
       "1211      0.77\n",
       "         ...  \n",
       "2779    233.54\n",
       "1436    236.99\n",
       "394     247.22\n",
       "724     254.44\n",
       "947     300.00\n",
       "Name: price, Length: 3287, dtype: float64"
      ]
     },
     "execution_count": 69,
     "metadata": {},
     "output_type": "execute_result"
    }
   ],
   "source": [
    "product['price'].sort_values() # une anomalie du prix, le prix ne peut pas etre negatif\n"
   ]
  },
  {
   "cell_type": "code",
   "execution_count": 70,
   "id": "798d3bbe",
   "metadata": {},
   "outputs": [
    {
     "data": {
      "text/html": [
       "<div>\n",
       "<style scoped>\n",
       "    .dataframe tbody tr th:only-of-type {\n",
       "        vertical-align: middle;\n",
       "    }\n",
       "\n",
       "    .dataframe tbody tr th {\n",
       "        vertical-align: top;\n",
       "    }\n",
       "\n",
       "    .dataframe thead th {\n",
       "        text-align: right;\n",
       "    }\n",
       "</style>\n",
       "<table border=\"1\" class=\"dataframe\">\n",
       "  <thead>\n",
       "    <tr style=\"text-align: right;\">\n",
       "      <th></th>\n",
       "      <th>price</th>\n",
       "      <th>categ</th>\n",
       "    </tr>\n",
       "  </thead>\n",
       "  <tbody>\n",
       "    <tr>\n",
       "      <th>count</th>\n",
       "      <td>3286.000000</td>\n",
       "      <td>3286.000000</td>\n",
       "    </tr>\n",
       "    <tr>\n",
       "      <th>mean</th>\n",
       "      <td>21.863597</td>\n",
       "      <td>0.370359</td>\n",
       "    </tr>\n",
       "    <tr>\n",
       "      <th>std</th>\n",
       "      <td>29.849786</td>\n",
       "      <td>0.615446</td>\n",
       "    </tr>\n",
       "    <tr>\n",
       "      <th>min</th>\n",
       "      <td>0.620000</td>\n",
       "      <td>0.000000</td>\n",
       "    </tr>\n",
       "    <tr>\n",
       "      <th>25%</th>\n",
       "      <td>6.990000</td>\n",
       "      <td>0.000000</td>\n",
       "    </tr>\n",
       "    <tr>\n",
       "      <th>50%</th>\n",
       "      <td>13.075000</td>\n",
       "      <td>0.000000</td>\n",
       "    </tr>\n",
       "    <tr>\n",
       "      <th>75%</th>\n",
       "      <td>22.990000</td>\n",
       "      <td>1.000000</td>\n",
       "    </tr>\n",
       "    <tr>\n",
       "      <th>max</th>\n",
       "      <td>300.000000</td>\n",
       "      <td>2.000000</td>\n",
       "    </tr>\n",
       "  </tbody>\n",
       "</table>\n",
       "</div>"
      ],
      "text/plain": [
       "             price        categ\n",
       "count  3286.000000  3286.000000\n",
       "mean     21.863597     0.370359\n",
       "std      29.849786     0.615446\n",
       "min       0.620000     0.000000\n",
       "25%       6.990000     0.000000\n",
       "50%      13.075000     0.000000\n",
       "75%      22.990000     1.000000\n",
       "max     300.000000     2.000000"
      ]
     },
     "execution_count": 70,
     "metadata": {},
     "output_type": "execute_result"
    }
   ],
   "source": [
    "product.drop(product.index[731], inplace=True) #supprimer la ligne de donnees ayant le prix en negatif\n",
    "product.describe() # pas d'anomalie visible"
   ]
  },
  {
   "cell_type": "code",
   "execution_count": 71,
   "id": "46b12916",
   "metadata": {},
   "outputs": [
    {
     "data": {
      "text/html": [
       "<div>\n",
       "<style scoped>\n",
       "    .dataframe tbody tr th:only-of-type {\n",
       "        vertical-align: middle;\n",
       "    }\n",
       "\n",
       "    .dataframe tbody tr th {\n",
       "        vertical-align: top;\n",
       "    }\n",
       "\n",
       "    .dataframe thead th {\n",
       "        text-align: right;\n",
       "    }\n",
       "</style>\n",
       "<table border=\"1\" class=\"dataframe\">\n",
       "  <thead>\n",
       "    <tr style=\"text-align: right;\">\n",
       "      <th></th>\n",
       "      <th>id_prod</th>\n",
       "      <th>date</th>\n",
       "      <th>session_id</th>\n",
       "      <th>client_id</th>\n",
       "    </tr>\n",
       "  </thead>\n",
       "  <tbody>\n",
       "    <tr>\n",
       "      <th>27778</th>\n",
       "      <td>T_0</td>\n",
       "      <td>test_2021-03-01 02:30:02.237437</td>\n",
       "      <td>s_0</td>\n",
       "      <td>ct_1</td>\n",
       "    </tr>\n",
       "    <tr>\n",
       "      <th>52424</th>\n",
       "      <td>T_0</td>\n",
       "      <td>test_2021-03-01 02:30:02.237419</td>\n",
       "      <td>s_0</td>\n",
       "      <td>ct_0</td>\n",
       "    </tr>\n",
       "    <tr>\n",
       "      <th>96687</th>\n",
       "      <td>T_0</td>\n",
       "      <td>test_2021-03-01 02:30:02.237412</td>\n",
       "      <td>s_0</td>\n",
       "      <td>ct_1</td>\n",
       "    </tr>\n",
       "    <tr>\n",
       "      <th>130188</th>\n",
       "      <td>T_0</td>\n",
       "      <td>test_2021-03-01 02:30:02.237419</td>\n",
       "      <td>s_0</td>\n",
       "      <td>ct_0</td>\n",
       "    </tr>\n",
       "    <tr>\n",
       "      <th>139339</th>\n",
       "      <td>T_0</td>\n",
       "      <td>test_2021-03-01 02:30:02.237443</td>\n",
       "      <td>s_0</td>\n",
       "      <td>ct_1</td>\n",
       "    </tr>\n",
       "    <tr>\n",
       "      <th>...</th>\n",
       "      <td>...</td>\n",
       "      <td>...</td>\n",
       "      <td>...</td>\n",
       "      <td>...</td>\n",
       "    </tr>\n",
       "    <tr>\n",
       "      <th>653098</th>\n",
       "      <td>T_0</td>\n",
       "      <td>test_2021-03-01 02:30:02.237432</td>\n",
       "      <td>s_0</td>\n",
       "      <td>ct_0</td>\n",
       "    </tr>\n",
       "    <tr>\n",
       "      <th>657830</th>\n",
       "      <td>T_0</td>\n",
       "      <td>test_2021-03-01 02:30:02.237417</td>\n",
       "      <td>s_0</td>\n",
       "      <td>ct_0</td>\n",
       "    </tr>\n",
       "    <tr>\n",
       "      <th>662081</th>\n",
       "      <td>T_0</td>\n",
       "      <td>test_2021-03-01 02:30:02.237427</td>\n",
       "      <td>s_0</td>\n",
       "      <td>ct_1</td>\n",
       "    </tr>\n",
       "    <tr>\n",
       "      <th>671647</th>\n",
       "      <td>T_0</td>\n",
       "      <td>test_2021-03-01 02:30:02.237424</td>\n",
       "      <td>s_0</td>\n",
       "      <td>ct_1</td>\n",
       "    </tr>\n",
       "    <tr>\n",
       "      <th>679180</th>\n",
       "      <td>T_0</td>\n",
       "      <td>test_2021-03-01 02:30:02.237425</td>\n",
       "      <td>s_0</td>\n",
       "      <td>ct_1</td>\n",
       "    </tr>\n",
       "  </tbody>\n",
       "</table>\n",
       "<p>126 rows × 4 columns</p>\n",
       "</div>"
      ],
      "text/plain": [
       "       id_prod                             date session_id client_id\n",
       "27778      T_0  test_2021-03-01 02:30:02.237437        s_0      ct_1\n",
       "52424      T_0  test_2021-03-01 02:30:02.237419        s_0      ct_0\n",
       "96687      T_0  test_2021-03-01 02:30:02.237412        s_0      ct_1\n",
       "130188     T_0  test_2021-03-01 02:30:02.237419        s_0      ct_0\n",
       "139339     T_0  test_2021-03-01 02:30:02.237443        s_0      ct_1\n",
       "...        ...                              ...        ...       ...\n",
       "653098     T_0  test_2021-03-01 02:30:02.237432        s_0      ct_0\n",
       "657830     T_0  test_2021-03-01 02:30:02.237417        s_0      ct_0\n",
       "662081     T_0  test_2021-03-01 02:30:02.237427        s_0      ct_1\n",
       "671647     T_0  test_2021-03-01 02:30:02.237424        s_0      ct_1\n",
       "679180     T_0  test_2021-03-01 02:30:02.237425        s_0      ct_1\n",
       "\n",
       "[126 rows x 4 columns]"
      ]
     },
     "execution_count": 71,
     "metadata": {},
     "output_type": "execute_result"
    }
   ],
   "source": [
    "# préparation des données transaction\n",
    "transaction = pd.read_csv('transactions.csv')\n",
    "len(transaction)\n",
    "transaction[transaction.duplicated()] # verifier s'il y a des doublons\n"
   ]
  },
  {
   "cell_type": "code",
   "execution_count": 72,
   "id": "78941103",
   "metadata": {},
   "outputs": [],
   "source": [
    "transaction = transaction.drop_duplicates() # supprimer les doublons\n"
   ]
  },
  {
   "cell_type": "code",
   "execution_count": 73,
   "id": "8d6189b8",
   "metadata": {},
   "outputs": [
    {
     "data": {
      "text/plain": [
       "id_prod       0\n",
       "date          0\n",
       "session_id    0\n",
       "client_id     0\n",
       "dtype: int64"
      ]
     },
     "execution_count": 73,
     "metadata": {},
     "output_type": "execute_result"
    }
   ],
   "source": [
    "transaction.isnull().sum()"
   ]
  },
  {
   "cell_type": "code",
   "execution_count": 74,
   "id": "647f19dd",
   "metadata": {},
   "outputs": [
    {
     "name": "stdout",
     "output_type": "stream",
     "text": [
      "<class 'pandas.core.frame.DataFrame'>\n",
      "Int64Index: 679406 entries, 0 to 679531\n",
      "Data columns (total 4 columns):\n",
      " #   Column      Non-Null Count   Dtype \n",
      "---  ------      --------------   ----- \n",
      " 0   id_prod     679406 non-null  object\n",
      " 1   date        679406 non-null  object\n",
      " 2   session_id  679406 non-null  object\n",
      " 3   client_id   679406 non-null  object\n",
      "dtypes: object(4)\n",
      "memory usage: 25.9+ MB\n"
     ]
    }
   ],
   "source": [
    "transaction.info()"
   ]
  },
  {
   "cell_type": "code",
   "execution_count": 75,
   "id": "17128bf0",
   "metadata": {},
   "outputs": [
    {
     "name": "stdout",
     "output_type": "stream",
     "text": [
      "Int64Index([  3019,   5138,   9668,  10728,  15292,  19312,  23678,  23696,\n",
      "             35433,  38646,  46966,  49254,  50853,  53701,  69450,  72006,\n",
      "             82253,  85486,  91133,  92354,  92684,  92834,  93736,  98809,\n",
      "            100621, 103119, 105735, 109738, 117281, 134253, 145501, 153653,\n",
      "            154294, 181233, 185962, 191051, 191288, 194141, 195265, 195616,\n",
      "            198976, 201530, 218690, 246139, 246980, 254282, 259417, 260133,\n",
      "            274430, 276375, 298459, 307832, 312697, 315083, 321268, 338563,\n",
      "            339591, 366499, 384047, 392443, 404272, 414522, 459899, 482523,\n",
      "            499389, 504032, 544772, 561543, 566416, 577324, 593065, 607892,\n",
      "            626049, 670680],\n",
      "           dtype='int64')\n"
     ]
    }
   ],
   "source": [
    "# Il est impossible de changer le type pour date d'object en date, car il y a des dates qui contiennent un STR test\n",
    "contain_values = transaction[transaction['date'].str.contains('test')].index \n",
    "\n",
    "print (contain_values)"
   ]
  },
  {
   "cell_type": "code",
   "execution_count": 76,
   "id": "ab4d8410",
   "metadata": {},
   "outputs": [],
   "source": [
    "transaction = transaction.drop(contain_values) # Supprimer les données de teste dans transaction"
   ]
  },
  {
   "cell_type": "code",
   "execution_count": 77,
   "id": "90cc835f",
   "metadata": {},
   "outputs": [
    {
     "data": {
      "text/html": [
       "<div>\n",
       "<style scoped>\n",
       "    .dataframe tbody tr th:only-of-type {\n",
       "        vertical-align: middle;\n",
       "    }\n",
       "\n",
       "    .dataframe tbody tr th {\n",
       "        vertical-align: top;\n",
       "    }\n",
       "\n",
       "    .dataframe thead th {\n",
       "        text-align: right;\n",
       "    }\n",
       "</style>\n",
       "<table border=\"1\" class=\"dataframe\">\n",
       "  <thead>\n",
       "    <tr style=\"text-align: right;\">\n",
       "      <th></th>\n",
       "      <th>id_prod</th>\n",
       "      <th>date</th>\n",
       "      <th>session_id</th>\n",
       "      <th>client_id</th>\n",
       "    </tr>\n",
       "  </thead>\n",
       "  <tbody>\n",
       "    <tr>\n",
       "      <th>count</th>\n",
       "      <td>679332</td>\n",
       "      <td>679332</td>\n",
       "      <td>679332</td>\n",
       "      <td>679332</td>\n",
       "    </tr>\n",
       "    <tr>\n",
       "      <th>unique</th>\n",
       "      <td>3266</td>\n",
       "      <td>679332</td>\n",
       "      <td>342315</td>\n",
       "      <td>8600</td>\n",
       "    </tr>\n",
       "    <tr>\n",
       "      <th>top</th>\n",
       "      <td>1_369</td>\n",
       "      <td>2022-05-20 13:21:29.043970</td>\n",
       "      <td>s_118668</td>\n",
       "      <td>c_1609</td>\n",
       "    </tr>\n",
       "    <tr>\n",
       "      <th>freq</th>\n",
       "      <td>2252</td>\n",
       "      <td>1</td>\n",
       "      <td>14</td>\n",
       "      <td>25488</td>\n",
       "    </tr>\n",
       "  </tbody>\n",
       "</table>\n",
       "</div>"
      ],
      "text/plain": [
       "       id_prod                        date session_id client_id\n",
       "count   679332                      679332     679332    679332\n",
       "unique    3266                      679332     342315      8600\n",
       "top      1_369  2022-05-20 13:21:29.043970   s_118668    c_1609\n",
       "freq      2252                           1         14     25488"
      ]
     },
     "execution_count": 77,
     "metadata": {},
     "output_type": "execute_result"
    }
   ],
   "source": [
    "transaction.describe()"
   ]
  },
  {
   "cell_type": "code",
   "execution_count": 78,
   "id": "e5ea4de5",
   "metadata": {},
   "outputs": [],
   "source": [
    "# jointure des donnees de transaction et product\n",
    "df1 = pd.merge(transaction, product, how = 'left' , left_on = 'id_prod' , right_on = 'id_prod') "
   ]
  },
  {
   "cell_type": "code",
   "execution_count": 79,
   "id": "61d06f39",
   "metadata": {},
   "outputs": [
    {
     "data": {
      "text/plain": [
       "id_prod         0\n",
       "date            0\n",
       "session_id      0\n",
       "client_id       0\n",
       "price         221\n",
       "categ         221\n",
       "dtype: int64"
      ]
     },
     "execution_count": 79,
     "metadata": {},
     "output_type": "execute_result"
    }
   ],
   "source": [
    "df1.isnull().sum() # verifier s'il y a des valeurs nulles"
   ]
  },
  {
   "cell_type": "code",
   "execution_count": 80,
   "id": "b9076da4",
   "metadata": {},
   "outputs": [
    {
     "data": {
      "text/plain": [
       "array(['0_2245'], dtype=object)"
      ]
     },
     "execution_count": 80,
     "metadata": {},
     "output_type": "execute_result"
    }
   ],
   "source": [
    "df1[df1.isnull().any(axis=1)].id_prod.unique() # product ID 0_2245 n'a pas d'info sur price ni categ"
   ]
  },
  {
   "cell_type": "code",
   "execution_count": 81,
   "id": "2067d664",
   "metadata": {},
   "outputs": [],
   "source": [
    "df1.loc[df1['id_prod'] == '0_2245','categ'] = 0 # Remplir la categorie 0 pour les produits 0_2245,\n",
    "#nous laissons son prix en null car nous n'arrivons pas a savoir la vraie valeur"
   ]
  },
  {
   "cell_type": "code",
   "execution_count": 82,
   "id": "5845c060",
   "metadata": {},
   "outputs": [
    {
     "data": {
      "text/plain": [
       "id_prod         0\n",
       "date            0\n",
       "session_id      0\n",
       "client_id       0\n",
       "price         221\n",
       "categ           0\n",
       "sex             0\n",
       "birth           0\n",
       "dtype: int64"
      ]
     },
     "execution_count": 82,
     "metadata": {},
     "output_type": "execute_result"
    }
   ],
   "source": [
    "# Jointure des 3 dataframes en 1 df\n",
    "df = pd.merge(df1, customer, how = 'left' , left_on = 'client_id' , right_on = 'client_id')\n",
    "df.isnull().sum() # pas de valeur nulle\n"
   ]
  },
  {
   "cell_type": "code",
   "execution_count": 83,
   "id": "cb0be10c",
   "metadata": {},
   "outputs": [
    {
     "data": {
      "text/html": [
       "<div>\n",
       "<style scoped>\n",
       "    .dataframe tbody tr th:only-of-type {\n",
       "        vertical-align: middle;\n",
       "    }\n",
       "\n",
       "    .dataframe tbody tr th {\n",
       "        vertical-align: top;\n",
       "    }\n",
       "\n",
       "    .dataframe thead th {\n",
       "        text-align: right;\n",
       "    }\n",
       "</style>\n",
       "<table border=\"1\" class=\"dataframe\">\n",
       "  <thead>\n",
       "    <tr style=\"text-align: right;\">\n",
       "      <th></th>\n",
       "      <th>id_prod</th>\n",
       "      <th>date</th>\n",
       "      <th>session_id</th>\n",
       "      <th>client_id</th>\n",
       "      <th>price</th>\n",
       "      <th>categ</th>\n",
       "      <th>sex</th>\n",
       "      <th>birth</th>\n",
       "    </tr>\n",
       "  </thead>\n",
       "  <tbody>\n",
       "    <tr>\n",
       "      <th>480501</th>\n",
       "      <td>0_1259</td>\n",
       "      <td>2021-03-01 00:01:07.843138</td>\n",
       "      <td>s_1</td>\n",
       "      <td>c_329</td>\n",
       "      <td>11.99</td>\n",
       "      <td>0.0</td>\n",
       "      <td>f</td>\n",
       "      <td>1967</td>\n",
       "    </tr>\n",
       "    <tr>\n",
       "      <th>428350</th>\n",
       "      <td>0_1390</td>\n",
       "      <td>2021-03-01 00:02:26.047414</td>\n",
       "      <td>s_2</td>\n",
       "      <td>c_664</td>\n",
       "      <td>19.37</td>\n",
       "      <td>0.0</td>\n",
       "      <td>m</td>\n",
       "      <td>1960</td>\n",
       "    </tr>\n",
       "    <tr>\n",
       "      <th>462563</th>\n",
       "      <td>0_1352</td>\n",
       "      <td>2021-03-01 00:02:38.311413</td>\n",
       "      <td>s_3</td>\n",
       "      <td>c_580</td>\n",
       "      <td>4.50</td>\n",
       "      <td>0.0</td>\n",
       "      <td>m</td>\n",
       "      <td>1988</td>\n",
       "    </tr>\n",
       "    <tr>\n",
       "      <th>488153</th>\n",
       "      <td>0_1458</td>\n",
       "      <td>2021-03-01 00:04:54.559692</td>\n",
       "      <td>s_4</td>\n",
       "      <td>c_7912</td>\n",
       "      <td>6.55</td>\n",
       "      <td>0.0</td>\n",
       "      <td>f</td>\n",
       "      <td>1989</td>\n",
       "    </tr>\n",
       "    <tr>\n",
       "      <th>438944</th>\n",
       "      <td>0_1358</td>\n",
       "      <td>2021-03-01 00:05:18.801198</td>\n",
       "      <td>s_5</td>\n",
       "      <td>c_2033</td>\n",
       "      <td>16.49</td>\n",
       "      <td>0.0</td>\n",
       "      <td>f</td>\n",
       "      <td>1956</td>\n",
       "    </tr>\n",
       "    <tr>\n",
       "      <th>...</th>\n",
       "      <td>...</td>\n",
       "      <td>...</td>\n",
       "      <td>...</td>\n",
       "      <td>...</td>\n",
       "      <td>...</td>\n",
       "      <td>...</td>\n",
       "      <td>...</td>\n",
       "      <td>...</td>\n",
       "    </tr>\n",
       "    <tr>\n",
       "      <th>184602</th>\n",
       "      <td>1_508</td>\n",
       "      <td>2023-02-28 23:49:03.148402</td>\n",
       "      <td>s_348444</td>\n",
       "      <td>c_3573</td>\n",
       "      <td>21.92</td>\n",
       "      <td>1.0</td>\n",
       "      <td>f</td>\n",
       "      <td>1996</td>\n",
       "    </tr>\n",
       "    <tr>\n",
       "      <th>588008</th>\n",
       "      <td>2_37</td>\n",
       "      <td>2023-02-28 23:51:29.318531</td>\n",
       "      <td>s_348445</td>\n",
       "      <td>c_50</td>\n",
       "      <td>48.99</td>\n",
       "      <td>2.0</td>\n",
       "      <td>f</td>\n",
       "      <td>1994</td>\n",
       "    </tr>\n",
       "    <tr>\n",
       "      <th>130140</th>\n",
       "      <td>1_695</td>\n",
       "      <td>2023-02-28 23:53:18.929676</td>\n",
       "      <td>s_348446</td>\n",
       "      <td>c_488</td>\n",
       "      <td>26.99</td>\n",
       "      <td>1.0</td>\n",
       "      <td>f</td>\n",
       "      <td>1985</td>\n",
       "    </tr>\n",
       "    <tr>\n",
       "      <th>550293</th>\n",
       "      <td>0_1547</td>\n",
       "      <td>2023-02-28 23:58:00.107815</td>\n",
       "      <td>s_348447</td>\n",
       "      <td>c_4848</td>\n",
       "      <td>8.99</td>\n",
       "      <td>0.0</td>\n",
       "      <td>m</td>\n",
       "      <td>1953</td>\n",
       "    </tr>\n",
       "    <tr>\n",
       "      <th>84255</th>\n",
       "      <td>0_1398</td>\n",
       "      <td>2023-02-28 23:58:30.792755</td>\n",
       "      <td>s_348435</td>\n",
       "      <td>c_3575</td>\n",
       "      <td>4.52</td>\n",
       "      <td>0.0</td>\n",
       "      <td>f</td>\n",
       "      <td>1981</td>\n",
       "    </tr>\n",
       "  </tbody>\n",
       "</table>\n",
       "<p>679332 rows × 8 columns</p>\n",
       "</div>"
      ],
      "text/plain": [
       "       id_prod                       date session_id client_id  price  categ  \\\n",
       "480501  0_1259 2021-03-01 00:01:07.843138        s_1     c_329  11.99    0.0   \n",
       "428350  0_1390 2021-03-01 00:02:26.047414        s_2     c_664  19.37    0.0   \n",
       "462563  0_1352 2021-03-01 00:02:38.311413        s_3     c_580   4.50    0.0   \n",
       "488153  0_1458 2021-03-01 00:04:54.559692        s_4    c_7912   6.55    0.0   \n",
       "438944  0_1358 2021-03-01 00:05:18.801198        s_5    c_2033  16.49    0.0   \n",
       "...        ...                        ...        ...       ...    ...    ...   \n",
       "184602   1_508 2023-02-28 23:49:03.148402   s_348444    c_3573  21.92    1.0   \n",
       "588008    2_37 2023-02-28 23:51:29.318531   s_348445      c_50  48.99    2.0   \n",
       "130140   1_695 2023-02-28 23:53:18.929676   s_348446     c_488  26.99    1.0   \n",
       "550293  0_1547 2023-02-28 23:58:00.107815   s_348447    c_4848   8.99    0.0   \n",
       "84255   0_1398 2023-02-28 23:58:30.792755   s_348435    c_3575   4.52    0.0   \n",
       "\n",
       "       sex  birth  \n",
       "480501   f   1967  \n",
       "428350   m   1960  \n",
       "462563   m   1988  \n",
       "488153   f   1989  \n",
       "438944   f   1956  \n",
       "...     ..    ...  \n",
       "184602   f   1996  \n",
       "588008   f   1994  \n",
       "130140   f   1985  \n",
       "550293   m   1953  \n",
       "84255    f   1981  \n",
       "\n",
       "[679332 rows x 8 columns]"
      ]
     },
     "execution_count": 83,
     "metadata": {},
     "output_type": "execute_result"
    }
   ],
   "source": [
    "df['date'] = pd.to_datetime(df['date']) # Transfer object to date format for column date\n",
    "df.dtypes\n",
    "df.sort_values(by=['date'])"
   ]
  },
  {
   "cell_type": "code",
   "execution_count": 84,
   "id": "0ae928ea",
   "metadata": {},
   "outputs": [
    {
     "data": {
      "text/plain": [
       "id_prod                   object\n",
       "date              datetime64[ns]\n",
       "session_id                object\n",
       "client_id                 object\n",
       "price                    float64\n",
       "categ                    float64\n",
       "sex                       object\n",
       "birth                      int64\n",
       "year                       int64\n",
       "month                      int64\n",
       "year_month             period[M]\n",
       "year_month_day         period[D]\n",
       "dtype: object"
      ]
     },
     "execution_count": 84,
     "metadata": {},
     "output_type": "execute_result"
    }
   ],
   "source": [
    "# Ajouter 3 nouveaux colonnes Year, Month, Year_month\n",
    "df['year'] = pd.DatetimeIndex(df['date']).year\n",
    "df['month'] = pd.DatetimeIndex(df['date']).month\n",
    "df['year_month'] = pd.to_datetime(df['date']).dt.to_period('M')\n",
    "df['year_month_day'] = pd.to_datetime(df['date']).dt.to_period('D')\n",
    "df.dtypes"
   ]
  },
  {
   "cell_type": "code",
   "execution_count": 85,
   "id": "30df6e23",
   "metadata": {},
   "outputs": [
    {
     "data": {
      "text/html": [
       "<div>\n",
       "<style scoped>\n",
       "    .dataframe tbody tr th:only-of-type {\n",
       "        vertical-align: middle;\n",
       "    }\n",
       "\n",
       "    .dataframe tbody tr th {\n",
       "        vertical-align: top;\n",
       "    }\n",
       "\n",
       "    .dataframe thead th {\n",
       "        text-align: right;\n",
       "    }\n",
       "</style>\n",
       "<table border=\"1\" class=\"dataframe\">\n",
       "  <thead>\n",
       "    <tr style=\"text-align: right;\">\n",
       "      <th></th>\n",
       "      <th>id_prod</th>\n",
       "      <th>date</th>\n",
       "      <th>session_id</th>\n",
       "      <th>client_id</th>\n",
       "      <th>price</th>\n",
       "      <th>categ</th>\n",
       "      <th>sex</th>\n",
       "      <th>birth</th>\n",
       "      <th>year</th>\n",
       "      <th>month</th>\n",
       "      <th>year_month</th>\n",
       "      <th>year_month_day</th>\n",
       "    </tr>\n",
       "  </thead>\n",
       "  <tbody>\n",
       "    <tr>\n",
       "      <th>0</th>\n",
       "      <td>0_1518</td>\n",
       "      <td>2022-05-20 13:21:29.043970</td>\n",
       "      <td>s_211425</td>\n",
       "      <td>c_103</td>\n",
       "      <td>4.18</td>\n",
       "      <td>0.0</td>\n",
       "      <td>f</td>\n",
       "      <td>1986</td>\n",
       "      <td>2022</td>\n",
       "      <td>5</td>\n",
       "      <td>2022-05</td>\n",
       "      <td>2022-05-20</td>\n",
       "    </tr>\n",
       "    <tr>\n",
       "      <th>1</th>\n",
       "      <td>1_251</td>\n",
       "      <td>2022-02-02 07:55:19.149409</td>\n",
       "      <td>s_158752</td>\n",
       "      <td>c_8534</td>\n",
       "      <td>15.99</td>\n",
       "      <td>1.0</td>\n",
       "      <td>m</td>\n",
       "      <td>1988</td>\n",
       "      <td>2022</td>\n",
       "      <td>2</td>\n",
       "      <td>2022-02</td>\n",
       "      <td>2022-02-02</td>\n",
       "    </tr>\n",
       "    <tr>\n",
       "      <th>2</th>\n",
       "      <td>0_1277</td>\n",
       "      <td>2022-06-18 15:44:33.155329</td>\n",
       "      <td>s_225667</td>\n",
       "      <td>c_6714</td>\n",
       "      <td>7.99</td>\n",
       "      <td>0.0</td>\n",
       "      <td>f</td>\n",
       "      <td>1968</td>\n",
       "      <td>2022</td>\n",
       "      <td>6</td>\n",
       "      <td>2022-06</td>\n",
       "      <td>2022-06-18</td>\n",
       "    </tr>\n",
       "    <tr>\n",
       "      <th>3</th>\n",
       "      <td>2_209</td>\n",
       "      <td>2021-06-24 04:19:29.835891</td>\n",
       "      <td>s_52962</td>\n",
       "      <td>c_6941</td>\n",
       "      <td>69.99</td>\n",
       "      <td>2.0</td>\n",
       "      <td>m</td>\n",
       "      <td>2000</td>\n",
       "      <td>2021</td>\n",
       "      <td>6</td>\n",
       "      <td>2021-06</td>\n",
       "      <td>2021-06-24</td>\n",
       "    </tr>\n",
       "    <tr>\n",
       "      <th>4</th>\n",
       "      <td>0_1509</td>\n",
       "      <td>2023-01-11 08:22:08.194479</td>\n",
       "      <td>s_325227</td>\n",
       "      <td>c_4232</td>\n",
       "      <td>4.99</td>\n",
       "      <td>0.0</td>\n",
       "      <td>m</td>\n",
       "      <td>1980</td>\n",
       "      <td>2023</td>\n",
       "      <td>1</td>\n",
       "      <td>2023-01</td>\n",
       "      <td>2023-01-11</td>\n",
       "    </tr>\n",
       "    <tr>\n",
       "      <th>...</th>\n",
       "      <td>...</td>\n",
       "      <td>...</td>\n",
       "      <td>...</td>\n",
       "      <td>...</td>\n",
       "      <td>...</td>\n",
       "      <td>...</td>\n",
       "      <td>...</td>\n",
       "      <td>...</td>\n",
       "      <td>...</td>\n",
       "      <td>...</td>\n",
       "      <td>...</td>\n",
       "      <td>...</td>\n",
       "    </tr>\n",
       "    <tr>\n",
       "      <th>679327</th>\n",
       "      <td>0_1551</td>\n",
       "      <td>2022-01-15 13:05:06.246925</td>\n",
       "      <td>s_150195</td>\n",
       "      <td>c_8489</td>\n",
       "      <td>12.99</td>\n",
       "      <td>0.0</td>\n",
       "      <td>f</td>\n",
       "      <td>1951</td>\n",
       "      <td>2022</td>\n",
       "      <td>1</td>\n",
       "      <td>2022-01</td>\n",
       "      <td>2022-01-15</td>\n",
       "    </tr>\n",
       "    <tr>\n",
       "      <th>679328</th>\n",
       "      <td>1_639</td>\n",
       "      <td>2022-03-19 16:03:23.429229</td>\n",
       "      <td>s_181434</td>\n",
       "      <td>c_4370</td>\n",
       "      <td>10.99</td>\n",
       "      <td>1.0</td>\n",
       "      <td>f</td>\n",
       "      <td>1977</td>\n",
       "      <td>2022</td>\n",
       "      <td>3</td>\n",
       "      <td>2022-03</td>\n",
       "      <td>2022-03-19</td>\n",
       "    </tr>\n",
       "    <tr>\n",
       "      <th>679329</th>\n",
       "      <td>0_1425</td>\n",
       "      <td>2022-12-20 04:33:37.584749</td>\n",
       "      <td>s_314704</td>\n",
       "      <td>c_304</td>\n",
       "      <td>12.99</td>\n",
       "      <td>0.0</td>\n",
       "      <td>f</td>\n",
       "      <td>1988</td>\n",
       "      <td>2022</td>\n",
       "      <td>12</td>\n",
       "      <td>2022-12</td>\n",
       "      <td>2022-12-20</td>\n",
       "    </tr>\n",
       "    <tr>\n",
       "      <th>679330</th>\n",
       "      <td>0_1994</td>\n",
       "      <td>2021-07-16 20:36:35.350579</td>\n",
       "      <td>s_63204</td>\n",
       "      <td>c_2227</td>\n",
       "      <td>4.98</td>\n",
       "      <td>0.0</td>\n",
       "      <td>m</td>\n",
       "      <td>1986</td>\n",
       "      <td>2021</td>\n",
       "      <td>7</td>\n",
       "      <td>2021-07</td>\n",
       "      <td>2021-07-16</td>\n",
       "    </tr>\n",
       "    <tr>\n",
       "      <th>679331</th>\n",
       "      <td>1_523</td>\n",
       "      <td>2022-09-28 01:12:01.973763</td>\n",
       "      <td>s_274568</td>\n",
       "      <td>c_3873</td>\n",
       "      <td>23.99</td>\n",
       "      <td>1.0</td>\n",
       "      <td>m</td>\n",
       "      <td>1995</td>\n",
       "      <td>2022</td>\n",
       "      <td>9</td>\n",
       "      <td>2022-09</td>\n",
       "      <td>2022-09-28</td>\n",
       "    </tr>\n",
       "  </tbody>\n",
       "</table>\n",
       "<p>679332 rows × 12 columns</p>\n",
       "</div>"
      ],
      "text/plain": [
       "       id_prod                       date session_id client_id  price  categ  \\\n",
       "0       0_1518 2022-05-20 13:21:29.043970   s_211425     c_103   4.18    0.0   \n",
       "1        1_251 2022-02-02 07:55:19.149409   s_158752    c_8534  15.99    1.0   \n",
       "2       0_1277 2022-06-18 15:44:33.155329   s_225667    c_6714   7.99    0.0   \n",
       "3        2_209 2021-06-24 04:19:29.835891    s_52962    c_6941  69.99    2.0   \n",
       "4       0_1509 2023-01-11 08:22:08.194479   s_325227    c_4232   4.99    0.0   \n",
       "...        ...                        ...        ...       ...    ...    ...   \n",
       "679327  0_1551 2022-01-15 13:05:06.246925   s_150195    c_8489  12.99    0.0   \n",
       "679328   1_639 2022-03-19 16:03:23.429229   s_181434    c_4370  10.99    1.0   \n",
       "679329  0_1425 2022-12-20 04:33:37.584749   s_314704     c_304  12.99    0.0   \n",
       "679330  0_1994 2021-07-16 20:36:35.350579    s_63204    c_2227   4.98    0.0   \n",
       "679331   1_523 2022-09-28 01:12:01.973763   s_274568    c_3873  23.99    1.0   \n",
       "\n",
       "       sex  birth  year  month year_month year_month_day  \n",
       "0        f   1986  2022      5    2022-05     2022-05-20  \n",
       "1        m   1988  2022      2    2022-02     2022-02-02  \n",
       "2        f   1968  2022      6    2022-06     2022-06-18  \n",
       "3        m   2000  2021      6    2021-06     2021-06-24  \n",
       "4        m   1980  2023      1    2023-01     2023-01-11  \n",
       "...     ..    ...   ...    ...        ...            ...  \n",
       "679327   f   1951  2022      1    2022-01     2022-01-15  \n",
       "679328   f   1977  2022      3    2022-03     2022-03-19  \n",
       "679329   f   1988  2022     12    2022-12     2022-12-20  \n",
       "679330   m   1986  2021      7    2021-07     2021-07-16  \n",
       "679331   m   1995  2022      9    2022-09     2022-09-28  \n",
       "\n",
       "[679332 rows x 12 columns]"
      ]
     },
     "execution_count": 85,
     "metadata": {},
     "output_type": "execute_result"
    }
   ],
   "source": [
    "df"
   ]
  },
  {
   "cell_type": "markdown",
   "id": "3fc6d545",
   "metadata": {},
   "source": [
    "# II. Analyse des données"
   ]
  },
  {
   "cell_type": "markdown",
   "id": "6c04a0f7",
   "metadata": {},
   "source": [
    "## 1. différents indicateurs et graphiques autour du CA"
   ]
  },
  {
   "cell_type": "code",
   "execution_count": 86,
   "id": "a591768d",
   "metadata": {},
   "outputs": [
    {
     "data": {
      "text/plain": [
       "11853728.68"
      ]
     },
     "execution_count": 86,
     "metadata": {},
     "output_type": "execute_result"
    }
   ],
   "source": [
    "df['price'].sum() # CA total 11853728.68"
   ]
  },
  {
   "cell_type": "code",
   "execution_count": 87,
   "id": "1b2bab12",
   "metadata": {},
   "outputs": [
    {
     "name": "stdout",
     "output_type": "stream",
     "text": [
      "<class 'pandas.core.frame.DataFrame'>\n",
      "RangeIndex: 24 entries, 0 to 23\n",
      "Data columns (total 2 columns):\n",
      " #   Column      Non-Null Count  Dtype    \n",
      "---  ------      --------------  -----    \n",
      " 0   year_month  24 non-null     period[M]\n",
      " 1   ca          24 non-null     float64  \n",
      "dtypes: float64(1), period[M](1)\n",
      "memory usage: 512.0 bytes\n"
     ]
    }
   ],
   "source": [
    "# creation of a new dataframe for CA mensuel\n",
    "dfca = df.groupby(['year_month'])['price'].sum().reset_index() \n",
    "dfca = dfca.rename(columns={\"price\": \"ca\"})\n",
    "dfca.info()"
   ]
  },
  {
   "cell_type": "code",
   "execution_count": 88,
   "id": "1cba01a8",
   "metadata": {},
   "outputs": [
    {
     "data": {
      "text/html": [
       "<div>\n",
       "<style scoped>\n",
       "    .dataframe tbody tr th:only-of-type {\n",
       "        vertical-align: middle;\n",
       "    }\n",
       "\n",
       "    .dataframe tbody tr th {\n",
       "        vertical-align: top;\n",
       "    }\n",
       "\n",
       "    .dataframe thead th {\n",
       "        text-align: right;\n",
       "    }\n",
       "</style>\n",
       "<table border=\"1\" class=\"dataframe\">\n",
       "  <thead>\n",
       "    <tr style=\"text-align: right;\">\n",
       "      <th></th>\n",
       "      <th>year_month</th>\n",
       "      <th>ca</th>\n",
       "    </tr>\n",
       "  </thead>\n",
       "  <tbody>\n",
       "    <tr>\n",
       "      <th>0</th>\n",
       "      <td>2021-03</td>\n",
       "      <td>482440.61</td>\n",
       "    </tr>\n",
       "    <tr>\n",
       "      <th>1</th>\n",
       "      <td>2021-04</td>\n",
       "      <td>476109.30</td>\n",
       "    </tr>\n",
       "    <tr>\n",
       "      <th>2</th>\n",
       "      <td>2021-05</td>\n",
       "      <td>492943.47</td>\n",
       "    </tr>\n",
       "    <tr>\n",
       "      <th>3</th>\n",
       "      <td>2021-06</td>\n",
       "      <td>484088.56</td>\n",
       "    </tr>\n",
       "    <tr>\n",
       "      <th>4</th>\n",
       "      <td>2021-07</td>\n",
       "      <td>482835.40</td>\n",
       "    </tr>\n",
       "    <tr>\n",
       "      <th>5</th>\n",
       "      <td>2021-08</td>\n",
       "      <td>482284.79</td>\n",
       "    </tr>\n",
       "    <tr>\n",
       "      <th>6</th>\n",
       "      <td>2021-09</td>\n",
       "      <td>507240.68</td>\n",
       "    </tr>\n",
       "    <tr>\n",
       "      <th>7</th>\n",
       "      <td>2021-10</td>\n",
       "      <td>320798.74</td>\n",
       "    </tr>\n",
       "    <tr>\n",
       "      <th>8</th>\n",
       "      <td>2021-11</td>\n",
       "      <td>516167.73</td>\n",
       "    </tr>\n",
       "    <tr>\n",
       "      <th>9</th>\n",
       "      <td>2021-12</td>\n",
       "      <td>525917.28</td>\n",
       "    </tr>\n",
       "    <tr>\n",
       "      <th>10</th>\n",
       "      <td>2022-01</td>\n",
       "      <td>525338.99</td>\n",
       "    </tr>\n",
       "    <tr>\n",
       "      <th>11</th>\n",
       "      <td>2022-02</td>\n",
       "      <td>535571.50</td>\n",
       "    </tr>\n",
       "    <tr>\n",
       "      <th>12</th>\n",
       "      <td>2022-03</td>\n",
       "      <td>515456.53</td>\n",
       "    </tr>\n",
       "    <tr>\n",
       "      <th>13</th>\n",
       "      <td>2022-04</td>\n",
       "      <td>492998.94</td>\n",
       "    </tr>\n",
       "    <tr>\n",
       "      <th>14</th>\n",
       "      <td>2022-05</td>\n",
       "      <td>517132.60</td>\n",
       "    </tr>\n",
       "    <tr>\n",
       "      <th>15</th>\n",
       "      <td>2022-06</td>\n",
       "      <td>496016.12</td>\n",
       "    </tr>\n",
       "    <tr>\n",
       "      <th>16</th>\n",
       "      <td>2022-07</td>\n",
       "      <td>510783.12</td>\n",
       "    </tr>\n",
       "    <tr>\n",
       "      <th>17</th>\n",
       "      <td>2022-08</td>\n",
       "      <td>506467.27</td>\n",
       "    </tr>\n",
       "    <tr>\n",
       "      <th>18</th>\n",
       "      <td>2022-09</td>\n",
       "      <td>494114.53</td>\n",
       "    </tr>\n",
       "    <tr>\n",
       "      <th>19</th>\n",
       "      <td>2022-10</td>\n",
       "      <td>507917.77</td>\n",
       "    </tr>\n",
       "    <tr>\n",
       "      <th>20</th>\n",
       "      <td>2022-11</td>\n",
       "      <td>496664.94</td>\n",
       "    </tr>\n",
       "    <tr>\n",
       "      <th>21</th>\n",
       "      <td>2022-12</td>\n",
       "      <td>510219.50</td>\n",
       "    </tr>\n",
       "    <tr>\n",
       "      <th>22</th>\n",
       "      <td>2023-01</td>\n",
       "      <td>517540.55</td>\n",
       "    </tr>\n",
       "    <tr>\n",
       "      <th>23</th>\n",
       "      <td>2023-02</td>\n",
       "      <td>456679.76</td>\n",
       "    </tr>\n",
       "  </tbody>\n",
       "</table>\n",
       "</div>"
      ],
      "text/plain": [
       "   year_month         ca\n",
       "0     2021-03  482440.61\n",
       "1     2021-04  476109.30\n",
       "2     2021-05  492943.47\n",
       "3     2021-06  484088.56\n",
       "4     2021-07  482835.40\n",
       "5     2021-08  482284.79\n",
       "6     2021-09  507240.68\n",
       "7     2021-10  320798.74\n",
       "8     2021-11  516167.73\n",
       "9     2021-12  525917.28\n",
       "10    2022-01  525338.99\n",
       "11    2022-02  535571.50\n",
       "12    2022-03  515456.53\n",
       "13    2022-04  492998.94\n",
       "14    2022-05  517132.60\n",
       "15    2022-06  496016.12\n",
       "16    2022-07  510783.12\n",
       "17    2022-08  506467.27\n",
       "18    2022-09  494114.53\n",
       "19    2022-10  507917.77\n",
       "20    2022-11  496664.94\n",
       "21    2022-12  510219.50\n",
       "22    2023-01  517540.55\n",
       "23    2023-02  456679.76"
      ]
     },
     "execution_count": 88,
     "metadata": {},
     "output_type": "execute_result"
    }
   ],
   "source": [
    "dfca # Details des CA mensuels"
   ]
  },
  {
   "cell_type": "code",
   "execution_count": 89,
   "id": "1f4cd323",
   "metadata": {},
   "outputs": [
    {
     "data": {
      "image/png": "[encoded data removed]",
      "text/plain": [
       "<Figure size 1080x720 with 1 Axes>"
      ]
     },
     "metadata": {
      "needs_background": "light"
     },
     "output_type": "display_data"
    },
    {
     "name": "stdout",
     "output_type": "stream",
     "text": [
      "\n"
     ]
    }
   ],
   "source": [
    "# Bar chat Graphique: Evolution des CA mensuel\n",
    "plt.figure(figsize=(15,10))\n",
    "\n",
    "gpca=sns.barplot(data=dfca, x='year_month', y='ca')\n",
    "gpca.axes.set_title(\"Evolution des CA mensuel\",fontsize=20)\n",
    "gpca.set_xlabel(\"Date\",fontsize=20)\n",
    "gpca.set_ylabel(\"CA (Euro)\",fontsize=20)\n",
    "gpca.tick_params(labelsize=9)\n",
    "plt.show()\n",
    "print()"
   ]
  },
  {
   "cell_type": "code",
   "execution_count": 90,
   "id": "9ad0ad99",
   "metadata": {},
   "outputs": [
    {
     "data": {
      "image/png": "[encoded data removed]",
      "text/plain": [
       "<Figure size 1080x720 with 1 Axes>"
      ]
     },
     "metadata": {
      "needs_background": "light"
     },
     "output_type": "display_data"
    }
   ],
   "source": [
    "# Line chat Graphique: Evolution des CA mensuel\n",
    "\n",
    "plt.figure(figsize=(15,10))\n",
    "g = sns.lineplot(x=dfca.index, y=\"ca\", data=dfca)\n",
    "g.set_xticks(range(len(dfca)))\n",
    "g.set_xticklabels(dfca.year_month, rotation=60)\n",
    "g.axes.set_title(\"Evolution des CA mensuel\",fontsize=20)\n",
    "g.set_xlabel(\"Date\",fontsize=20)\n",
    "g.set_ylabel(\"CA (Euro)\",fontsize=20)\n",
    "g.tick_params(labelsize=9)\n"
   ]
  },
  {
   "cell_type": "code",
   "execution_count": null,
   "id": "b368eb39",
   "metadata": {},
   "outputs": [],
   "source": []
  },
  {
   "cell_type": "markdown",
   "id": "946cd8e0",
   "metadata": {},
   "source": [
    "## 2. l’évolution dans le temps et mettre en place une décomposition en moyenne mobile pour évaluer la tendance globale CA"
   ]
  },
  {
   "cell_type": "code",
   "execution_count": 91,
   "id": "68159457",
   "metadata": {},
   "outputs": [],
   "source": [
    "# creation of a new dataframe for CA journalier\n",
    "dfcaj = df.groupby(['year_month_day'])['price'].sum().reset_index() \n",
    "dfcaj = dfcaj.rename(columns={\"price\": \"caj\"})"
   ]
  },
  {
   "cell_type": "code",
   "execution_count": 92,
   "id": "8814cb77",
   "metadata": {},
   "outputs": [
    {
     "data": {
      "text/html": [
       "<div>\n",
       "<style scoped>\n",
       "    .dataframe tbody tr th:only-of-type {\n",
       "        vertical-align: middle;\n",
       "    }\n",
       "\n",
       "    .dataframe tbody tr th {\n",
       "        vertical-align: top;\n",
       "    }\n",
       "\n",
       "    .dataframe thead th {\n",
       "        text-align: right;\n",
       "    }\n",
       "</style>\n",
       "<table border=\"1\" class=\"dataframe\">\n",
       "  <thead>\n",
       "    <tr style=\"text-align: right;\">\n",
       "      <th></th>\n",
       "      <th>year_month_day</th>\n",
       "      <th>caj</th>\n",
       "    </tr>\n",
       "  </thead>\n",
       "  <tbody>\n",
       "    <tr>\n",
       "      <th>0</th>\n",
       "      <td>2021-03-01</td>\n",
       "      <td>16565.22</td>\n",
       "    </tr>\n",
       "    <tr>\n",
       "      <th>1</th>\n",
       "      <td>2021-03-02</td>\n",
       "      <td>15486.45</td>\n",
       "    </tr>\n",
       "    <tr>\n",
       "      <th>2</th>\n",
       "      <td>2021-03-03</td>\n",
       "      <td>15198.69</td>\n",
       "    </tr>\n",
       "    <tr>\n",
       "      <th>3</th>\n",
       "      <td>2021-03-04</td>\n",
       "      <td>15196.07</td>\n",
       "    </tr>\n",
       "    <tr>\n",
       "      <th>4</th>\n",
       "      <td>2021-03-05</td>\n",
       "      <td>17471.37</td>\n",
       "    </tr>\n",
       "    <tr>\n",
       "      <th>...</th>\n",
       "      <td>...</td>\n",
       "      <td>...</td>\n",
       "    </tr>\n",
       "    <tr>\n",
       "      <th>725</th>\n",
       "      <td>2023-02-24</td>\n",
       "      <td>15207.89</td>\n",
       "    </tr>\n",
       "    <tr>\n",
       "      <th>726</th>\n",
       "      <td>2023-02-25</td>\n",
       "      <td>15761.25</td>\n",
       "    </tr>\n",
       "    <tr>\n",
       "      <th>727</th>\n",
       "      <td>2023-02-26</td>\n",
       "      <td>16304.72</td>\n",
       "    </tr>\n",
       "    <tr>\n",
       "      <th>728</th>\n",
       "      <td>2023-02-27</td>\n",
       "      <td>19170.81</td>\n",
       "    </tr>\n",
       "    <tr>\n",
       "      <th>729</th>\n",
       "      <td>2023-02-28</td>\n",
       "      <td>18105.15</td>\n",
       "    </tr>\n",
       "  </tbody>\n",
       "</table>\n",
       "<p>730 rows × 2 columns</p>\n",
       "</div>"
      ],
      "text/plain": [
       "    year_month_day       caj\n",
       "0       2021-03-01  16565.22\n",
       "1       2021-03-02  15486.45\n",
       "2       2021-03-03  15198.69\n",
       "3       2021-03-04  15196.07\n",
       "4       2021-03-05  17471.37\n",
       "..             ...       ...\n",
       "725     2023-02-24  15207.89\n",
       "726     2023-02-25  15761.25\n",
       "727     2023-02-26  16304.72\n",
       "728     2023-02-27  19170.81\n",
       "729     2023-02-28  18105.15\n",
       "\n",
       "[730 rows x 2 columns]"
      ]
     },
     "execution_count": 92,
     "metadata": {},
     "output_type": "execute_result"
    }
   ],
   "source": [
    "dfcaj"
   ]
  },
  {
   "cell_type": "code",
   "execution_count": 93,
   "id": "bb741264",
   "metadata": {},
   "outputs": [
    {
     "data": {
      "text/plain": [
       "Text(0, 0.5, 'CA (Euro)')"
      ]
     },
     "execution_count": 93,
     "metadata": {},
     "output_type": "execute_result"
    },
    {
     "data": {
      "image/png": "[encoded data removed]",
      "text/plain": [
       "<Figure size 1080x720 with 1 Axes>"
      ]
     },
     "metadata": {
      "needs_background": "light"
     },
     "output_type": "display_data"
    }
   ],
   "source": [
    "# Line chat Graphique: Evolution des CA journalier\n",
    "\n",
    "plt.figure(figsize=(15,10))\n",
    "gj = sns.lineplot(x=dfcaj.index, y=\"caj\", data=dfcaj)\n",
    "gj.set_xticks(range(len(dfcaj)))\n",
    "#gj.set_xticklabels(dfcaj.year_month_day, rotation=60)\n",
    "gj.axes.set_title(\"Evolution des CA journalier\",fontsize=20)\n",
    "gj.set_xlabel(\"Date\",fontsize=20)\n",
    "gj.set_ylabel(\"CA (Euro)\",fontsize=20)\n",
    "#gj.tick_params(labelsize=9)"
   ]
  },
  {
   "cell_type": "code",
   "execution_count": 94,
   "id": "d48bf165",
   "metadata": {},
   "outputs": [
    {
     "data": {
      "text/plain": [
       "0      16565.22\n",
       "1      15486.45\n",
       "2      15198.69\n",
       "3      15196.07\n",
       "4      17471.37\n",
       "         ...   \n",
       "725    15207.89\n",
       "726    15761.25\n",
       "727    16304.72\n",
       "728    19170.81\n",
       "729    18105.15\n",
       "Name: caj, Length: 730, dtype: float64"
      ]
     },
     "execution_count": 94,
     "metadata": {},
     "output_type": "execute_result"
    }
   ],
   "source": [
    "dfcaj['caj']"
   ]
  },
  {
   "cell_type": "code",
   "execution_count": 95,
   "id": "a828ebb6",
   "metadata": {},
   "outputs": [
    {
     "data": {
      "text/html": [
       "<div>\n",
       "<style scoped>\n",
       "    .dataframe tbody tr th:only-of-type {\n",
       "        vertical-align: middle;\n",
       "    }\n",
       "\n",
       "    .dataframe tbody tr th {\n",
       "        vertical-align: top;\n",
       "    }\n",
       "\n",
       "    .dataframe thead th {\n",
       "        text-align: right;\n",
       "    }\n",
       "</style>\n",
       "<table border=\"1\" class=\"dataframe\">\n",
       "  <thead>\n",
       "    <tr style=\"text-align: right;\">\n",
       "      <th></th>\n",
       "      <th>moving_averages</th>\n",
       "    </tr>\n",
       "  </thead>\n",
       "  <tbody>\n",
       "    <tr>\n",
       "      <th>0</th>\n",
       "      <td>15780.47</td>\n",
       "    </tr>\n",
       "    <tr>\n",
       "      <th>1</th>\n",
       "      <td>15653.94</td>\n",
       "    </tr>\n",
       "    <tr>\n",
       "      <th>2</th>\n",
       "      <td>15685.95</td>\n",
       "    </tr>\n",
       "    <tr>\n",
       "      <th>3</th>\n",
       "      <td>15728.55</td>\n",
       "    </tr>\n",
       "    <tr>\n",
       "      <th>4</th>\n",
       "      <td>15672.13</td>\n",
       "    </tr>\n",
       "    <tr>\n",
       "      <th>...</th>\n",
       "      <td>...</td>\n",
       "    </tr>\n",
       "    <tr>\n",
       "      <th>719</th>\n",
       "      <td>16488.78</td>\n",
       "    </tr>\n",
       "    <tr>\n",
       "      <th>720</th>\n",
       "      <td>16006.75</td>\n",
       "    </tr>\n",
       "    <tr>\n",
       "      <th>721</th>\n",
       "      <td>16035.02</td>\n",
       "    </tr>\n",
       "    <tr>\n",
       "      <th>722</th>\n",
       "      <td>16487.57</td>\n",
       "    </tr>\n",
       "    <tr>\n",
       "      <th>723</th>\n",
       "      <td>16513.98</td>\n",
       "    </tr>\n",
       "  </tbody>\n",
       "</table>\n",
       "<p>724 rows × 1 columns</p>\n",
       "</div>"
      ],
      "text/plain": [
       "     moving_averages\n",
       "0           15780.47\n",
       "1           15653.94\n",
       "2           15685.95\n",
       "3           15728.55\n",
       "4           15672.13\n",
       "..               ...\n",
       "719         16488.78\n",
       "720         16006.75\n",
       "721         16035.02\n",
       "722         16487.57\n",
       "723         16513.98\n",
       "\n",
       "[724 rows x 1 columns]"
      ]
     },
     "execution_count": 95,
     "metadata": {},
     "output_type": "execute_result"
    }
   ],
   "source": [
    "# Creation de nouveau data frame dfma qui contient des CA en moyenne mobile de 7 jours\n",
    "arr = dfcaj['caj']\n",
    "window_size = 7\n",
    "  \n",
    "i = 0\n",
    "# Initialize an empty list to store moving averages\n",
    "moving_averages = []\n",
    "  \n",
    "# Loop through the array t o\n",
    "#consider every window of size 3\n",
    "while i < len(arr) - window_size + 1:\n",
    "  \n",
    "    # Calculate the average of current window\n",
    "    window_average = round(np.sum(arr[i:i+window_size]) / window_size, 2)\n",
    "      \n",
    "    # Store the average of current\n",
    "    # window in moving average list\n",
    "    moving_averages.append(window_average)\n",
    "      \n",
    "    # Shift window to right by one position\n",
    "    i += 1\n",
    "  \n",
    "dfma = pd.DataFrame (moving_averages, columns = ['moving_averages'])\n",
    "dfma"
   ]
  },
  {
   "cell_type": "code",
   "execution_count": 96,
   "id": "bcf49389",
   "metadata": {},
   "outputs": [
    {
     "data": {
      "image/png": "[encoded data removed]",
      "text/plain": [
       "<Figure size 1080x720 with 1 Axes>"
      ]
     },
     "metadata": {
      "needs_background": "light"
     },
     "output_type": "display_data"
    }
   ],
   "source": [
    "# Line chat Graphique: Evolution des CA journalier en moyenne mobilen de 7 jours\n",
    "\n",
    "plt.figure(figsize=(15,10))\n",
    "gma = sns.lineplot(x=dfma.index, y=\"moving_averages\", data=dfma)\n",
    "gma.set_xticks(range(len(dfma)))\n",
    "gma.set_xticklabels(dfcaj.year_month_day[:len(dfma)], rotation=90)\n",
    "gma.axes.set_title(\"Evolution des CA journalier\",fontsize=20)\n",
    "gma.set_xlabel(\"Date\",fontsize=20)\n",
    "gma.set_ylabel(\"CA (Euro)\",fontsize=20)\n",
    "gma.tick_params(labelsize=9)"
   ]
  },
  {
   "cell_type": "markdown",
   "id": "780cbf50",
   "metadata": {},
   "source": [
    "## 3.  un zoom sur les références, pour voir un peu les tops et les flops, la répartition par catégorie"
   ]
  },
  {
   "cell_type": "code",
   "execution_count": 97,
   "id": "6cdc99b2",
   "metadata": {},
   "outputs": [
    {
     "data": {
      "text/plain": [
       "id_prod\n",
       "0_2245        0.00\n",
       "0_1539        0.99\n",
       "0_1284        1.38\n",
       "0_1653        1.98\n",
       "0_807         1.99\n",
       "            ...   \n",
       "0_1417    21372.12\n",
       "0_1451    21689.15\n",
       "0_1414    22287.00\n",
       "0_1421    23008.49\n",
       "0_1441    23452.65\n",
       "Name: price, Length: 2293, dtype: float64"
      ]
     },
     "execution_count": 97,
     "metadata": {},
     "output_type": "execute_result"
    }
   ],
   "source": [
    "df0 = df.loc[df['categ'] == 0]\n",
    "df1 = df.loc[df['categ'] == 1]\n",
    "df2 = df.loc[df['categ'] == 2]\n",
    "\n",
    "df0.groupby(['id_prod'])['price'].sum().sort_values() # les tops et les flops produits de la categorie 0"
   ]
  },
  {
   "cell_type": "code",
   "execution_count": 98,
   "id": "1cbb5533",
   "metadata": {},
   "outputs": [
    {
     "data": {
      "text/plain": [
       "id_prod\n",
       "1_420       14.24\n",
       "1_224       19.80\n",
       "1_470       21.64\n",
       "1_473       26.91\n",
       "1_404       29.55\n",
       "           ...   \n",
       "1_498    49731.36\n",
       "1_383    51486.24\n",
       "1_414    51949.40\n",
       "1_369    54025.48\n",
       "1_395    54356.25\n",
       "Name: price, Length: 737, dtype: float64"
      ]
     },
     "execution_count": 98,
     "metadata": {},
     "output_type": "execute_result"
    }
   ],
   "source": [
    "df1.groupby(['id_prod'])['price'].sum().sort_values() # les tops et les flops produits de la categorie 1"
   ]
  },
  {
   "cell_type": "code",
   "execution_count": 99,
   "id": "b579d400",
   "metadata": {},
   "outputs": [
    {
     "data": {
      "text/plain": [
       "id_prod\n",
       "2_81        86.99\n",
       "2_23       115.99\n",
       "2_98       149.74\n",
       "2_93       157.98\n",
       "2_107      203.94\n",
       "           ...   \n",
       "2_209    56971.86\n",
       "2_102    60736.78\n",
       "2_112    65407.76\n",
       "2_135    69334.95\n",
       "2_159    94893.50\n",
       "Name: price, Length: 236, dtype: float64"
      ]
     },
     "execution_count": 99,
     "metadata": {},
     "output_type": "execute_result"
    }
   ],
   "source": [
    "df2.groupby(['id_prod'])['price'].sum().sort_values() # les tops et les flops produits de la categorie 2"
   ]
  },
  {
   "cell_type": "markdown",
   "id": "0bba325e",
   "metadata": {},
   "source": [
    "## 4. quelques informations sur les profils de nos clients, et également la répartition du chiffre d'affaires entre eux, via par exemple une courbe de Lorenz"
   ]
  },
  {
   "cell_type": "code",
   "execution_count": 100,
   "id": "5acc2a8e",
   "metadata": {},
   "outputs": [
    {
     "data": {
      "text/html": [
       "<div>\n",
       "<style scoped>\n",
       "    .dataframe tbody tr th:only-of-type {\n",
       "        vertical-align: middle;\n",
       "    }\n",
       "\n",
       "    .dataframe tbody tr th {\n",
       "        vertical-align: top;\n",
       "    }\n",
       "\n",
       "    .dataframe thead th {\n",
       "        text-align: right;\n",
       "    }\n",
       "</style>\n",
       "<table border=\"1\" class=\"dataframe\">\n",
       "  <thead>\n",
       "    <tr style=\"text-align: right;\">\n",
       "      <th></th>\n",
       "      <th>nb_achats</th>\n",
       "    </tr>\n",
       "  </thead>\n",
       "  <tbody>\n",
       "    <tr>\n",
       "      <th>count</th>\n",
       "      <td>8600.000000</td>\n",
       "    </tr>\n",
       "    <tr>\n",
       "      <th>mean</th>\n",
       "      <td>78.992093</td>\n",
       "    </tr>\n",
       "    <tr>\n",
       "      <th>std</th>\n",
       "      <td>312.437204</td>\n",
       "    </tr>\n",
       "    <tr>\n",
       "      <th>min</th>\n",
       "      <td>1.000000</td>\n",
       "    </tr>\n",
       "    <tr>\n",
       "      <th>25%</th>\n",
       "      <td>27.000000</td>\n",
       "    </tr>\n",
       "    <tr>\n",
       "      <th>50%</th>\n",
       "      <td>51.000000</td>\n",
       "    </tr>\n",
       "    <tr>\n",
       "      <th>75%</th>\n",
       "      <td>96.000000</td>\n",
       "    </tr>\n",
       "    <tr>\n",
       "      <th>max</th>\n",
       "      <td>25488.000000</td>\n",
       "    </tr>\n",
       "  </tbody>\n",
       "</table>\n",
       "</div>"
      ],
      "text/plain": [
       "          nb_achats\n",
       "count   8600.000000\n",
       "mean      78.992093\n",
       "std      312.437204\n",
       "min        1.000000\n",
       "25%       27.000000\n",
       "50%       51.000000\n",
       "75%       96.000000\n",
       "max    25488.000000"
      ]
     },
     "execution_count": 100,
     "metadata": {},
     "output_type": "execute_result"
    }
   ],
   "source": [
    "# Creation of new data frame: le nombre des achats par client\n",
    "dfcn = df['client_id'].value_counts().reset_index() \n",
    "dfcn = dfcn.rename(columns={\"client_id\": \"nb_achats\", \"index\": \"client_id\"})\n",
    "dfcn.describe()\n",
    "\n",
    "# le client qui achat le plus souvent est 25488 fois\n",
    "# Notre client depense en moyenne 79 fois\n",
    "# 50% des clients depensent plus que 50 fois"
   ]
  },
  {
   "cell_type": "code",
   "execution_count": 101,
   "id": "30120e50",
   "metadata": {},
   "outputs": [
    {
     "data": {
      "text/html": [
       "<div>\n",
       "<style scoped>\n",
       "    .dataframe tbody tr th:only-of-type {\n",
       "        vertical-align: middle;\n",
       "    }\n",
       "\n",
       "    .dataframe tbody tr th {\n",
       "        vertical-align: top;\n",
       "    }\n",
       "\n",
       "    .dataframe thead th {\n",
       "        text-align: right;\n",
       "    }\n",
       "</style>\n",
       "<table border=\"1\" class=\"dataframe\">\n",
       "  <thead>\n",
       "    <tr style=\"text-align: right;\">\n",
       "      <th></th>\n",
       "      <th>client_id</th>\n",
       "      <th>nb_achats</th>\n",
       "    </tr>\n",
       "  </thead>\n",
       "  <tbody>\n",
       "    <tr>\n",
       "      <th>0</th>\n",
       "      <td>c_1609</td>\n",
       "      <td>25488</td>\n",
       "    </tr>\n",
       "    <tr>\n",
       "      <th>1</th>\n",
       "      <td>c_6714</td>\n",
       "      <td>9187</td>\n",
       "    </tr>\n",
       "    <tr>\n",
       "      <th>2</th>\n",
       "      <td>c_3454</td>\n",
       "      <td>6773</td>\n",
       "    </tr>\n",
       "    <tr>\n",
       "      <th>3</th>\n",
       "      <td>c_4958</td>\n",
       "      <td>5195</td>\n",
       "    </tr>\n",
       "    <tr>\n",
       "      <th>4</th>\n",
       "      <td>c_3263</td>\n",
       "      <td>403</td>\n",
       "    </tr>\n",
       "    <tr>\n",
       "      <th>...</th>\n",
       "      <td>...</td>\n",
       "      <td>...</td>\n",
       "    </tr>\n",
       "    <tr>\n",
       "      <th>8595</th>\n",
       "      <td>c_4478</td>\n",
       "      <td>1</td>\n",
       "    </tr>\n",
       "    <tr>\n",
       "      <th>8596</th>\n",
       "      <td>c_5962</td>\n",
       "      <td>1</td>\n",
       "    </tr>\n",
       "    <tr>\n",
       "      <th>8597</th>\n",
       "      <td>c_4223</td>\n",
       "      <td>1</td>\n",
       "    </tr>\n",
       "    <tr>\n",
       "      <th>8598</th>\n",
       "      <td>c_6292</td>\n",
       "      <td>1</td>\n",
       "    </tr>\n",
       "    <tr>\n",
       "      <th>8599</th>\n",
       "      <td>c_1624</td>\n",
       "      <td>1</td>\n",
       "    </tr>\n",
       "  </tbody>\n",
       "</table>\n",
       "<p>8600 rows × 2 columns</p>\n",
       "</div>"
      ],
      "text/plain": [
       "     client_id  nb_achats\n",
       "0       c_1609      25488\n",
       "1       c_6714       9187\n",
       "2       c_3454       6773\n",
       "3       c_4958       5195\n",
       "4       c_3263        403\n",
       "...        ...        ...\n",
       "8595    c_4478          1\n",
       "8596    c_5962          1\n",
       "8597    c_4223          1\n",
       "8598    c_6292          1\n",
       "8599    c_1624          1\n",
       "\n",
       "[8600 rows x 2 columns]"
      ]
     },
     "execution_count": 101,
     "metadata": {},
     "output_type": "execute_result"
    }
   ],
   "source": [
    "dfcn"
   ]
  },
  {
   "cell_type": "code",
   "execution_count": 102,
   "id": "d5dbe820",
   "metadata": {},
   "outputs": [
    {
     "data": {
      "image/png": "[encoded data removed]",
      "text/plain": [
       "<Figure size 1080x720 with 1 Axes>"
      ]
     },
     "metadata": {
      "needs_background": "light"
     },
     "output_type": "display_data"
    }
   ],
   "source": [
    "plt.figure(figsize=(15,10))\n",
    "dfcn.boxplot(column=\"nb_achats\", vert=False)\n",
    "plt.show()"
   ]
  },
  {
   "cell_type": "code",
   "execution_count": 103,
   "id": "bd633a15",
   "metadata": {},
   "outputs": [],
   "source": [
    "# outliers est 5000\n",
    "#Supprimer les outliers de dataframe\n",
    "dfcn =dfcn[dfcn['nb_achats']<5000]"
   ]
  },
  {
   "cell_type": "code",
   "execution_count": 104,
   "id": "12a26a4e",
   "metadata": {},
   "outputs": [
    {
     "data": {
      "text/plain": [
       "<AxesSubplot:xlabel='nb_achats', ylabel='Count'>"
      ]
     },
     "execution_count": 104,
     "metadata": {},
     "output_type": "execute_result"
    },
    {
     "data": {
      "image/png": "[encoded data removed]",
      "text/plain": [
       "<Figure size 1080x720 with 1 Axes>"
      ]
     },
     "metadata": {
      "needs_background": "light"
     },
     "output_type": "display_data"
    }
   ],
   "source": [
    "# Distribution des nombres d'achats par client\n",
    "plt.figure(figsize=(15,10))\n",
    "sns.histplot(data=dfcn, x=\"nb_achats\")"
   ]
  },
  {
   "cell_type": "code",
   "execution_count": 105,
   "id": "70367158",
   "metadata": {},
   "outputs": [
    {
     "data": {
      "text/html": [
       "<div>\n",
       "<style scoped>\n",
       "    .dataframe tbody tr th:only-of-type {\n",
       "        vertical-align: middle;\n",
       "    }\n",
       "\n",
       "    .dataframe tbody tr th {\n",
       "        vertical-align: top;\n",
       "    }\n",
       "\n",
       "    .dataframe thead th {\n",
       "        text-align: right;\n",
       "    }\n",
       "</style>\n",
       "<table border=\"1\" class=\"dataframe\">\n",
       "  <thead>\n",
       "    <tr style=\"text-align: right;\">\n",
       "      <th></th>\n",
       "      <th>price</th>\n",
       "    </tr>\n",
       "  </thead>\n",
       "  <tbody>\n",
       "    <tr>\n",
       "      <th>count</th>\n",
       "      <td>8600.000000</td>\n",
       "    </tr>\n",
       "    <tr>\n",
       "      <th>mean</th>\n",
       "      <td>1378.340544</td>\n",
       "    </tr>\n",
       "    <tr>\n",
       "      <th>std</th>\n",
       "      <td>5182.542488</td>\n",
       "    </tr>\n",
       "    <tr>\n",
       "      <th>min</th>\n",
       "      <td>6.310000</td>\n",
       "    </tr>\n",
       "    <tr>\n",
       "      <th>25%</th>\n",
       "      <td>547.630000</td>\n",
       "    </tr>\n",
       "    <tr>\n",
       "      <th>50%</th>\n",
       "      <td>1027.020000</td>\n",
       "    </tr>\n",
       "    <tr>\n",
       "      <th>75%</th>\n",
       "      <td>1779.500000</td>\n",
       "    </tr>\n",
       "    <tr>\n",
       "      <th>max</th>\n",
       "      <td>324033.350000</td>\n",
       "    </tr>\n",
       "  </tbody>\n",
       "</table>\n",
       "</div>"
      ],
      "text/plain": [
       "               price\n",
       "count    8600.000000\n",
       "mean     1378.340544\n",
       "std      5182.542488\n",
       "min         6.310000\n",
       "25%       547.630000\n",
       "50%      1027.020000\n",
       "75%      1779.500000\n",
       "max    324033.350000"
      ]
     },
     "execution_count": 105,
     "metadata": {},
     "output_type": "execute_result"
    }
   ],
   "source": [
    "# creation of new data frame with client ID and total transaction amount for each client\n",
    "dfcca = df.groupby(['client_id'])['price'].sum().reset_index() \n",
    "dfcca.describe()\n",
    "\n",
    "# nous avons 8600 clients au total\n",
    "# le client qui depense le plus est 324033 Euros\n",
    "# le client qui depense le moins est 6 Euros\n",
    "# Notre client depense en moyenne 1378 Euros\n",
    "# 50% des clients depensent plus que 1027 Euros"
   ]
  },
  {
   "cell_type": "code",
   "execution_count": 106,
   "id": "fae1cef2",
   "metadata": {},
   "outputs": [
    {
     "data": {
      "text/html": [
       "<div>\n",
       "<style scoped>\n",
       "    .dataframe tbody tr th:only-of-type {\n",
       "        vertical-align: middle;\n",
       "    }\n",
       "\n",
       "    .dataframe tbody tr th {\n",
       "        vertical-align: top;\n",
       "    }\n",
       "\n",
       "    .dataframe thead th {\n",
       "        text-align: right;\n",
       "    }\n",
       "</style>\n",
       "<table border=\"1\" class=\"dataframe\">\n",
       "  <thead>\n",
       "    <tr style=\"text-align: right;\">\n",
       "      <th></th>\n",
       "      <th>client_id</th>\n",
       "      <th>price</th>\n",
       "    </tr>\n",
       "  </thead>\n",
       "  <tbody>\n",
       "    <tr>\n",
       "      <th>0</th>\n",
       "      <td>c_1</td>\n",
       "      <td>558.18</td>\n",
       "    </tr>\n",
       "    <tr>\n",
       "      <th>1</th>\n",
       "      <td>c_10</td>\n",
       "      <td>1353.60</td>\n",
       "    </tr>\n",
       "    <tr>\n",
       "      <th>2</th>\n",
       "      <td>c_100</td>\n",
       "      <td>254.85</td>\n",
       "    </tr>\n",
       "    <tr>\n",
       "      <th>3</th>\n",
       "      <td>c_1000</td>\n",
       "      <td>2261.89</td>\n",
       "    </tr>\n",
       "    <tr>\n",
       "      <th>4</th>\n",
       "      <td>c_1001</td>\n",
       "      <td>1812.86</td>\n",
       "    </tr>\n",
       "    <tr>\n",
       "      <th>...</th>\n",
       "      <td>...</td>\n",
       "      <td>...</td>\n",
       "    </tr>\n",
       "    <tr>\n",
       "      <th>8595</th>\n",
       "      <td>c_995</td>\n",
       "      <td>189.41</td>\n",
       "    </tr>\n",
       "    <tr>\n",
       "      <th>8596</th>\n",
       "      <td>c_996</td>\n",
       "      <td>1625.58</td>\n",
       "    </tr>\n",
       "    <tr>\n",
       "      <th>8597</th>\n",
       "      <td>c_997</td>\n",
       "      <td>1490.01</td>\n",
       "    </tr>\n",
       "    <tr>\n",
       "      <th>8598</th>\n",
       "      <td>c_998</td>\n",
       "      <td>2779.88</td>\n",
       "    </tr>\n",
       "    <tr>\n",
       "      <th>8599</th>\n",
       "      <td>c_999</td>\n",
       "      <td>701.40</td>\n",
       "    </tr>\n",
       "  </tbody>\n",
       "</table>\n",
       "<p>8600 rows × 2 columns</p>\n",
       "</div>"
      ],
      "text/plain": [
       "     client_id    price\n",
       "0          c_1   558.18\n",
       "1         c_10  1353.60\n",
       "2        c_100   254.85\n",
       "3       c_1000  2261.89\n",
       "4       c_1001  1812.86\n",
       "...        ...      ...\n",
       "8595     c_995   189.41\n",
       "8596     c_996  1625.58\n",
       "8597     c_997  1490.01\n",
       "8598     c_998  2779.88\n",
       "8599     c_999   701.40\n",
       "\n",
       "[8600 rows x 2 columns]"
      ]
     },
     "execution_count": 106,
     "metadata": {},
     "output_type": "execute_result"
    }
   ],
   "source": [
    "dfcca"
   ]
  },
  {
   "cell_type": "code",
   "execution_count": 107,
   "id": "b8685037",
   "metadata": {},
   "outputs": [
    {
     "data": {
      "image/png": "[encoded data removed]",
      "text/plain": [
       "<Figure size 1080x720 with 1 Axes>"
      ]
     },
     "metadata": {
      "needs_background": "light"
     },
     "output_type": "display_data"
    }
   ],
   "source": [
    "# La repartition des CA par client\n",
    "\n",
    "plt.figure(figsize=(15,10))\n",
    "dfcca.boxplot(column=\"price\", vert=False)\n",
    "plt.show()"
   ]
  },
  {
   "cell_type": "code",
   "execution_count": 108,
   "id": "38ce3447",
   "metadata": {},
   "outputs": [
    {
     "name": "stdout",
     "output_type": "stream",
     "text": [
      "3627.49\n"
     ]
    }
   ],
   "source": [
    "# utiliser Skewed distribution pour détecter les anomalies potentiels\n",
    "# Use Inter-Quartile Range (IQR) proximity rule.\n",
    "# The data points which fall below Q1 – 1.5 IQR or above Q3 + 1.5 IQR are outliers.\n",
    "#where Q1 and Q3 are the 25th and 75th percentile of the dataset respectively, and IQR represents the inter-quartile range and given by Q3 – Q1.\n",
    "\n",
    "Q1 = np.percentile(dfcca['price'], 25, interpolation = 'midpoint')\n",
    "  \n",
    "# Third quartile (Q3)\n",
    "Q3 = np.percentile(dfcca['price'], 75, interpolation = 'midpoint')\n",
    "  \n",
    "outlier = Q3+1.5*(Q3-Q1)\n",
    "print(outlier)\n"
   ]
  },
  {
   "cell_type": "code",
   "execution_count": 109,
   "id": "f9ba3b83",
   "metadata": {},
   "outputs": [
    {
     "data": {
      "text/plain": [
       "client_id      c_999\n",
       "price        5276.87\n",
       "dtype: object"
      ]
     },
     "execution_count": 109,
     "metadata": {},
     "output_type": "execute_result"
    }
   ],
   "source": [
    "# Les outliers sont 100000, supprimer les outliers de data frame dfcca\n",
    "dfcca = dfcca[dfcca['price']< 100000]\n",
    "dfcca.max()"
   ]
  },
  {
   "cell_type": "code",
   "execution_count": 110,
   "id": "fbe86743",
   "metadata": {},
   "outputs": [
    {
     "data": {
      "image/png": "[encoded data removed]",
      "text/plain": [
       "<Figure size 1080x720 with 1 Axes>"
      ]
     },
     "metadata": {
      "needs_background": "light"
     },
     "output_type": "display_data"
    }
   ],
   "source": [
    "# La repartition des CA par client apres la suppression des outliers\n",
    "\n",
    "plt.figure(figsize=(15,10))\n",
    "dfcca.boxplot(column=\"price\", vert=False)\n",
    "plt.show()"
   ]
  },
  {
   "cell_type": "code",
   "execution_count": 111,
   "id": "23979987",
   "metadata": {},
   "outputs": [
    {
     "data": {
      "text/plain": [
       "<AxesSubplot:xlabel='price', ylabel='Count'>"
      ]
     },
     "execution_count": 111,
     "metadata": {},
     "output_type": "execute_result"
    },
    {
     "data": {
      "image/png": "[encoded data removed]",
      "text/plain": [
       "<Figure size 1080x720 with 1 Axes>"
      ]
     },
     "metadata": {
      "needs_background": "light"
     },
     "output_type": "display_data"
    }
   ],
   "source": [
    "# Distribution des montants d'achats par client\n",
    "plt.figure(figsize=(15,10))\n",
    "sns.histplot(data=dfcca, x=\"price\")"
   ]
  },
  {
   "cell_type": "code",
   "execution_count": 112,
   "id": "357db419",
   "metadata": {},
   "outputs": [
    {
     "data": {
      "text/plain": [
       "0          6.31\n",
       "1          8.30\n",
       "2          9.98\n",
       "3         11.06\n",
       "4         11.20\n",
       "         ...   \n",
       "8591    5155.77\n",
       "8592    5208.82\n",
       "8593    5214.05\n",
       "8594    5271.62\n",
       "8595    5276.87\n",
       "Name: price, Length: 8596, dtype: float64"
      ]
     },
     "execution_count": 112,
     "metadata": {},
     "output_type": "execute_result"
    }
   ],
   "source": [
    "# Creation of a new data frame dflorenz\n",
    "\n",
    "dflorenz = dfcca['price'].sort_values() # display the transaction of each client in order of transaction's price\n",
    "dflorenz.reset_index(drop=True, inplace=True) # Add new index for the data frame\n",
    "dflorenz"
   ]
  },
  {
   "cell_type": "code",
   "execution_count": 113,
   "id": "5bdac454",
   "metadata": {},
   "outputs": [
    {
     "data": {
      "image/png": "[encoded data removed]",
      "text/plain": [
       "<Figure size 432x288 with 1 Axes>"
      ]
     },
     "metadata": {
      "needs_background": "light"
     },
     "output_type": "display_data"
    }
   ],
   "source": [
    "# ensure your arr is sorted from lowest to highest values first!\n",
    "arr = np.array(dflorenz)\n",
    "\n",
    "\n",
    "def lorenz(arr):\n",
    "    # this divides the prefix sum by the total sum\n",
    "    # this ensures all the values are between 0 and 1.0\n",
    "    scaled_prefix_sum = arr.cumsum() / arr.sum()\n",
    "    # this prepends the 0 value (because 0% of all people have 0% of all wealth)\n",
    "    return np.insert(scaled_prefix_sum, 0, 0)\n",
    "\n",
    "\n",
    "lorenz_curve = lorenz(arr)\n",
    "\n",
    "# we need the X values to be between 0.0 to 1.0\n",
    "plt.plot(np.linspace(0.0, 1.0, lorenz_curve.size), lorenz_curve)\n",
    "# plot the straight line perfect equality curve\n",
    "plt.plot([0,1], [0,1])\n",
    "plt.show()"
   ]
  },
  {
   "cell_type": "markdown",
   "id": "841a85a9",
   "metadata": {},
   "source": [
    "## 5. le lien entre le genre d’un client et les catégories des livres achetés "
   ]
  },
  {
   "cell_type": "code",
   "execution_count": 114,
   "id": "46bc7e40",
   "metadata": {},
   "outputs": [
    {
     "data": {
      "text/html": [
       "<div>\n",
       "<style scoped>\n",
       "    .dataframe tbody tr th:only-of-type {\n",
       "        vertical-align: middle;\n",
       "    }\n",
       "\n",
       "    .dataframe tbody tr th {\n",
       "        vertical-align: top;\n",
       "    }\n",
       "\n",
       "    .dataframe thead th {\n",
       "        text-align: right;\n",
       "    }\n",
       "</style>\n",
       "<table border=\"1\" class=\"dataframe\">\n",
       "  <thead>\n",
       "    <tr style=\"text-align: right;\">\n",
       "      <th>categ</th>\n",
       "      <th>0.0</th>\n",
       "      <th>1.0</th>\n",
       "      <th>2.0</th>\n",
       "      <th>Total</th>\n",
       "    </tr>\n",
       "    <tr>\n",
       "      <th>sex</th>\n",
       "      <th></th>\n",
       "      <th></th>\n",
       "      <th></th>\n",
       "      <th></th>\n",
       "    </tr>\n",
       "  </thead>\n",
       "  <tbody>\n",
       "    <tr>\n",
       "      <th>f</th>\n",
       "      <td>206220</td>\n",
       "      <td>114899</td>\n",
       "      <td>17283</td>\n",
       "      <td>338402</td>\n",
       "    </tr>\n",
       "    <tr>\n",
       "      <th>m</th>\n",
       "      <td>209460</td>\n",
       "      <td>112270</td>\n",
       "      <td>19200</td>\n",
       "      <td>340930</td>\n",
       "    </tr>\n",
       "    <tr>\n",
       "      <th>Total</th>\n",
       "      <td>415680</td>\n",
       "      <td>227169</td>\n",
       "      <td>36483</td>\n",
       "      <td>679332</td>\n",
       "    </tr>\n",
       "  </tbody>\n",
       "</table>\n",
       "</div>"
      ],
      "text/plain": [
       "categ     0.0     1.0    2.0   Total\n",
       "sex                                 \n",
       "f      206220  114899  17283  338402\n",
       "m      209460  112270  19200  340930\n",
       "Total  415680  227169  36483  679332"
      ]
     },
     "execution_count": 114,
     "metadata": {},
     "output_type": "execute_result"
    }
   ],
   "source": [
    "# preparation des donnees sex & categ\n",
    "X = 'sex'\n",
    "Y = 'categ'\n",
    "\n",
    "cont = df[[X,Y]].pivot_table(index=X,columns=Y,aggfunc=len,margins=True,margins_name=\"Total\")\n",
    "cont"
   ]
  },
  {
   "cell_type": "code",
   "execution_count": 115,
   "id": "c74f4146",
   "metadata": {},
   "outputs": [
    {
     "data": {
      "image/png": "[encoded data removed]",
      "text/plain": [
       "<Figure size 432x288 with 2 Axes>"
      ]
     },
     "metadata": {
      "needs_background": "light"
     },
     "output_type": "display_data"
    }
   ],
   "source": [
    "# heatmap pour visualiser le lien entre le genre d’un client et les catégories des livres achetés\n",
    "# le graphique montre qu'il n'y a pas de grande difference pour les hommes et les femmes sur les categories de livres achetes\n",
    "import seaborn as sns\n",
    "\n",
    "tx = cont.loc[:,[\"Total\"]]\n",
    "ty = cont.loc[[\"Total\"],:]\n",
    "n = len(df)\n",
    "indep = tx.dot(ty) / n\n",
    "\n",
    "c = cont.fillna(0) # On remplace les valeurs nulles par 0\n",
    "measure = (c-indep)**2/indep\n",
    "xi_n = measure.sum().sum()\n",
    "table = measure/xi_n\n",
    "sns.heatmap(table.iloc[:-1,:-1],annot=c.iloc[:-1,:-1])\n",
    "plt.show()"
   ]
  },
  {
   "cell_type": "markdown",
   "id": "8ad7144b",
   "metadata": {},
   "source": [
    "## 6. le lien entre l’âge des clients et le montant total des achats, la fréquence d’achat, la taille du panier moyen et les catégories des livres achetés"
   ]
  },
  {
   "cell_type": "code",
   "execution_count": 116,
   "id": "a999a846",
   "metadata": {},
   "outputs": [
    {
     "data": {
      "text/html": [
       "<div>\n",
       "<style scoped>\n",
       "    .dataframe tbody tr th:only-of-type {\n",
       "        vertical-align: middle;\n",
       "    }\n",
       "\n",
       "    .dataframe tbody tr th {\n",
       "        vertical-align: top;\n",
       "    }\n",
       "\n",
       "    .dataframe thead th {\n",
       "        text-align: right;\n",
       "    }\n",
       "</style>\n",
       "<table border=\"1\" class=\"dataframe\">\n",
       "  <thead>\n",
       "    <tr style=\"text-align: right;\">\n",
       "      <th></th>\n",
       "      <th>id_prod</th>\n",
       "      <th>date</th>\n",
       "      <th>session_id</th>\n",
       "      <th>client_id</th>\n",
       "      <th>price</th>\n",
       "      <th>categ</th>\n",
       "      <th>sex</th>\n",
       "      <th>birth</th>\n",
       "      <th>year</th>\n",
       "      <th>month</th>\n",
       "      <th>year_month</th>\n",
       "      <th>year_month_day</th>\n",
       "    </tr>\n",
       "  </thead>\n",
       "  <tbody>\n",
       "    <tr>\n",
       "      <th>0</th>\n",
       "      <td>0_1518</td>\n",
       "      <td>2022-05-20 13:21:29.043970</td>\n",
       "      <td>s_211425</td>\n",
       "      <td>c_103</td>\n",
       "      <td>4.18</td>\n",
       "      <td>0.0</td>\n",
       "      <td>f</td>\n",
       "      <td>1986</td>\n",
       "      <td>2022</td>\n",
       "      <td>5</td>\n",
       "      <td>2022-05</td>\n",
       "      <td>2022-05-20</td>\n",
       "    </tr>\n",
       "    <tr>\n",
       "      <th>1</th>\n",
       "      <td>1_251</td>\n",
       "      <td>2022-02-02 07:55:19.149409</td>\n",
       "      <td>s_158752</td>\n",
       "      <td>c_8534</td>\n",
       "      <td>15.99</td>\n",
       "      <td>1.0</td>\n",
       "      <td>m</td>\n",
       "      <td>1988</td>\n",
       "      <td>2022</td>\n",
       "      <td>2</td>\n",
       "      <td>2022-02</td>\n",
       "      <td>2022-02-02</td>\n",
       "    </tr>\n",
       "    <tr>\n",
       "      <th>2</th>\n",
       "      <td>0_1277</td>\n",
       "      <td>2022-06-18 15:44:33.155329</td>\n",
       "      <td>s_225667</td>\n",
       "      <td>c_6714</td>\n",
       "      <td>7.99</td>\n",
       "      <td>0.0</td>\n",
       "      <td>f</td>\n",
       "      <td>1968</td>\n",
       "      <td>2022</td>\n",
       "      <td>6</td>\n",
       "      <td>2022-06</td>\n",
       "      <td>2022-06-18</td>\n",
       "    </tr>\n",
       "    <tr>\n",
       "      <th>3</th>\n",
       "      <td>2_209</td>\n",
       "      <td>2021-06-24 04:19:29.835891</td>\n",
       "      <td>s_52962</td>\n",
       "      <td>c_6941</td>\n",
       "      <td>69.99</td>\n",
       "      <td>2.0</td>\n",
       "      <td>m</td>\n",
       "      <td>2000</td>\n",
       "      <td>2021</td>\n",
       "      <td>6</td>\n",
       "      <td>2021-06</td>\n",
       "      <td>2021-06-24</td>\n",
       "    </tr>\n",
       "    <tr>\n",
       "      <th>4</th>\n",
       "      <td>0_1509</td>\n",
       "      <td>2023-01-11 08:22:08.194479</td>\n",
       "      <td>s_325227</td>\n",
       "      <td>c_4232</td>\n",
       "      <td>4.99</td>\n",
       "      <td>0.0</td>\n",
       "      <td>m</td>\n",
       "      <td>1980</td>\n",
       "      <td>2023</td>\n",
       "      <td>1</td>\n",
       "      <td>2023-01</td>\n",
       "      <td>2023-01-11</td>\n",
       "    </tr>\n",
       "    <tr>\n",
       "      <th>...</th>\n",
       "      <td>...</td>\n",
       "      <td>...</td>\n",
       "      <td>...</td>\n",
       "      <td>...</td>\n",
       "      <td>...</td>\n",
       "      <td>...</td>\n",
       "      <td>...</td>\n",
       "      <td>...</td>\n",
       "      <td>...</td>\n",
       "      <td>...</td>\n",
       "      <td>...</td>\n",
       "      <td>...</td>\n",
       "    </tr>\n",
       "    <tr>\n",
       "      <th>679327</th>\n",
       "      <td>0_1551</td>\n",
       "      <td>2022-01-15 13:05:06.246925</td>\n",
       "      <td>s_150195</td>\n",
       "      <td>c_8489</td>\n",
       "      <td>12.99</td>\n",
       "      <td>0.0</td>\n",
       "      <td>f</td>\n",
       "      <td>1951</td>\n",
       "      <td>2022</td>\n",
       "      <td>1</td>\n",
       "      <td>2022-01</td>\n",
       "      <td>2022-01-15</td>\n",
       "    </tr>\n",
       "    <tr>\n",
       "      <th>679328</th>\n",
       "      <td>1_639</td>\n",
       "      <td>2022-03-19 16:03:23.429229</td>\n",
       "      <td>s_181434</td>\n",
       "      <td>c_4370</td>\n",
       "      <td>10.99</td>\n",
       "      <td>1.0</td>\n",
       "      <td>f</td>\n",
       "      <td>1977</td>\n",
       "      <td>2022</td>\n",
       "      <td>3</td>\n",
       "      <td>2022-03</td>\n",
       "      <td>2022-03-19</td>\n",
       "    </tr>\n",
       "    <tr>\n",
       "      <th>679329</th>\n",
       "      <td>0_1425</td>\n",
       "      <td>2022-12-20 04:33:37.584749</td>\n",
       "      <td>s_314704</td>\n",
       "      <td>c_304</td>\n",
       "      <td>12.99</td>\n",
       "      <td>0.0</td>\n",
       "      <td>f</td>\n",
       "      <td>1988</td>\n",
       "      <td>2022</td>\n",
       "      <td>12</td>\n",
       "      <td>2022-12</td>\n",
       "      <td>2022-12-20</td>\n",
       "    </tr>\n",
       "    <tr>\n",
       "      <th>679330</th>\n",
       "      <td>0_1994</td>\n",
       "      <td>2021-07-16 20:36:35.350579</td>\n",
       "      <td>s_63204</td>\n",
       "      <td>c_2227</td>\n",
       "      <td>4.98</td>\n",
       "      <td>0.0</td>\n",
       "      <td>m</td>\n",
       "      <td>1986</td>\n",
       "      <td>2021</td>\n",
       "      <td>7</td>\n",
       "      <td>2021-07</td>\n",
       "      <td>2021-07-16</td>\n",
       "    </tr>\n",
       "    <tr>\n",
       "      <th>679331</th>\n",
       "      <td>1_523</td>\n",
       "      <td>2022-09-28 01:12:01.973763</td>\n",
       "      <td>s_274568</td>\n",
       "      <td>c_3873</td>\n",
       "      <td>23.99</td>\n",
       "      <td>1.0</td>\n",
       "      <td>m</td>\n",
       "      <td>1995</td>\n",
       "      <td>2022</td>\n",
       "      <td>9</td>\n",
       "      <td>2022-09</td>\n",
       "      <td>2022-09-28</td>\n",
       "    </tr>\n",
       "  </tbody>\n",
       "</table>\n",
       "<p>679332 rows × 12 columns</p>\n",
       "</div>"
      ],
      "text/plain": [
       "       id_prod                       date session_id client_id  price  categ  \\\n",
       "0       0_1518 2022-05-20 13:21:29.043970   s_211425     c_103   4.18    0.0   \n",
       "1        1_251 2022-02-02 07:55:19.149409   s_158752    c_8534  15.99    1.0   \n",
       "2       0_1277 2022-06-18 15:44:33.155329   s_225667    c_6714   7.99    0.0   \n",
       "3        2_209 2021-06-24 04:19:29.835891    s_52962    c_6941  69.99    2.0   \n",
       "4       0_1509 2023-01-11 08:22:08.194479   s_325227    c_4232   4.99    0.0   \n",
       "...        ...                        ...        ...       ...    ...    ...   \n",
       "679327  0_1551 2022-01-15 13:05:06.246925   s_150195    c_8489  12.99    0.0   \n",
       "679328   1_639 2022-03-19 16:03:23.429229   s_181434    c_4370  10.99    1.0   \n",
       "679329  0_1425 2022-12-20 04:33:37.584749   s_314704     c_304  12.99    0.0   \n",
       "679330  0_1994 2021-07-16 20:36:35.350579    s_63204    c_2227   4.98    0.0   \n",
       "679331   1_523 2022-09-28 01:12:01.973763   s_274568    c_3873  23.99    1.0   \n",
       "\n",
       "       sex  birth  year  month year_month year_month_day  \n",
       "0        f   1986  2022      5    2022-05     2022-05-20  \n",
       "1        m   1988  2022      2    2022-02     2022-02-02  \n",
       "2        f   1968  2022      6    2022-06     2022-06-18  \n",
       "3        m   2000  2021      6    2021-06     2021-06-24  \n",
       "4        m   1980  2023      1    2023-01     2023-01-11  \n",
       "...     ..    ...   ...    ...        ...            ...  \n",
       "679327   f   1951  2022      1    2022-01     2022-01-15  \n",
       "679328   f   1977  2022      3    2022-03     2022-03-19  \n",
       "679329   f   1988  2022     12    2022-12     2022-12-20  \n",
       "679330   m   1986  2021      7    2021-07     2021-07-16  \n",
       "679331   m   1995  2022      9    2022-09     2022-09-28  \n",
       "\n",
       "[679332 rows x 12 columns]"
      ]
     },
     "execution_count": 116,
     "metadata": {},
     "output_type": "execute_result"
    }
   ],
   "source": [
    "df"
   ]
  },
  {
   "cell_type": "code",
   "execution_count": 117,
   "id": "bf44a86b",
   "metadata": {},
   "outputs": [],
   "source": [
    "# Creation of a new colume for clients' ages\n",
    "df['age']= 2022 - df['birth']"
   ]
  },
  {
   "cell_type": "code",
   "execution_count": 118,
   "id": "2d764957",
   "metadata": {},
   "outputs": [
    {
     "data": {
      "text/html": [
       "<div>\n",
       "<style scoped>\n",
       "    .dataframe tbody tr th:only-of-type {\n",
       "        vertical-align: middle;\n",
       "    }\n",
       "\n",
       "    .dataframe tbody tr th {\n",
       "        vertical-align: top;\n",
       "    }\n",
       "\n",
       "    .dataframe thead th {\n",
       "        text-align: right;\n",
       "    }\n",
       "</style>\n",
       "<table border=\"1\" class=\"dataframe\">\n",
       "  <thead>\n",
       "    <tr style=\"text-align: right;\">\n",
       "      <th></th>\n",
       "      <th>id_prod</th>\n",
       "      <th>date</th>\n",
       "      <th>session_id</th>\n",
       "      <th>client_id</th>\n",
       "      <th>price</th>\n",
       "      <th>categ</th>\n",
       "      <th>sex</th>\n",
       "      <th>birth</th>\n",
       "      <th>year</th>\n",
       "      <th>month</th>\n",
       "      <th>year_month</th>\n",
       "      <th>year_month_day</th>\n",
       "      <th>age</th>\n",
       "    </tr>\n",
       "  </thead>\n",
       "  <tbody>\n",
       "    <tr>\n",
       "      <th>0</th>\n",
       "      <td>0_1518</td>\n",
       "      <td>2022-05-20 13:21:29.043970</td>\n",
       "      <td>s_211425</td>\n",
       "      <td>c_103</td>\n",
       "      <td>4.18</td>\n",
       "      <td>0.0</td>\n",
       "      <td>f</td>\n",
       "      <td>1986</td>\n",
       "      <td>2022</td>\n",
       "      <td>5</td>\n",
       "      <td>2022-05</td>\n",
       "      <td>2022-05-20</td>\n",
       "      <td>36</td>\n",
       "    </tr>\n",
       "    <tr>\n",
       "      <th>1</th>\n",
       "      <td>1_251</td>\n",
       "      <td>2022-02-02 07:55:19.149409</td>\n",
       "      <td>s_158752</td>\n",
       "      <td>c_8534</td>\n",
       "      <td>15.99</td>\n",
       "      <td>1.0</td>\n",
       "      <td>m</td>\n",
       "      <td>1988</td>\n",
       "      <td>2022</td>\n",
       "      <td>2</td>\n",
       "      <td>2022-02</td>\n",
       "      <td>2022-02-02</td>\n",
       "      <td>34</td>\n",
       "    </tr>\n",
       "    <tr>\n",
       "      <th>2</th>\n",
       "      <td>0_1277</td>\n",
       "      <td>2022-06-18 15:44:33.155329</td>\n",
       "      <td>s_225667</td>\n",
       "      <td>c_6714</td>\n",
       "      <td>7.99</td>\n",
       "      <td>0.0</td>\n",
       "      <td>f</td>\n",
       "      <td>1968</td>\n",
       "      <td>2022</td>\n",
       "      <td>6</td>\n",
       "      <td>2022-06</td>\n",
       "      <td>2022-06-18</td>\n",
       "      <td>54</td>\n",
       "    </tr>\n",
       "    <tr>\n",
       "      <th>3</th>\n",
       "      <td>2_209</td>\n",
       "      <td>2021-06-24 04:19:29.835891</td>\n",
       "      <td>s_52962</td>\n",
       "      <td>c_6941</td>\n",
       "      <td>69.99</td>\n",
       "      <td>2.0</td>\n",
       "      <td>m</td>\n",
       "      <td>2000</td>\n",
       "      <td>2021</td>\n",
       "      <td>6</td>\n",
       "      <td>2021-06</td>\n",
       "      <td>2021-06-24</td>\n",
       "      <td>22</td>\n",
       "    </tr>\n",
       "    <tr>\n",
       "      <th>4</th>\n",
       "      <td>0_1509</td>\n",
       "      <td>2023-01-11 08:22:08.194479</td>\n",
       "      <td>s_325227</td>\n",
       "      <td>c_4232</td>\n",
       "      <td>4.99</td>\n",
       "      <td>0.0</td>\n",
       "      <td>m</td>\n",
       "      <td>1980</td>\n",
       "      <td>2023</td>\n",
       "      <td>1</td>\n",
       "      <td>2023-01</td>\n",
       "      <td>2023-01-11</td>\n",
       "      <td>42</td>\n",
       "    </tr>\n",
       "    <tr>\n",
       "      <th>...</th>\n",
       "      <td>...</td>\n",
       "      <td>...</td>\n",
       "      <td>...</td>\n",
       "      <td>...</td>\n",
       "      <td>...</td>\n",
       "      <td>...</td>\n",
       "      <td>...</td>\n",
       "      <td>...</td>\n",
       "      <td>...</td>\n",
       "      <td>...</td>\n",
       "      <td>...</td>\n",
       "      <td>...</td>\n",
       "      <td>...</td>\n",
       "    </tr>\n",
       "    <tr>\n",
       "      <th>679327</th>\n",
       "      <td>0_1551</td>\n",
       "      <td>2022-01-15 13:05:06.246925</td>\n",
       "      <td>s_150195</td>\n",
       "      <td>c_8489</td>\n",
       "      <td>12.99</td>\n",
       "      <td>0.0</td>\n",
       "      <td>f</td>\n",
       "      <td>1951</td>\n",
       "      <td>2022</td>\n",
       "      <td>1</td>\n",
       "      <td>2022-01</td>\n",
       "      <td>2022-01-15</td>\n",
       "      <td>71</td>\n",
       "    </tr>\n",
       "    <tr>\n",
       "      <th>679328</th>\n",
       "      <td>1_639</td>\n",
       "      <td>2022-03-19 16:03:23.429229</td>\n",
       "      <td>s_181434</td>\n",
       "      <td>c_4370</td>\n",
       "      <td>10.99</td>\n",
       "      <td>1.0</td>\n",
       "      <td>f</td>\n",
       "      <td>1977</td>\n",
       "      <td>2022</td>\n",
       "      <td>3</td>\n",
       "      <td>2022-03</td>\n",
       "      <td>2022-03-19</td>\n",
       "      <td>45</td>\n",
       "    </tr>\n",
       "    <tr>\n",
       "      <th>679329</th>\n",
       "      <td>0_1425</td>\n",
       "      <td>2022-12-20 04:33:37.584749</td>\n",
       "      <td>s_314704</td>\n",
       "      <td>c_304</td>\n",
       "      <td>12.99</td>\n",
       "      <td>0.0</td>\n",
       "      <td>f</td>\n",
       "      <td>1988</td>\n",
       "      <td>2022</td>\n",
       "      <td>12</td>\n",
       "      <td>2022-12</td>\n",
       "      <td>2022-12-20</td>\n",
       "      <td>34</td>\n",
       "    </tr>\n",
       "    <tr>\n",
       "      <th>679330</th>\n",
       "      <td>0_1994</td>\n",
       "      <td>2021-07-16 20:36:35.350579</td>\n",
       "      <td>s_63204</td>\n",
       "      <td>c_2227</td>\n",
       "      <td>4.98</td>\n",
       "      <td>0.0</td>\n",
       "      <td>m</td>\n",
       "      <td>1986</td>\n",
       "      <td>2021</td>\n",
       "      <td>7</td>\n",
       "      <td>2021-07</td>\n",
       "      <td>2021-07-16</td>\n",
       "      <td>36</td>\n",
       "    </tr>\n",
       "    <tr>\n",
       "      <th>679331</th>\n",
       "      <td>1_523</td>\n",
       "      <td>2022-09-28 01:12:01.973763</td>\n",
       "      <td>s_274568</td>\n",
       "      <td>c_3873</td>\n",
       "      <td>23.99</td>\n",
       "      <td>1.0</td>\n",
       "      <td>m</td>\n",
       "      <td>1995</td>\n",
       "      <td>2022</td>\n",
       "      <td>9</td>\n",
       "      <td>2022-09</td>\n",
       "      <td>2022-09-28</td>\n",
       "      <td>27</td>\n",
       "    </tr>\n",
       "  </tbody>\n",
       "</table>\n",
       "<p>679332 rows × 13 columns</p>\n",
       "</div>"
      ],
      "text/plain": [
       "       id_prod                       date session_id client_id  price  categ  \\\n",
       "0       0_1518 2022-05-20 13:21:29.043970   s_211425     c_103   4.18    0.0   \n",
       "1        1_251 2022-02-02 07:55:19.149409   s_158752    c_8534  15.99    1.0   \n",
       "2       0_1277 2022-06-18 15:44:33.155329   s_225667    c_6714   7.99    0.0   \n",
       "3        2_209 2021-06-24 04:19:29.835891    s_52962    c_6941  69.99    2.0   \n",
       "4       0_1509 2023-01-11 08:22:08.194479   s_325227    c_4232   4.99    0.0   \n",
       "...        ...                        ...        ...       ...    ...    ...   \n",
       "679327  0_1551 2022-01-15 13:05:06.246925   s_150195    c_8489  12.99    0.0   \n",
       "679328   1_639 2022-03-19 16:03:23.429229   s_181434    c_4370  10.99    1.0   \n",
       "679329  0_1425 2022-12-20 04:33:37.584749   s_314704     c_304  12.99    0.0   \n",
       "679330  0_1994 2021-07-16 20:36:35.350579    s_63204    c_2227   4.98    0.0   \n",
       "679331   1_523 2022-09-28 01:12:01.973763   s_274568    c_3873  23.99    1.0   \n",
       "\n",
       "       sex  birth  year  month year_month year_month_day  age  \n",
       "0        f   1986  2022      5    2022-05     2022-05-20   36  \n",
       "1        m   1988  2022      2    2022-02     2022-02-02   34  \n",
       "2        f   1968  2022      6    2022-06     2022-06-18   54  \n",
       "3        m   2000  2021      6    2021-06     2021-06-24   22  \n",
       "4        m   1980  2023      1    2023-01     2023-01-11   42  \n",
       "...     ..    ...   ...    ...        ...            ...  ...  \n",
       "679327   f   1951  2022      1    2022-01     2022-01-15   71  \n",
       "679328   f   1977  2022      3    2022-03     2022-03-19   45  \n",
       "679329   f   1988  2022     12    2022-12     2022-12-20   34  \n",
       "679330   m   1986  2021      7    2021-07     2021-07-16   36  \n",
       "679331   m   1995  2022      9    2022-09     2022-09-28   27  \n",
       "\n",
       "[679332 rows x 13 columns]"
      ]
     },
     "execution_count": 118,
     "metadata": {},
     "output_type": "execute_result"
    }
   ],
   "source": [
    "df"
   ]
  },
  {
   "cell_type": "code",
   "execution_count": 119,
   "id": "b0bb1a35",
   "metadata": {},
   "outputs": [
    {
     "data": {
      "text/plain": [
       "client_id  age\n",
       "c_1        67      39\n",
       "c_10       66      58\n",
       "c_100      30       8\n",
       "c_1000     56     125\n",
       "c_1001     40     102\n",
       "                 ... \n",
       "c_995      67      14\n",
       "c_996      52      95\n",
       "c_997      28      59\n",
       "c_998      21      53\n",
       "c_999      58      46\n",
       "Name: age, Length: 8600, dtype: int64"
      ]
     },
     "execution_count": 119,
     "metadata": {},
     "output_type": "execute_result"
    }
   ],
   "source": [
    "# creation of data to learn about the clients' ages\n",
    "dfage = df.groupby(['client_id'])['age'].value_counts()\n",
    "dfage"
   ]
  },
  {
   "cell_type": "code",
   "execution_count": 120,
   "id": "3093393e",
   "metadata": {},
   "outputs": [
    {
     "data": {
      "text/plain": [
       "<AxesSubplot:xlabel='age', ylabel='Count'>"
      ]
     },
     "execution_count": 120,
     "metadata": {},
     "output_type": "execute_result"
    },
    {
     "data": {
      "image/png": "[encoded data removed]",
      "text/plain": [
       "<Figure size 1080x720 with 1 Axes>"
      ]
     },
     "metadata": {
      "needs_background": "light"
     },
     "output_type": "display_data"
    }
   ],
   "source": [
    "# Clients' ages distribution, regroupe par 10 ans\n",
    "plt.figure(figsize=(15,10))\n",
    "sns.histplot(data=dfage, x=\"age\", binwidth=10)"
   ]
  },
  {
   "cell_type": "code",
   "execution_count": 121,
   "id": "74630fa2",
   "metadata": {},
   "outputs": [
    {
     "data": {
      "text/plain": [
       "<pandas.core.groupby.generic.DataFrameGroupBy object at 0x7fd988ab7e20>"
      ]
     },
     "execution_count": 121,
     "metadata": {},
     "output_type": "execute_result"
    }
   ],
   "source": [
    "dfclient = df.groupby(['client_id'])\n",
    "dfclient"
   ]
  },
  {
   "cell_type": "markdown",
   "id": "07609f74",
   "metadata": {},
   "source": [
    "### 6.1 le lien entre l’âge des clients et le montant total des achats"
   ]
  },
  {
   "cell_type": "code",
   "execution_count": 122,
   "id": "50341495",
   "metadata": {},
   "outputs": [
    {
     "data": {
      "text/html": [
       "<div>\n",
       "<style scoped>\n",
       "    .dataframe tbody tr th:only-of-type {\n",
       "        vertical-align: middle;\n",
       "    }\n",
       "\n",
       "    .dataframe tbody tr th {\n",
       "        vertical-align: top;\n",
       "    }\n",
       "\n",
       "    .dataframe thead th {\n",
       "        text-align: right;\n",
       "    }\n",
       "</style>\n",
       "<table border=\"1\" class=\"dataframe\">\n",
       "  <thead>\n",
       "    <tr style=\"text-align: right;\">\n",
       "      <th></th>\n",
       "      <th>age</th>\n",
       "      <th>price</th>\n",
       "    </tr>\n",
       "  </thead>\n",
       "  <tbody>\n",
       "    <tr>\n",
       "      <th>0</th>\n",
       "      <td>18</td>\n",
       "      <td>609013.69</td>\n",
       "    </tr>\n",
       "    <tr>\n",
       "      <th>1</th>\n",
       "      <td>19</td>\n",
       "      <td>178195.78</td>\n",
       "    </tr>\n",
       "    <tr>\n",
       "      <th>2</th>\n",
       "      <td>20</td>\n",
       "      <td>184177.35</td>\n",
       "    </tr>\n",
       "    <tr>\n",
       "      <th>3</th>\n",
       "      <td>21</td>\n",
       "      <td>178497.70</td>\n",
       "    </tr>\n",
       "    <tr>\n",
       "      <th>4</th>\n",
       "      <td>22</td>\n",
       "      <td>165007.98</td>\n",
       "    </tr>\n",
       "    <tr>\n",
       "      <th>...</th>\n",
       "      <td>...</td>\n",
       "      <td>...</td>\n",
       "    </tr>\n",
       "    <tr>\n",
       "      <th>71</th>\n",
       "      <td>89</td>\n",
       "      <td>5254.35</td>\n",
       "    </tr>\n",
       "    <tr>\n",
       "      <th>72</th>\n",
       "      <td>90</td>\n",
       "      <td>5043.19</td>\n",
       "    </tr>\n",
       "    <tr>\n",
       "      <th>73</th>\n",
       "      <td>91</td>\n",
       "      <td>2815.45</td>\n",
       "    </tr>\n",
       "    <tr>\n",
       "      <th>74</th>\n",
       "      <td>92</td>\n",
       "      <td>4013.87</td>\n",
       "    </tr>\n",
       "    <tr>\n",
       "      <th>75</th>\n",
       "      <td>93</td>\n",
       "      <td>3221.85</td>\n",
       "    </tr>\n",
       "  </tbody>\n",
       "</table>\n",
       "<p>76 rows × 2 columns</p>\n",
       "</div>"
      ],
      "text/plain": [
       "    age      price\n",
       "0    18  609013.69\n",
       "1    19  178195.78\n",
       "2    20  184177.35\n",
       "3    21  178497.70\n",
       "4    22  165007.98\n",
       "..  ...        ...\n",
       "71   89    5254.35\n",
       "72   90    5043.19\n",
       "73   91    2815.45\n",
       "74   92    4013.87\n",
       "75   93    3221.85\n",
       "\n",
       "[76 rows x 2 columns]"
      ]
     },
     "execution_count": 122,
     "metadata": {},
     "output_type": "execute_result"
    }
   ],
   "source": [
    "# montnat total des achats par groupe d'age\n",
    "dfam = df.groupby(['age'])['price'].sum().reset_index()\n",
    "dfam"
   ]
  },
  {
   "cell_type": "code",
   "execution_count": 123,
   "id": "10b8eb7e",
   "metadata": {},
   "outputs": [
    {
     "data": {
      "text/plain": [
       "<AxesSubplot:xlabel='age', ylabel='price'>"
      ]
     },
     "execution_count": 123,
     "metadata": {},
     "output_type": "execute_result"
    },
    {
     "data": {
      "image/png": "[encoded data removed]",
      "text/plain": [
       "<Figure size 1080x720 with 1 Axes>"
      ]
     },
     "metadata": {
      "needs_background": "light"
     },
     "output_type": "display_data"
    }
   ],
   "source": [
    "# montnat total des achats par age regroupé\n",
    "plt.figure(figsize=(15,10))\n",
    "sns.scatterplot(x=\"age\", y=\"price\", data=dfam)"
   ]
  },
  {
   "cell_type": "code",
   "execution_count": 124,
   "id": "ac9fa3e9",
   "metadata": {},
   "outputs": [
    {
     "name": "stdout",
     "output_type": "stream",
     "text": [
      "-0.2094647811017666\n",
      "-52.11952637337284\n"
     ]
    }
   ],
   "source": [
    "df = df.dropna() # supprimer les valeurs nulles\n",
    "print(st.pearsonr(df[\"age\"],df[\"price\"])[0])\n",
    "print(np.cov(df[\"age\"],df[\"price\"],ddof=0)[1,0])\n",
    "\n",
    "# D'apres les resultats, la corelation entre age et montant total n'est pas significative\n",
    "# une legere relation negative entre ces 2 elements, plus agé moins dépensé\n"
   ]
  },
  {
   "cell_type": "markdown",
   "id": "a88ecaf1",
   "metadata": {},
   "source": [
    "### 6.2 le lien entre l’âge des clients et la fréquence d’achat"
   ]
  },
  {
   "cell_type": "code",
   "execution_count": 140,
   "id": "6be1ed6d",
   "metadata": {},
   "outputs": [],
   "source": [
    "# creation of a data frame : age & frequency\n",
    "dfaf = df['age'].value_counts().reset_index()\n",
    "dfaf = dfaf.rename(columns={\"age\": \"frequency\", \"index\": \"age\"})"
   ]
  },
  {
   "cell_type": "code",
   "execution_count": 137,
   "id": "b3e49409",
   "metadata": {},
   "outputs": [
    {
     "data": {
      "text/html": [
       "<div>\n",
       "<style scoped>\n",
       "    .dataframe tbody tr th:only-of-type {\n",
       "        vertical-align: middle;\n",
       "    }\n",
       "\n",
       "    .dataframe tbody tr th {\n",
       "        vertical-align: top;\n",
       "    }\n",
       "\n",
       "    .dataframe thead th {\n",
       "        text-align: right;\n",
       "    }\n",
       "</style>\n",
       "<table border=\"1\" class=\"dataframe\">\n",
       "  <thead>\n",
       "    <tr style=\"text-align: right;\">\n",
       "      <th></th>\n",
       "      <th>age</th>\n",
       "      <th>frequency</th>\n",
       "    </tr>\n",
       "  </thead>\n",
       "  <tbody>\n",
       "    <tr>\n",
       "      <th>0</th>\n",
       "      <td>42</td>\n",
       "      <td>47409</td>\n",
       "    </tr>\n",
       "    <tr>\n",
       "      <th>1</th>\n",
       "      <td>34</td>\n",
       "      <td>25000</td>\n",
       "    </tr>\n",
       "    <tr>\n",
       "      <th>2</th>\n",
       "      <td>43</td>\n",
       "      <td>24878</td>\n",
       "    </tr>\n",
       "    <tr>\n",
       "      <th>3</th>\n",
       "      <td>44</td>\n",
       "      <td>24659</td>\n",
       "    </tr>\n",
       "    <tr>\n",
       "      <th>4</th>\n",
       "      <td>36</td>\n",
       "      <td>23465</td>\n",
       "    </tr>\n",
       "    <tr>\n",
       "      <th>...</th>\n",
       "      <td>...</td>\n",
       "      <td>...</td>\n",
       "    </tr>\n",
       "    <tr>\n",
       "      <th>71</th>\n",
       "      <td>90</td>\n",
       "      <td>311</td>\n",
       "    </tr>\n",
       "    <tr>\n",
       "      <th>72</th>\n",
       "      <td>87</td>\n",
       "      <td>271</td>\n",
       "    </tr>\n",
       "    <tr>\n",
       "      <th>73</th>\n",
       "      <td>92</td>\n",
       "      <td>226</td>\n",
       "    </tr>\n",
       "    <tr>\n",
       "      <th>74</th>\n",
       "      <td>93</td>\n",
       "      <td>201</td>\n",
       "    </tr>\n",
       "    <tr>\n",
       "      <th>75</th>\n",
       "      <td>91</td>\n",
       "      <td>170</td>\n",
       "    </tr>\n",
       "  </tbody>\n",
       "</table>\n",
       "<p>76 rows × 2 columns</p>\n",
       "</div>"
      ],
      "text/plain": [
       "    age  frequency\n",
       "0    42      47409\n",
       "1    34      25000\n",
       "2    43      24878\n",
       "3    44      24659\n",
       "4    36      23465\n",
       "..  ...        ...\n",
       "71   90        311\n",
       "72   87        271\n",
       "73   92        226\n",
       "74   93        201\n",
       "75   91        170\n",
       "\n",
       "[76 rows x 2 columns]"
      ]
     },
     "execution_count": 137,
     "metadata": {},
     "output_type": "execute_result"
    }
   ],
   "source": [
    "dfaf"
   ]
  },
  {
   "cell_type": "code",
   "execution_count": 142,
   "id": "3d92eaac",
   "metadata": {},
   "outputs": [
    {
     "data": {
      "text/plain": [
       "<AxesSubplot:xlabel='age', ylabel='frequency'>"
      ]
     },
     "execution_count": 142,
     "metadata": {},
     "output_type": "execute_result"
    },
    {
     "data": {
      "image/png": "[encoded data removed]",
      "text/plain": [
       "<Figure size 1080x720 with 1 Axes>"
      ]
     },
     "metadata": {
      "needs_background": "light"
     },
     "output_type": "display_data"
    }
   ],
   "source": [
    "plt.figure(figsize=(15,10))\n",
    "sns.scatterplot(x=\"age\", y=\"frequency\", data=dfaf)"
   ]
  },
  {
   "cell_type": "code",
   "execution_count": 141,
   "id": "45ad7bd8",
   "metadata": {},
   "outputs": [
    {
     "name": "stdout",
     "output_type": "stream",
     "text": [
      "-0.5337344271238333\n",
      "-101072.70394736843\n"
     ]
    }
   ],
   "source": [
    "print(st.pearsonr(dfaf[\"age\"],dfaf[\"frequency\"])[0])\n",
    "print(np.cov(dfaf[\"age\"],dfaf[\"frequency\"],ddof=0)[1,0])\n",
    "\n",
    "# D'apres les resultats, la corelation entre age et montant total n'est pas significative\n",
    "# une legere relation negative entre ces 2 elements, plus agé dépensé moins fréquemment"
   ]
  },
  {
   "cell_type": "markdown",
   "id": "580387ec",
   "metadata": {},
   "source": [
    "### 6.3 le lien entre l’âge des clients et la taille du panier moyen"
   ]
  },
  {
   "cell_type": "code",
   "execution_count": 147,
   "id": "d103b184",
   "metadata": {},
   "outputs": [
    {
     "data": {
      "text/html": [
       "<div>\n",
       "<style scoped>\n",
       "    .dataframe tbody tr th:only-of-type {\n",
       "        vertical-align: middle;\n",
       "    }\n",
       "\n",
       "    .dataframe tbody tr th {\n",
       "        vertical-align: top;\n",
       "    }\n",
       "\n",
       "    .dataframe thead th {\n",
       "        text-align: right;\n",
       "    }\n",
       "</style>\n",
       "<table border=\"1\" class=\"dataframe\">\n",
       "  <thead>\n",
       "    <tr style=\"text-align: right;\">\n",
       "      <th></th>\n",
       "      <th>age</th>\n",
       "      <th>price</th>\n",
       "      <th>frequency</th>\n",
       "      <th>pm</th>\n",
       "    </tr>\n",
       "  </thead>\n",
       "  <tbody>\n",
       "    <tr>\n",
       "      <th>0</th>\n",
       "      <td>18</td>\n",
       "      <td>609013.69</td>\n",
       "      <td>15149</td>\n",
       "      <td>40.201577</td>\n",
       "    </tr>\n",
       "    <tr>\n",
       "      <th>1</th>\n",
       "      <td>19</td>\n",
       "      <td>178195.78</td>\n",
       "      <td>4371</td>\n",
       "      <td>40.767737</td>\n",
       "    </tr>\n",
       "    <tr>\n",
       "      <th>2</th>\n",
       "      <td>20</td>\n",
       "      <td>184177.35</td>\n",
       "      <td>4584</td>\n",
       "      <td>40.178305</td>\n",
       "    </tr>\n",
       "    <tr>\n",
       "      <th>3</th>\n",
       "      <td>21</td>\n",
       "      <td>178497.70</td>\n",
       "      <td>4252</td>\n",
       "      <td>41.979704</td>\n",
       "    </tr>\n",
       "    <tr>\n",
       "      <th>4</th>\n",
       "      <td>22</td>\n",
       "      <td>165007.98</td>\n",
       "      <td>4413</td>\n",
       "      <td>37.391339</td>\n",
       "    </tr>\n",
       "    <tr>\n",
       "      <th>...</th>\n",
       "      <td>...</td>\n",
       "      <td>...</td>\n",
       "      <td>...</td>\n",
       "      <td>...</td>\n",
       "    </tr>\n",
       "    <tr>\n",
       "      <th>71</th>\n",
       "      <td>89</td>\n",
       "      <td>5254.35</td>\n",
       "      <td>326</td>\n",
       "      <td>16.117638</td>\n",
       "    </tr>\n",
       "    <tr>\n",
       "      <th>72</th>\n",
       "      <td>90</td>\n",
       "      <td>5043.19</td>\n",
       "      <td>311</td>\n",
       "      <td>16.216045</td>\n",
       "    </tr>\n",
       "    <tr>\n",
       "      <th>73</th>\n",
       "      <td>91</td>\n",
       "      <td>2815.45</td>\n",
       "      <td>170</td>\n",
       "      <td>16.561471</td>\n",
       "    </tr>\n",
       "    <tr>\n",
       "      <th>74</th>\n",
       "      <td>92</td>\n",
       "      <td>4013.87</td>\n",
       "      <td>226</td>\n",
       "      <td>17.760487</td>\n",
       "    </tr>\n",
       "    <tr>\n",
       "      <th>75</th>\n",
       "      <td>93</td>\n",
       "      <td>3221.85</td>\n",
       "      <td>201</td>\n",
       "      <td>16.029104</td>\n",
       "    </tr>\n",
       "  </tbody>\n",
       "</table>\n",
       "<p>76 rows × 4 columns</p>\n",
       "</div>"
      ],
      "text/plain": [
       "    age      price  frequency         pm\n",
       "0    18  609013.69      15149  40.201577\n",
       "1    19  178195.78       4371  40.767737\n",
       "2    20  184177.35       4584  40.178305\n",
       "3    21  178497.70       4252  41.979704\n",
       "4    22  165007.98       4413  37.391339\n",
       "..  ...        ...        ...        ...\n",
       "71   89    5254.35        326  16.117638\n",
       "72   90    5043.19        311  16.216045\n",
       "73   91    2815.45        170  16.561471\n",
       "74   92    4013.87        226  17.760487\n",
       "75   93    3221.85        201  16.029104\n",
       "\n",
       "[76 rows x 4 columns]"
      ]
     },
     "execution_count": 147,
     "metadata": {},
     "output_type": "execute_result"
    }
   ],
   "source": [
    "# Creation of a data frame with panier moyen\n",
    "dfapm = dfam.merge(dfaf, on = 'age')\n",
    "dfapm['pm']= dfapm['price']/dfapm['frequency']\n",
    "dfapm"
   ]
  },
  {
   "cell_type": "code",
   "execution_count": 148,
   "id": "e1caf376",
   "metadata": {},
   "outputs": [
    {
     "data": {
      "text/plain": [
       "<AxesSubplot:xlabel='age', ylabel='pm'>"
      ]
     },
     "execution_count": 148,
     "metadata": {},
     "output_type": "execute_result"
    },
    {
     "data": {
      "image/png": "[encoded data removed]",
      "text/plain": [
       "<Figure size 1080x720 with 1 Axes>"
      ]
     },
     "metadata": {
      "needs_background": "light"
     },
     "output_type": "display_data"
    }
   ],
   "source": [
    "plt.figure(figsize=(15,10))\n",
    "sns.scatterplot(x=\"age\", y=\"pm\", data=dfapm)\n",
    "\n",
    "# D'après le scatterplot, nous avons constaté 3 comportements très différents :\n",
    "# 1. Moins de 30 ans, panier moyen le plus haut, plus de 35 euros\n",
    "# 2. 30 - 50 ans, panier moyen le plus bas, panier moyen assez homogenre, en dessous de 15 euros\n",
    "# 2. Plus 50 ans, panier moyen assez homogenre, entre 15 et 20 euros"
   ]
  },
  {
   "cell_type": "markdown",
   "id": "b289b3f2",
   "metadata": {},
   "source": [
    "### 6.4 le lien entre l’âge des clients et les catégories des livres achetés"
   ]
  },
  {
   "cell_type": "code",
   "execution_count": 151,
   "id": "599c58c7",
   "metadata": {},
   "outputs": [
    {
     "data": {
      "text/html": [
       "<div>\n",
       "<style scoped>\n",
       "    .dataframe tbody tr th:only-of-type {\n",
       "        vertical-align: middle;\n",
       "    }\n",
       "\n",
       "    .dataframe tbody tr th {\n",
       "        vertical-align: top;\n",
       "    }\n",
       "\n",
       "    .dataframe thead th {\n",
       "        text-align: right;\n",
       "    }\n",
       "</style>\n",
       "<table border=\"1\" class=\"dataframe\">\n",
       "  <thead>\n",
       "    <tr style=\"text-align: right;\">\n",
       "      <th></th>\n",
       "      <th>id_prod</th>\n",
       "      <th>date</th>\n",
       "      <th>session_id</th>\n",
       "      <th>client_id</th>\n",
       "      <th>price</th>\n",
       "      <th>categ</th>\n",
       "      <th>sex</th>\n",
       "      <th>birth</th>\n",
       "      <th>year</th>\n",
       "      <th>month</th>\n",
       "      <th>year_month</th>\n",
       "      <th>year_month_day</th>\n",
       "      <th>age</th>\n",
       "    </tr>\n",
       "  </thead>\n",
       "  <tbody>\n",
       "    <tr>\n",
       "      <th>0</th>\n",
       "      <td>0_1518</td>\n",
       "      <td>2022-05-20 13:21:29.043970</td>\n",
       "      <td>s_211425</td>\n",
       "      <td>c_103</td>\n",
       "      <td>4.18</td>\n",
       "      <td>0.0</td>\n",
       "      <td>f</td>\n",
       "      <td>1986</td>\n",
       "      <td>2022</td>\n",
       "      <td>5</td>\n",
       "      <td>2022-05</td>\n",
       "      <td>2022-05-20</td>\n",
       "      <td>36</td>\n",
       "    </tr>\n",
       "    <tr>\n",
       "      <th>1</th>\n",
       "      <td>1_251</td>\n",
       "      <td>2022-02-02 07:55:19.149409</td>\n",
       "      <td>s_158752</td>\n",
       "      <td>c_8534</td>\n",
       "      <td>15.99</td>\n",
       "      <td>1.0</td>\n",
       "      <td>m</td>\n",
       "      <td>1988</td>\n",
       "      <td>2022</td>\n",
       "      <td>2</td>\n",
       "      <td>2022-02</td>\n",
       "      <td>2022-02-02</td>\n",
       "      <td>34</td>\n",
       "    </tr>\n",
       "    <tr>\n",
       "      <th>2</th>\n",
       "      <td>0_1277</td>\n",
       "      <td>2022-06-18 15:44:33.155329</td>\n",
       "      <td>s_225667</td>\n",
       "      <td>c_6714</td>\n",
       "      <td>7.99</td>\n",
       "      <td>0.0</td>\n",
       "      <td>f</td>\n",
       "      <td>1968</td>\n",
       "      <td>2022</td>\n",
       "      <td>6</td>\n",
       "      <td>2022-06</td>\n",
       "      <td>2022-06-18</td>\n",
       "      <td>54</td>\n",
       "    </tr>\n",
       "    <tr>\n",
       "      <th>3</th>\n",
       "      <td>2_209</td>\n",
       "      <td>2021-06-24 04:19:29.835891</td>\n",
       "      <td>s_52962</td>\n",
       "      <td>c_6941</td>\n",
       "      <td>69.99</td>\n",
       "      <td>2.0</td>\n",
       "      <td>m</td>\n",
       "      <td>2000</td>\n",
       "      <td>2021</td>\n",
       "      <td>6</td>\n",
       "      <td>2021-06</td>\n",
       "      <td>2021-06-24</td>\n",
       "      <td>22</td>\n",
       "    </tr>\n",
       "    <tr>\n",
       "      <th>4</th>\n",
       "      <td>0_1509</td>\n",
       "      <td>2023-01-11 08:22:08.194479</td>\n",
       "      <td>s_325227</td>\n",
       "      <td>c_4232</td>\n",
       "      <td>4.99</td>\n",
       "      <td>0.0</td>\n",
       "      <td>m</td>\n",
       "      <td>1980</td>\n",
       "      <td>2023</td>\n",
       "      <td>1</td>\n",
       "      <td>2023-01</td>\n",
       "      <td>2023-01-11</td>\n",
       "      <td>42</td>\n",
       "    </tr>\n",
       "    <tr>\n",
       "      <th>...</th>\n",
       "      <td>...</td>\n",
       "      <td>...</td>\n",
       "      <td>...</td>\n",
       "      <td>...</td>\n",
       "      <td>...</td>\n",
       "      <td>...</td>\n",
       "      <td>...</td>\n",
       "      <td>...</td>\n",
       "      <td>...</td>\n",
       "      <td>...</td>\n",
       "      <td>...</td>\n",
       "      <td>...</td>\n",
       "      <td>...</td>\n",
       "    </tr>\n",
       "    <tr>\n",
       "      <th>679327</th>\n",
       "      <td>0_1551</td>\n",
       "      <td>2022-01-15 13:05:06.246925</td>\n",
       "      <td>s_150195</td>\n",
       "      <td>c_8489</td>\n",
       "      <td>12.99</td>\n",
       "      <td>0.0</td>\n",
       "      <td>f</td>\n",
       "      <td>1951</td>\n",
       "      <td>2022</td>\n",
       "      <td>1</td>\n",
       "      <td>2022-01</td>\n",
       "      <td>2022-01-15</td>\n",
       "      <td>71</td>\n",
       "    </tr>\n",
       "    <tr>\n",
       "      <th>679328</th>\n",
       "      <td>1_639</td>\n",
       "      <td>2022-03-19 16:03:23.429229</td>\n",
       "      <td>s_181434</td>\n",
       "      <td>c_4370</td>\n",
       "      <td>10.99</td>\n",
       "      <td>1.0</td>\n",
       "      <td>f</td>\n",
       "      <td>1977</td>\n",
       "      <td>2022</td>\n",
       "      <td>3</td>\n",
       "      <td>2022-03</td>\n",
       "      <td>2022-03-19</td>\n",
       "      <td>45</td>\n",
       "    </tr>\n",
       "    <tr>\n",
       "      <th>679329</th>\n",
       "      <td>0_1425</td>\n",
       "      <td>2022-12-20 04:33:37.584749</td>\n",
       "      <td>s_314704</td>\n",
       "      <td>c_304</td>\n",
       "      <td>12.99</td>\n",
       "      <td>0.0</td>\n",
       "      <td>f</td>\n",
       "      <td>1988</td>\n",
       "      <td>2022</td>\n",
       "      <td>12</td>\n",
       "      <td>2022-12</td>\n",
       "      <td>2022-12-20</td>\n",
       "      <td>34</td>\n",
       "    </tr>\n",
       "    <tr>\n",
       "      <th>679330</th>\n",
       "      <td>0_1994</td>\n",
       "      <td>2021-07-16 20:36:35.350579</td>\n",
       "      <td>s_63204</td>\n",
       "      <td>c_2227</td>\n",
       "      <td>4.98</td>\n",
       "      <td>0.0</td>\n",
       "      <td>m</td>\n",
       "      <td>1986</td>\n",
       "      <td>2021</td>\n",
       "      <td>7</td>\n",
       "      <td>2021-07</td>\n",
       "      <td>2021-07-16</td>\n",
       "      <td>36</td>\n",
       "    </tr>\n",
       "    <tr>\n",
       "      <th>679331</th>\n",
       "      <td>1_523</td>\n",
       "      <td>2022-09-28 01:12:01.973763</td>\n",
       "      <td>s_274568</td>\n",
       "      <td>c_3873</td>\n",
       "      <td>23.99</td>\n",
       "      <td>1.0</td>\n",
       "      <td>m</td>\n",
       "      <td>1995</td>\n",
       "      <td>2022</td>\n",
       "      <td>9</td>\n",
       "      <td>2022-09</td>\n",
       "      <td>2022-09-28</td>\n",
       "      <td>27</td>\n",
       "    </tr>\n",
       "  </tbody>\n",
       "</table>\n",
       "<p>679111 rows × 13 columns</p>\n",
       "</div>"
      ],
      "text/plain": [
       "       id_prod                       date session_id client_id  price  categ  \\\n",
       "0       0_1518 2022-05-20 13:21:29.043970   s_211425     c_103   4.18    0.0   \n",
       "1        1_251 2022-02-02 07:55:19.149409   s_158752    c_8534  15.99    1.0   \n",
       "2       0_1277 2022-06-18 15:44:33.155329   s_225667    c_6714   7.99    0.0   \n",
       "3        2_209 2021-06-24 04:19:29.835891    s_52962    c_6941  69.99    2.0   \n",
       "4       0_1509 2023-01-11 08:22:08.194479   s_325227    c_4232   4.99    0.0   \n",
       "...        ...                        ...        ...       ...    ...    ...   \n",
       "679327  0_1551 2022-01-15 13:05:06.246925   s_150195    c_8489  12.99    0.0   \n",
       "679328   1_639 2022-03-19 16:03:23.429229   s_181434    c_4370  10.99    1.0   \n",
       "679329  0_1425 2022-12-20 04:33:37.584749   s_314704     c_304  12.99    0.0   \n",
       "679330  0_1994 2021-07-16 20:36:35.350579    s_63204    c_2227   4.98    0.0   \n",
       "679331   1_523 2022-09-28 01:12:01.973763   s_274568    c_3873  23.99    1.0   \n",
       "\n",
       "       sex  birth  year  month year_month year_month_day  age  \n",
       "0        f   1986  2022      5    2022-05     2022-05-20   36  \n",
       "1        m   1988  2022      2    2022-02     2022-02-02   34  \n",
       "2        f   1968  2022      6    2022-06     2022-06-18   54  \n",
       "3        m   2000  2021      6    2021-06     2021-06-24   22  \n",
       "4        m   1980  2023      1    2023-01     2023-01-11   42  \n",
       "...     ..    ...   ...    ...        ...            ...  ...  \n",
       "679327   f   1951  2022      1    2022-01     2022-01-15   71  \n",
       "679328   f   1977  2022      3    2022-03     2022-03-19   45  \n",
       "679329   f   1988  2022     12    2022-12     2022-12-20   34  \n",
       "679330   m   1986  2021      7    2021-07     2021-07-16   36  \n",
       "679331   m   1995  2022      9    2022-09     2022-09-28   27  \n",
       "\n",
       "[679111 rows x 13 columns]"
      ]
     },
     "execution_count": 151,
     "metadata": {},
     "output_type": "execute_result"
    }
   ],
   "source": [
    "df"
   ]
  },
  {
   "cell_type": "code",
   "execution_count": 155,
   "id": "c2f9f658",
   "metadata": {},
   "outputs": [
    {
     "data": {
      "image/png": "[encoded data removed]",
      "text/plain": [
       "<Figure size 432x288 with 1 Axes>"
      ]
     },
     "metadata": {
      "needs_background": "light"
     },
     "output_type": "display_data"
    }
   ],
   "source": [
    "# Utiliser methode ANOVA\n",
    "Y = \"categ\" # qualitative\n",
    "Z = \"age\" # quantitative\n",
    "\n",
    "modalites = df[Y].unique()\n",
    "groupes = []\n",
    "for m in modalites:\n",
    "    groupes.append(df[df[Y]==m][Z])\n",
    "\n",
    "# Propriétés graphiques (pas très importantes)    \n",
    "medianprops = {'color':\"black\"}\n",
    "meanprops = {'marker':'o', 'markeredgecolor':'black',\n",
    "            'markerfacecolor':'firebrick'}\n",
    "    \n",
    "plt.boxplot(groupes, labels=modalites, showfliers=False, medianprops=medianprops, \n",
    "            vert=False, patch_artist=True, showmeans=True, meanprops=meanprops)\n",
    "plt.show()\n",
    "\n",
    "# Les clients dans les 30 ans preferent le produit du categorie 2\n",
    "# Les clients dans les 45 ans preferent le produit du categorie 0\n",
    "# Les clients dans les 50 ans preferent le produit du categorie 1\n",
    "# le produit du categorie 1 a une popularite sur les clients de tous les ages\n",
    "# le produit du categorie 2 attire particulierement les clients jeunes de moins de 40 ans"
   ]
  },
  {
   "cell_type": "code",
   "execution_count": 159,
   "id": "bbcd4287",
   "metadata": {},
   "outputs": [
    {
     "data": {
      "text/plain": [
       "0.11903391947235277"
      ]
     },
     "execution_count": 159,
     "metadata": {},
     "output_type": "execute_result"
    }
   ],
   "source": [
    "Y = \"categ\" # qualitative\n",
    "Z = \"age\" # quantitative\n",
    "\n",
    "\n",
    "def eta_squared(y,z):\n",
    "    moyenne_z = z.mean()\n",
    "    classes = []\n",
    "    for classe in y.unique():\n",
    "        yi_classe = z[y==classe]\n",
    "        classes.append({'ni': len(yi_classe),\n",
    "                        'moyenne_classe': yi_classe.mean()})\n",
    "    SCT = sum([(yj-moyenne_z)**2 for yj in z])\n",
    "    SCE = sum([c['ni']*(c['moyenne_classe']-moyenne_z)**2 for c in classes])\n",
    "    return SCE/SCT\n",
    "    \n",
    "eta_squared(df[Y],df[Z])\n",
    "\n",
    "# ANOVA - (Partial) Eta Squared\n",
    "# η2 = 0.01 indicates a small effect; η2 = 0.06 indicates a medium effect; η2 = 0.14 indicates a large effect.\n",
    "# comme notre η2 est 0.12, qui montre qu'il y a une forte lien entre age et categorie d'achat"
   ]
  },
  {
   "cell_type": "code",
   "execution_count": null,
   "id": "50d86eb3",
   "metadata": {},
   "outputs": [],
   "source": []
  }
 ],
 "metadata": {
  "kernelspec": {
   "display_name": "Python 3 (ipykernel)",
   "language": "python",
   "name": "python3"
  },
  "language_info": {
   "codemirror_mode": {
    "name": "ipython",
    "version": 3
   },
   "file_extension": ".py",
   "mimetype": "text/x-python",
   "name": "python",
   "nbconvert_exporter": "python",
   "pygments_lexer": "ipython3",
   "version": "3.9.15"
  }
 },
 "nbformat": 4,
 "nbformat_minor": 5
}
